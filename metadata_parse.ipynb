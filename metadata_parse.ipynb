{
 "cells": [
  {
   "cell_type": "code",
   "id": "initial_id",
   "metadata": {
    "collapsed": true,
    "ExecuteTime": {
     "end_time": "2025-07-10T23:35:54.144534Z",
     "start_time": "2025-07-10T23:35:53.097344Z"
    }
   },
   "source": [
    "import os\n",
    "import pandas as pd\n",
    "from ete3 import NCBITaxa\n",
    "import biothings_client as bt\n",
    "import tarfile\n",
    "import csv\n",
    "import gzip\n",
    "\n",
    "from micro_disease_parser import line_generator_4_midi, get_taxon_info, load_merged_from_tar, get_current_taxid\n",
    "from micro_meta_parser import line_generator, get_bigg_metabolite_mapping\n",
    "from data_utils import check_missing_data"
   ],
   "outputs": [],
   "execution_count": 1
  },
  {
   "metadata": {
    "ExecuteTime": {
     "end_time": "2025-07-10T23:35:54.572980Z",
     "start_time": "2025-07-10T23:35:54.567410Z"
    }
   },
   "cell_type": "code",
   "source": "os.getcwd()",
   "id": "e256ce5a2cabace6",
   "outputs": [
    {
     "data": {
      "text/plain": [
       "'/Users/bailinzhang/Documents/Wu_Lab/Projects/GMMAD2'"
      ]
     },
     "execution_count": 2,
     "metadata": {},
     "output_type": "execute_result"
    }
   ],
   "execution_count": 2
  },
  {
   "metadata": {},
   "cell_type": "markdown",
   "source": "## Microbe-Disease",
   "id": "5ca17a9d719245a0"
  },
  {
   "metadata": {},
   "cell_type": "code",
   "source": [
    "with open(os.path.join(\"downloads\", \"disease_species.csv\"), \"r\") as f:\n",
    "    for i, line in enumerate(f, start=1):\n",
    "        if i == 4:\n",
    "            print(len(line.strip().split(\",\")))\n",
    "            print(line)\n",
    "            break"
   ],
   "id": "b8ca0bf20a5b40b0",
   "outputs": [],
   "execution_count": null
  },
  {
   "metadata": {},
   "cell_type": "code",
   "source": [
    "micro_disease_path = os.path.join(\"downloads\", \"disease_species.csv\")\n",
    "micro_disease = line_generator(micro_disease_path)\n",
    "for i, line in enumerate(micro_disease):\n",
    "    if i == 3:\n",
    "        print(len(line))\n",
    "        print(line)\n",
    "    elif i == 15:\n",
    "        print(len(line))\n",
    "        print(line)\n",
    "    elif i == 16:\n",
    "        print(len(line))\n",
    "        print(line)\n",
    "        break"
   ],
   "id": "e08486b7b35705ec",
   "outputs": [],
   "execution_count": null
  },
  {
   "metadata": {},
   "cell_type": "code",
   "source": [
    "taxids = [line[5] for line in line_generator(micro_disease_path)]\n",
    "print(len(set(taxids)))"
   ],
   "id": "abd2a2d2f6f46681",
   "outputs": [],
   "execution_count": null
  },
  {
   "metadata": {},
   "cell_type": "code",
   "source": [
    "notfound = [\n",
    "    taxon[\"query\"]\n",
    "    for taxon in get_taxon_info(micro_disease_path)\n",
    "    if \"notfound\" in taxon.keys()\n",
    "]"
   ],
   "id": "304667571d9b9e72",
   "outputs": [],
   "execution_count": null
  },
  {
   "metadata": {},
   "cell_type": "code",
   "source": [
    "print(len(notfound))\n",
    "print(len(set(notfound)))"
   ],
   "id": "9013cc98a088bea5",
   "outputs": [],
   "execution_count": null
  },
  {
   "metadata": {},
   "cell_type": "code",
   "source": [
    "mapping = load_merged_from_tar(\"taxdump.tar.gz\")\n",
    "mapped_taxid = get_current_taxid(notfound, mapping)"
   ],
   "id": "6e20f0d6aa8cbe34",
   "outputs": [],
   "execution_count": null
  },
  {
   "metadata": {},
   "cell_type": "code",
   "source": [
    "if \"194866\" in mapping:\n",
    "    print(\"194866 is in the mapping\")\n",
    "    print(f\"current taxid for 194866: {mapping['194866']}\")\n",
    "else:\n",
    "    print(\"194866 is not in the mapping\")"
   ],
   "id": "962bd7beb66f230b",
   "outputs": [],
   "execution_count": null
  },
  {
   "metadata": {},
   "cell_type": "code",
   "source": "len(mapped_taxid)",
   "id": "db5919055a656b8",
   "outputs": [],
   "execution_count": null
  },
  {
   "metadata": {},
   "cell_type": "code",
   "source": [
    "new_taxids = [new for old, new in mapped_taxid.items()]\n",
    "print(len(new_taxids))\n",
    "print(len(set(new_taxids)))"
   ],
   "id": "852ff1c20351b0c5",
   "outputs": [],
   "execution_count": null
  },
  {
   "metadata": {},
   "cell_type": "code",
   "source": "print(set(new_taxids))",
   "id": "5530646e68b85c12",
   "outputs": [],
   "execution_count": null
  },
  {
   "metadata": {},
   "cell_type": "code",
   "source": [
    "still_notfound = [taxid for taxid in notfound if taxid not in mapped_taxid.keys()]\n",
    "print(len(still_notfound))"
   ],
   "id": "f10d9be783831eb0",
   "outputs": [],
   "execution_count": null
  },
  {
   "metadata": {},
   "cell_type": "code",
   "source": [
    "new_taxid_mapped = get_taxon_info(new_taxids)\n",
    "new_taxid_mapped"
   ],
   "id": "aa48d7d19fecc440",
   "outputs": [],
   "execution_count": null
  },
  {
   "metadata": {},
   "cell_type": "code",
   "source": [
    "_ids = [taxon[\"query\"] for taxon in new_taxid_mapped]\n",
    "still_notfound = [taxid for taxid in new_taxids if taxid not in _ids]"
   ],
   "id": "2437673cc7b7d63f",
   "outputs": [],
   "execution_count": null
  },
  {
   "metadata": {},
   "cell_type": "code",
   "source": "len(set(_ids))",
   "id": "1417d573aea8f284",
   "outputs": [],
   "execution_count": null
  },
  {
   "metadata": {},
   "cell_type": "code",
   "source": [
    "taxids = sorted([line[5] for line in line_generator(micro_disease_path)])\n",
    "print(len(taxids))\n",
    "print(len(set(taxids)))"
   ],
   "id": "9b1795b0195fd889",
   "outputs": [],
   "execution_count": null
  },
  {
   "metadata": {},
   "cell_type": "code",
   "source": "",
   "id": "17559d464f7169e3",
   "outputs": [],
   "execution_count": null
  },
  {
   "metadata": {},
   "cell_type": "markdown",
   "source": "## Microbe-Metabolite",
   "id": "3f235309857942fd"
  },
  {
   "metadata": {},
   "cell_type": "code",
   "source": "micro_meta_df = pd.read_csv(os.path.join(\"downloads\", \"micro_metabolic.csv\"), low_memory=False)",
   "id": "a222335b4cad7dc5",
   "outputs": [],
   "execution_count": null
  },
  {
   "metadata": {},
   "cell_type": "code",
   "source": [
    "micro_meta_col_map = dict(enumerate(micro_meta_df.columns))\n",
    "micro_meta_col_map"
   ],
   "id": "75067dd8b16229d1",
   "outputs": [],
   "execution_count": null
  },
  {
   "metadata": {},
   "cell_type": "code",
   "source": [
    "micro_meta = [line for line in line_generator(os.path.join(\"downloads\", \"micro_metabolic.csv\"))]\n",
    "for i, line in enumerate(micro_meta):\n",
    "    if i == 4:\n",
    "        print(len(line))\n",
    "        print(line)\n",
    "    elif i == 500:\n",
    "        print(len(line))\n",
    "        print(line)\n",
    "    elif i == 1480:\n",
    "        print(len(line))\n",
    "        print(line)\n",
    "        break"
   ],
   "id": "6afe24fc26597f14",
   "outputs": [],
   "execution_count": null
  },
  {
   "metadata": {},
   "cell_type": "code",
   "source": [
    "for i, line in enumerate(micro_meta):\n",
    "    if len(line) != 21:\n",
    "        print(f\"Line {i} has {len(line)} columns: {line}\")"
   ],
   "id": "aea27f1c409abab3",
   "outputs": [],
   "execution_count": null
  },
  {
   "metadata": {},
   "cell_type": "code",
   "source": [
    "no_chem_id = []\n",
    "for line in micro_meta:\n",
    "    if \"not available\" in line[6] and \"not available\" in line[19]:\n",
    "        no_chem_id.append(line[4])\n",
    "print(len(no_chem_id))"
   ],
   "id": "5c8f641a3948fc62",
   "outputs": [],
   "execution_count": null
  },
  {
   "metadata": {},
   "cell_type": "code",
   "source": "print(len(set(no_chem_id)))",
   "id": "f71cb9a4847e82e3",
   "outputs": [],
   "execution_count": null
  },
  {
   "metadata": {},
   "cell_type": "code",
   "source": [
    "pubchem_cids = [line[6] for line in micro_meta if \"not available\" not in line[6]]\n",
    "print(len(set(pubchem_cids)))"
   ],
   "id": "c1c68ac78fc9d81c",
   "outputs": [],
   "execution_count": null
  },
  {
   "metadata": {},
   "cell_type": "code",
   "source": [
    "hmdb_ids = [line[19] for line in micro_meta if \"not available\" not in line[19] and \"not available\" in line[6]]\n",
    "print(len(set(hmdb_ids)))"
   ],
   "id": "8a5da9fe38342fd9",
   "outputs": [],
   "execution_count": null
  },
  {
   "metadata": {},
   "cell_type": "code",
   "source": [
    "total_metabolites = [line[4] for line in micro_meta]\n",
    "print(len(set(total_metabolites)))"
   ],
   "id": "d0b39de081663033",
   "outputs": [],
   "execution_count": null
  },
  {
   "metadata": {},
   "cell_type": "code",
   "source": "",
   "id": "64f6d46e2117d152",
   "outputs": [],
   "execution_count": null
  },
  {
   "metadata": {},
   "cell_type": "code",
   "source": "bigg_mapped = get_bigg_metabolite_mapping(os.path.join(\"downloads\", \"bigg_models_metabolites.txt\"))",
   "id": "1ebb543446010297",
   "outputs": [],
   "execution_count": null
  },
  {
   "metadata": {},
   "cell_type": "code",
   "source": "len(bigg_mapped)",
   "id": "6492647618a1081f",
   "outputs": [],
   "execution_count": null
  },
  {
   "metadata": {},
   "cell_type": "code",
   "source": "bigg_mapped_ids = [name.lower() for name in set(no_chem_id) if name.lower() in bigg_mapped]",
   "id": "90bb8383b72135ae",
   "outputs": [],
   "execution_count": null
  },
  {
   "metadata": {},
   "cell_type": "code",
   "source": "len(bigg_mapped_ids)",
   "id": "3fec4de6d2f2d15d",
   "outputs": [],
   "execution_count": null
  },
  {
   "metadata": {},
   "cell_type": "code",
   "source": "set(no_chem_id)",
   "id": "74dfafe76bc1683d",
   "outputs": [],
   "execution_count": null
  },
  {
   "metadata": {},
   "cell_type": "code",
   "source": "",
   "id": "ce756533a3409339",
   "outputs": [],
   "execution_count": null
  },
  {
   "metadata": {},
   "cell_type": "markdown",
   "source": "## Metabolite - Gene",
   "id": "acac041c670e0703"
  },
  {
   "metadata": {
    "ExecuteTime": {
     "end_time": "2025-07-10T23:35:57.400289Z",
     "start_time": "2025-07-10T23:35:57.078637Z"
    }
   },
   "cell_type": "code",
   "source": "meta_gene_df = pd.read_csv(os.path.join(\"downloads\", \"meta_gene_net.csv\"), low_memory=False)",
   "id": "47bed473d19a6278",
   "outputs": [],
   "execution_count": 3
  },
  {
   "metadata": {
    "ExecuteTime": {
     "end_time": "2025-07-10T23:35:57.449833Z",
     "start_time": "2025-07-10T23:35:57.446751Z"
    }
   },
   "cell_type": "code",
   "source": "dict(enumerate(meta_gene_df.columns))",
   "id": "c67271343f8a0172",
   "outputs": [
    {
     "data": {
      "text/plain": [
       "{0: 'id',\n",
       " 1: 'g_meta',\n",
       " 2: 'compound',\n",
       " 3: 'pubchem_id',\n",
       " 4: 'formula',\n",
       " 5: 'kegg_id',\n",
       " 6: 'HMDBID',\n",
       " 7: 'drug_id',\n",
       " 8: 'drug_name',\n",
       " 9: 'Origin',\n",
       " 10: 'smiles_sequence',\n",
       " 11: 'gene_id',\n",
       " 12: 'gene',\n",
       " 13: 'ensembl_id',\n",
       " 14: 'NCBI',\n",
       " 15: 'HGNC',\n",
       " 16: 'UniProt',\n",
       " 17: 'protein_size',\n",
       " 18: 'annonation',\n",
       " 19: 'score',\n",
       " 20: 'alteration',\n",
       " 21: 'PMID',\n",
       " 22: 'source'}"
      ]
     },
     "execution_count": 4,
     "metadata": {},
     "output_type": "execute_result"
    }
   ],
   "execution_count": 4
  },
  {
   "metadata": {
    "ExecuteTime": {
     "end_time": "2025-07-10T23:35:58.389806Z",
     "start_time": "2025-07-10T23:35:57.896038Z"
    }
   },
   "cell_type": "code",
   "source": "meta_gene_data = [line for line in line_generator(os.path.join(\"downloads\", \"meta_gene_net.csv\"))]",
   "id": "7b2ac6c68345d03e",
   "outputs": [],
   "execution_count": 5
  },
  {
   "metadata": {
    "ExecuteTime": {
     "end_time": "2025-07-10T23:35:58.509345Z",
     "start_time": "2025-07-10T23:35:58.496574Z"
    }
   },
   "cell_type": "code",
   "source": [
    "for i, line in enumerate(meta_gene_data):\n",
    "    if i == 2:\n",
    "        print(len(line))\n",
    "        print(line)\n",
    "    elif i == 1000:\n",
    "        print(len(line))\n",
    "        print(line)\n",
    "    elif i == 2000:\n",
    "        print(len(line))\n",
    "        print(line)"
   ],
   "id": "2d86606f27474546",
   "outputs": [
    {
     "name": "stdout",
     "output_type": "stream",
     "text": [
      "23\n",
      "['3', 'meta2', '(1,6-alpha-D-Glucosyl)m', '3662', '(C12H20O10)n', 'C00372', 'not available', 'Not available', 'Not available', 'Microbiota; Food related; Drug related', 'CC(C)C(=O)C12C(=O)C(=C(C(C1=O)(CC(C2(C)CCC=C(C)C)CC=C(C)C)CC=C(C)C)O)CC=C(C)C', 'g1758', 'CXCL8', 'ENSG00000169429', '3576', '6025', 'P10145', '99', 'The protein encoded by this gene is a member of the CXC chemokine family and is a major mediator of the inflammatory response. The encoded protein is commonly referred to as interleukin-8 (IL-8). IL-8 is secreted by mononuclear macrophages, neutrophils, eosinophils, T lymphocytes, epithelial cells, and fibroblasts. It functions as a chemotactic factor by guiding the neutrophils to the site of infection. Bacterial and viral products rapidly induce IL-8 expression. IL-8 also participates with other cytokines in the proinflammatory signaling cascade and plays a role in systemic inflammatory response syndrome (SIRS). This gene is believed to play a role in the pathogenesis of the lower respiratory tract infection bronchiolitis, a common respiratory tract disease caused by the respiratory syncytial virus (RSV). The overproduction of this proinflammatory protein is thought to cause the lung inflammation associated with csytic fibrosis. This proinflammatory protein is also suspected of playing a role in coronary artery disease and endothelial dysfunction. This protein is also secreted by tumor cells and promotes tumor migration, invasion, angiogenesis and metastasis. This chemokine is also a potent angiogenic factor. The binding of IL-8 to one of its receptors (IL-8RB/CXCR2) increases the permeability of blood vessels and increasing levels of IL-8 are positively correlated with increased severity of multiple disease outcomes (eg, sepsis). This gene and other members of the CXC chemokine gene family form a gene cluster in a region of chromosome 4q. [provided by RefSeq, May 2020]', '0.938', 'Unknown', 'Not available', 'stitch']\n",
      "23\n",
      "['1001', 'meta195', '1,4-Dihydronicotinamide adenine dinucleotide', '439153', 'C21H29N7O14P2', 'C00004', 'HMDB0001487', 'DB00157', 'NADH', 'Microbiota; Food related; Drug related', 'C1C=CN(C=C1C(=O)N)C2C(C(C(O2)COP(=O)(O)OP(=O)(O)OCC3C(C(C(O3)N4C=NC5=C(N=CN=C54)N)O)O)O)O', 'g5070', 'NSDHL', 'ENSG00000147383', '50814', '13398', 'Q15738', '373', \"The protein encoded by this gene is localized in the endoplasmic reticulum and is involved in cholesterol biosynthesis. Mutations in this gene are associated with CHILD syndrome, which is a X-linked dominant disorder of lipid metabolism with disturbed cholesterol biosynthesis, and typically lethal in males. Alternatively spliced transcript variants with differing 5' UTR have been found for this gene. [provided by RefSeq, Jul 2008]\", '0.95', 'target', 'Not available', 'stitch, drugbank']\n",
      "23\n",
      "['2001', 'meta364', '2-Phosphoglycolic Acid', '529', 'C2H5O6P', 'C00988', 'HMDB0000816', 'Not available', 'Not available', 'Host; Microbiota; Food related; Drug related', 'C(C(=O)O)OP(=O)(O)O', 'g5485', 'PGLS', 'ENSG00000130313', '25796', '8903', 'O95336', '258', 'Enables 6-phosphogluconolactonase activity. Involved in pentose-phosphate shunt. Located in extracellular exosome. [provided by Alliance of Genome Resources, Apr 2022]', '0.601', 'Unknown', 'Not available', 'stitch']\n"
     ]
    }
   ],
   "execution_count": 6
  },
  {
   "metadata": {
    "ExecuteTime": {
     "end_time": "2025-07-10T23:35:59.091479Z",
     "start_time": "2025-07-10T23:35:59.076686Z"
    }
   },
   "cell_type": "code",
   "source": [
    "misaligned_lines = []\n",
    "for i, line in enumerate(meta_gene_data):\n",
    "    if len(line) != 23:\n",
    "        misaligned_lines.append(i)\n",
    "print(len(misaligned_lines))\n",
    "print(misaligned_lines)"
   ],
   "id": "7679f53b63947593",
   "outputs": [
    {
     "name": "stdout",
     "output_type": "stream",
     "text": [
      "0\n",
      "[]\n"
     ]
    }
   ],
   "execution_count": 7
  },
  {
   "metadata": {
    "ExecuteTime": {
     "end_time": "2025-07-10T23:36:00.170504Z",
     "start_time": "2025-07-10T23:36:00.168588Z"
    }
   },
   "cell_type": "code",
   "source": "",
   "id": "4555bfa4009bfe42",
   "outputs": [],
   "execution_count": null
  },
  {
   "metadata": {
    "ExecuteTime": {
     "end_time": "2025-07-10T23:36:08.644095Z",
     "start_time": "2025-07-10T23:36:08.372464Z"
    }
   },
   "cell_type": "code",
   "source": [
    "meta_gene_missing = check_missing_data(meta_gene_df)\n",
    "meta_gene_missing"
   ],
   "id": "93bc1e7cecdca128",
   "outputs": [
    {
     "data": {
      "text/plain": [
       "{'pubchem_id': {'Not available'},\n",
       " 'formula': {'not available'},\n",
       " 'kegg_id': {'not available'},\n",
       " 'HMDBID': {'not available'},\n",
       " 'drug_id': {'Not available'},\n",
       " 'drug_name': {'Not available'},\n",
       " 'Origin': {'Unknown'},\n",
       " 'smiles_sequence': {'not available'},\n",
       " 'ensembl_id': {'Not available'},\n",
       " 'NCBI': {'Not available'},\n",
       " 'HGNC': {'Not available'},\n",
       " 'UniProt': {'Not available'},\n",
       " 'annonation': {'Not Available'},\n",
       " 'score': {'Not available'},\n",
       " 'alteration': {'Unknown'},\n",
       " 'PMID': {'Not available'}}"
      ]
     },
     "execution_count": 10,
     "metadata": {},
     "output_type": "execute_result"
    }
   ],
   "execution_count": 10
  },
  {
   "metadata": {
    "ExecuteTime": {
     "end_time": "2025-07-10T23:36:02.116730Z",
     "start_time": "2025-07-10T23:36:02.107966Z"
    }
   },
   "cell_type": "code",
   "source": "meta_gene_df[\"compound\"].unique()",
   "id": "42e2e2f25532da5f",
   "outputs": [
    {
     "data": {
      "text/plain": [
       "array(['(1,6-alpha-D-Glucosyl)m', '(2-Aminoethyl)phosphonic acid',\n",
       "       '(20S)-Protopanaxadiol', '(2R)-2,3-Dihydroxypropanoic acid',\n",
       "       '(2R,6S)-2,6-diaminoheptanedioic acid',\n",
       "       '(2S)-2-(3-Carboxypropanoylamino)pentanedioic acid',\n",
       "       '(2S)-2-amino-5-oxopentanoic acid',\n",
       "       '(2S)-2-hydroxy-2-methyl-3-oxobutanoic acid',\n",
       "       '(2S)-2-Hydroxybutanedioic acid', '(2S,3S)-butane-2,3-diol',\n",
       "       '(2S,4R)-2-amino-4-hydroxypentanedioic acid',\n",
       "       '(3R)-3-hydroxy-3-methyl-5-(phosphonooxy)pentanoic acid',\n",
       "       '(3S)-3,6-diaminohexanoic acid',\n",
       "       '(3S,5S)-3,5-diaminohexanoic acid',\n",
       "       '(4-Amino-2-methylpyrimidin-5-yl)methyl trihydrogen diphosphate',\n",
       "       '(4s)-4-[(2e)-Oct-2-Enoyloxy]-4-(Trimethylazaniumyl)Butanoate',\n",
       "       '(4S)-4,5-dihydroxy-2-oxopentanoic acid',\n",
       "       '(R)-2-Hydroxy-4-methylpentanoic acid',\n",
       "       '(R)-3-Hydroxybutyric acid', '(R)-Lactaldehyde',\n",
       "       '(R,R)-2,3-butanediol', '(S)-1-pyrroline-5-carboxylate',\n",
       "       '(S)-2,3-dihydrodipicolinic acid', '(S)-2,3-Epoxysqualene',\n",
       "       '(S)-3-Hydroxydecanoyl-CoA', '(S)-3-Hydroxyhexanoyl-CoA',\n",
       "       '(S)-3-hydroxyisobutyric acid', '(S)-3-hydroxylauroyl-CoA',\n",
       "       '(S)-3-Hydroxyoctanoyl-CoA', '(S)-3-hydroxypalmitoyl-CoA',\n",
       "       '(S)-3-Hydroxytetradecanoyl-CoA', '(S)-5-amino-3-oxohexanoate',\n",
       "       '(S)-methylmalonaldehydic acid', '(S)-Ureidoglycolate',\n",
       "       '[5-(2,4-Dioxopyrimidin-1-yl)-3,4-dihydroxyoxolan-2-yl]methyl dihydrogen phosphate',\n",
       "       '1-(3-Chloro-2,6-dihydroxy-4-methoxyphenyl)-1-hexanone',\n",
       "       '1-Aminocyclopropanecarboxylic acid', '1-Aminopropan-2-ol',\n",
       "       '1-Butanol',\n",
       "       '1-Deoxy-1-(7,8-dimethyl-2,4-dioxo-3,4-dihydro-2H-benzo[G]pteridin-1-ID-10(5H)-YL)-5-O-phosphonato-D-ribitol',\n",
       "       '1-deoxy-D-xylulose 5-phosphate', '1-Methyladenosine',\n",
       "       '1-Methylcytosine', '1-Methylnicotinamide', '1-Methylpyrrolinium',\n",
       "       '1-Myristoyl-sn-glycerol 3-phosphate', '1-Piperideine',\n",
       "       '1-Propanol', '1-Pyrroline-4-hydroxy-2-carboxylate',\n",
       "       '1,2-Dihydroxy-5-(methylthio)pent-1-en-3-one',\n",
       "       '1,3-Diaminopropane', '1,3-Propanediol', '1,4-Diaminobutane',\n",
       "       '1,4-Dihydronicotinamide adenine dinucleotide',\n",
       "       '1,4-Dihydroxy-2-naphthoyl-CoA', '1,5-Dihydroriboflavin',\n",
       "       '10-keto-12Z-octadecenoic acid', '10-Oxo-11-octadecenoic acid',\n",
       "       '12-Hydroxydodecanoic acid', '15-cis-Phytoene',\n",
       "       '17alpha-Hydroxypregnenolone', '1D-myo-inositol 4-phosphate',\n",
       "       \"2'-Deoxyadenosine\", \"2'-Deoxyadenosine-5'-diphosphate\",\n",
       "       \"2'-Deoxyadenosine-5'-monophosphate\", \"2'-Deoxycytidine\",\n",
       "       \"2'-Deoxycytidine-5'-triphosphate\", \"2'-Deoxyuridine\",\n",
       "       \"2'-Deoxyuridine 5'-monophosphate\", \"2',3'-Cyclic AMP\",\n",
       "       '2-(1H-indol-3-yl)acetaldehyde',\n",
       "       '2-(3-Carboxypropionyl)-6-hydroxy-cyclohexa-2,4-diene carboxylic acid',\n",
       "       '2-Amino-1-methyl-6-phenylimidazo(4,5-b)pyridine',\n",
       "       '2-Amino-1-phenylethanol',\n",
       "       '2-Amino-3-(3-oxoprop-1-en-1-yl)but-2-enedioic acid',\n",
       "       '2-Amino-6-methoxypurine', '2-Aminoacetaldehyde',\n",
       "       '2-Aminobutyric acid', '2-Aminoethyl dihydrogen phosphate',\n",
       "       '2-Aminohexanedioic acid', '2-Aminoisobutyric acid',\n",
       "       '2-cis,6-trans,10-trans-Geranylgeranyl diphosphate',\n",
       "       '2-dehydro-3-deoxy-L-arabinonic acid',\n",
       "       '2-Hydroxy-3-(4-hydroxyphenyl)propanoic acid',\n",
       "       '2-Hydroxy-3-oxobutanedioic acid',\n",
       "       '2-Hydroxy-4-methylvaleric acid',\n",
       "       '2-Hydroxy-5-(methylsulfanyl)-3-oxopent-1-enyl phosphate',\n",
       "       '2-Hydroxybutyric acid', '2-Hydroxyethanesulfonic acid',\n",
       "       '2-Hydroxyglutaric acid', '2-Hydroxyphenylacetic acid',\n",
       "       '2-Isopropylmalic acid', '2-Keto-3-deoxy-6-phosphogluconate',\n",
       "       '2-Methyl-1-hydroxybutyl-ThPP', '2-Methyl-1-hydroxypropyl-ThPP',\n",
       "       '2-Methyl-3-oxopropanoic acid', '2-Methylacetoacetyl-coa',\n",
       "       '2-Methylbutanoic acid', '2-methylbutyryl-CoA',\n",
       "       '2-Methylbutyrylglycine', '2-Methylcitric acid',\n",
       "       '2-methylcrotonoyl-CoA', '2-Methylnaphthalene', '2-o-Methylxylose',\n",
       "       '2-Oxoadipic acid', '2-Oxobutanoic acid', '2-Oxoglutaric acid',\n",
       "       '2-Phenylacetamide', '2-Phenylbutyric acid',\n",
       "       '2-Phospho-D-Glyceric Acid', '2-Phosphoglyceric acid',\n",
       "       '2-Phosphoglycolic Acid', '2-Succinylbenzoate', '2,3-Butanediol',\n",
       "       '2,3-Butanedione', '2,3-Dihydroxypropyl tetradecanoate',\n",
       "       '2,3-Diphosphoglyceric acid', '2,4-Dioxopentanedioic acid',\n",
       "       '2,4,6/3,5-Pentahydroxycyclohexanone', '2,6-Diaminopimelic acid',\n",
       "       '20(R)-Ginsenoside Rh2',\n",
       "       '2C-Methyl-D-erythritol 2,4-cyclodiphosphate', \"3'-Uridylic acid\",\n",
       "       '3-(3,4-Dihydroxyphenyl)propionic acid',\n",
       "       '3-(4-Hydroxyphenyl)propionic acid',\n",
       "       '3-(4-oxo-4,5-dihydro-1H-imidazol-5-yl)propanoic acid',\n",
       "       '3-Amino-2-methylpropanoic acid', '3-Aminopropanal',\n",
       "       '3-Carboxy-1-hydroxypropylthiamine diphosphate',\n",
       "       '3-Cyano-L-alanine', '3-dehydro-L-gulonate',\n",
       "       '3-deoxy-8-O-phosphono-D-manno-oct-2-ulosonic acid',\n",
       "       '3-deoxy-D-arabino-heptulosonate-7-phosphate',\n",
       "       '3-deoxy-D-manno-octulosonate', '3-Hydroxyanthranilic acid',\n",
       "       '3-Hydroxybenzoic acid', '3-Hydroxybutyric acid',\n",
       "       '3-Hydroxybutyryl-coenzyme A', '3-Hydroxyglutaric acid',\n",
       "       '3-Hydroxyhippuric acid', '3-Hydroxyisobutyric acid',\n",
       "       '3-Hydroxyisovaleryl-CoA', '3-Hydroxykynurenine',\n",
       "       '3-Hydroxypropanoyl-CoA', '3-Hydroxypropionic acid',\n",
       "       '3-Hydroxypyruvic acid', '3-Indolepropionic acid',\n",
       "       '3-Isopropylmalic acid', '3-Mercaptolactic acid',\n",
       "       '3-Mercaptopyruvic acid', '3-Methyl-1-hydroxybutyl-ThPP',\n",
       "       '3-Methyl-2-oxobutanoic acid', '3-Methyl-2-oxovaleric acid',\n",
       "       '3-Methyl-6-methoxy-2-octaprenyl-1,4-benzoquinone',\n",
       "       '3-Methylcatechol', '3-Methylcrotonyl CoA',\n",
       "       '3-Methylglutaconyl-CoA', '3-Oxoadipic acid', '3-Oxodecanoyl-CoA',\n",
       "       '3-Oxododecanoyl-CoA', '3-Oxohexanoyl-CoA', '3-Oxooctanoyl-CoA',\n",
       "       '3-Oxopropanoic acid', '3-Oxotetradecanoyl-CoA',\n",
       "       '3-Phenylpropionic acid', '3-Phosphoadenylylselenate',\n",
       "       '3-Phosphoglycerate', '3-Ureidopropionic acid',\n",
       "       '3,4-Dihydro-2H-pyrrole-5-carboxylic acid',\n",
       "       '3,4-Dihydroxybenzoic acid', '3,4-Dihydroxymandelaldehyde',\n",
       "       '3,4-Dihydroxyphenylacetaldehyde',\n",
       "       '3,4-Dihydroxyphenylacetic acid', '3,4-Dihydroxyphenylglycol',\n",
       "       '3,5-Dihydroxybenzoic acid',\n",
       "       '3[N-Morpholino]propane sulfonic acid', \"4'-Phosphopantetheine\",\n",
       "       '4-(2-Aminoethyl)-2-methoxyphenol',\n",
       "       '4-(Methylsulfanyl)-2-oxobutanoic acid',\n",
       "       '4-(Phosphonooxy)-L-threonine', '4-Acetamidobutyric acid',\n",
       "       '4-Amino-5-hydroxymethyl-2-methylpyrimidine',\n",
       "       '4-Aminobenzoic acid', '4-Aminobutanal',\n",
       "       '4-Fumarylacetoacetic acid', '4-Guanidinobutyric acid',\n",
       "       '4-Hydroxy-2-oxoglutaric acid',\n",
       "       '4-hydroxy-3,4-dihydro-2H-pyrrole-2-carboxylic acid',\n",
       "       '4-Hydroxy-L-proline', '4-Hydroxybenzaldehyde',\n",
       "       '4-Hydroxybenzoic acid', '4-Hydroxybenzyl alcohol',\n",
       "       '4-Hydroxybutanoic acid', '4-Hydroxycinnamic acid',\n",
       "       '4-Hydroxyphenylacetaldehyde', '4-Hydroxyphenylacetic acid',\n",
       "       '4-Hydroxyphenylpyruvic acid', '4-Hydroxyproline',\n",
       "       '4-Maleylacetoacetic acid', '4-Methyl-2-oxopentanoic acid',\n",
       "       '4-Methyl-5-(2-phosphoethyl)-thiazole', '4-Methylcatechol',\n",
       "       '4-Methylpentanoic acid', '4-Nitrophenyl phosphate',\n",
       "       '4-Pyridoxic acid', '4-Vinylphenol', \"5'-Cytidylic acid\",\n",
       "       \"5'-Deoxy-5'-methylthioadenosine\", \"5'-Deoxyadenosine\",\n",
       "       \"5'-phosphoribosyl-N-formylglycinamide\",\n",
       "       '5-(Methylthio)-2,3-dioxopentyl phosphate',\n",
       "       '5-amino-6-(5-phospho-D-ribitylamino)uracil',\n",
       "       '5-amino-6-(D-ribitylamino)uracil',\n",
       "       '5-Aminoimidazole ribonucleotide', '5-Aminovaleric acid',\n",
       "       '5-hydroxy-1H-imidazole-4-carboxamide',\n",
       "       '5-Hydroxy-2-oxo-4-ureido-2,5-dihydro-1H-imidazole-5-carboxylate',\n",
       "       '5-hydroxy-L-tryptophan', '5-Hydroxyisourate',\n",
       "       '5-Hydroxykynurenamine', '5-Hydroxykynurenine', '5-Hydroxylysine',\n",
       "       '5-Methoxyindole-3-acetic acid', '5-Methylcytosine',\n",
       "       '5-Methyluridine', '5-Oxopentanoic acid', '5-Phenylvaleric acid',\n",
       "       '5-Phospho-beta-D-ribosylamine',\n",
       "       '5,6-Dihydroxy-1H-indole-2-carboxylic acid',\n",
       "       '5,6-Dimethylbenzimidazole', '6-Hydroxynicotinic acid',\n",
       "       '6-Methoxy-2-octaprenyl-1,4-benzoquinone',\n",
       "       '6-Phosphogluconic acid', '6,7-Dimethyl-8-ribityllumazine',\n",
       "       '7alpha-Hydroxy-4-cholesten-3-one', '8-Amino-7-oxononanoic acid',\n",
       "       '8-Hydroxyquinoline', '8-Prenylnaringenin', 'Acacetin',\n",
       "       'Acadesine', 'Acetaldehyde', 'Acetamide', 'Acetaminophen',\n",
       "       'Acetate', 'Acetoacetic acid', 'acetoacetyl-CoA', 'Acetoin',\n",
       "       'Acetyl coenzyme A', 'Acetylcholine', 'Acetylcysteine',\n",
       "       'Acetylphosphate', 'Acrylamide', 'Adenine', 'Adenosine',\n",
       "       \"Adenosine-3'-5'-diphosphate\", \"Adenosine-5'-diphosphate\",\n",
       "       \"Adenosine-5'-phosphosulfate\", \"Adenosine-5'-triphosphate\",\n",
       "       'Adenosine cyclic phosphate', 'Adenosine diphosphate ribose',\n",
       "       'Adenosine Phosphate', 'Adenylylselenate', 'Adipic Acid',\n",
       "       'ADP-D-glycero-D-manno-heptose', 'ADP-glucose', 'Agmatine',\n",
       "       'Alanine', 'Alanine glutamate', 'All-trans-decaprenyl diphosphate',\n",
       "       'All-trans-hexaprenyl diphosphate',\n",
       "       'all-trans-Nonaprenyl diphosphate', 'Allantoic acid', 'Allantoin',\n",
       "       'Allophanic acid', 'Allysine', 'alpha-D-Glucose 1,6-bisphosphate',\n",
       "       'alpha-Hydroxyhippuric acid', 'alpha-Ketoglutaramate',\n",
       "       'alpha-Lactose', 'Alpha-Phosphoribosylpyrophosphoric Acid',\n",
       "       'Aminoacetone', 'Aminolevulinic acid', 'Aminomalonic acid',\n",
       "       'Ammonia', 'Amylopectin', 'Anthranilic acid', 'Apigenin',\n",
       "       'Arachidic Acid', 'Arbutin', 'Arctigenin', 'Arginine',\n",
       "       'Arsenobetaine', 'Ascorbic Acid', 'Asparagine', 'Aspartic Acid',\n",
       "       'Aspartyl adenylate', 'Baohuoside I', 'Benzaldehyde', 'Benzamide',\n",
       "       'Benzocaine', 'Benzoic Acid', 'Benzyl Alcohol', 'beta-Alanine',\n",
       "       'Beta-Carotene', 'beta-D-fructofuranose',\n",
       "       'beta-D-Gal-(1->4)-beta-D-GlcNAc-(1->3)-beta-D-Gal-(1->4)-D-Glc',\n",
       "       'beta-D-glucose', 'beta-D-Glucose 1-phosphate',\n",
       "       'beta-D-Glucose 6-phosphate', 'beta-L-fucose 1-phosphate',\n",
       "       'beta-Lactose', 'beta-Ureidoisobutyric acid', 'Betaine',\n",
       "       'Betaine aldehyde', 'Bile acid', 'Biliverdin', 'Biocytin',\n",
       "       'Biotin', \"Biotinyl-5'-AMP\", 'Butyraldehyde', 'Butyrate',\n",
       "       'Butyric Acid', 'butyryl-CoA', 'Cadaverine', 'Caffeic Acid',\n",
       "       'Calcium', 'Capric Acid', 'Carbamate', 'Carbamoyl phosphate',\n",
       "       'Carbon Dioxide', 'Carboxyaminoimidazole ribotide', 'Carnosine',\n",
       "       'Catechol', 'CDP-ethanolamine', 'CDP-glucose', 'Cellobiose',\n",
       "       'Chenodeoxycholic acid', 'Chenodeoxycholoyl-CoA', 'Chloride ion',\n",
       "       'Chlorophyllide a', 'Cholecalciferol', 'Cholesterol',\n",
       "       'Cholic acid', 'Choline', 'Choline Alfoscerate', 'Choline sulfate',\n",
       "       'Choloyl-CoA', 'Chrysin', 'Cinnamaldehyde', 'Cinnamic acid',\n",
       "       'cis-4-Hydroxy-D-proline', 'cis-4-Hydroxy-L-proline',\n",
       "       'cis-Aconitic acid', 'Citicoline', 'Citric Acid', 'Citrulline',\n",
       "       'Cmp-2-keto-3-deoxy-octulosonic acid', 'Cob(I)yrinate a,c diamide',\n",
       "       'Cob(II)alamin', 'coenzyme A', 'coenzyme F420', 'Coenzyme Q8',\n",
       "       'Coproporphyrinogen I', 'coproporphyrinogen III', 'Coprosterol',\n",
       "       'Creatine', 'creatinine', 'Crotonic acid', 'crotonoyl-CoA',\n",
       "       'Cyclic GMP', 'Cystathionine', 'Cysteamine', 'Cysteic Acid',\n",
       "       'Cysteine', 'Cysteinylglycine', 'Cystine', 'Cytidine',\n",
       "       \"Cytidine-5'-diphosphate\", \"Cytidine 3'-monophosphate\",\n",
       "       'cytidine monophosphate N-acetylneuraminic acid', 'Cytosine',\n",
       "       'D-(+)-Cellobiose', 'D-2-Deoxyribose', 'D-alanine', 'D-Allose',\n",
       "       'D-Arabinitol', 'D-Arabino-2-deoxyhexose',\n",
       "       'D-arabino-hex-3-ulose 6-phosphate', 'D-arabinose 5-phosphate',\n",
       "       'D-cysteine', 'D-Erythrose 4-phosphate', 'D-Galactosamine',\n",
       "       'D-Galactosamine 6-phosphate', 'D-Galactose',\n",
       "       'D-Glucono-1,5-lactone 6-phosphate', 'D-Glucosamine', 'D-Glucose',\n",
       "       'D-Glucuronic Acid', 'D-glutamic acid',\n",
       "       'D-Glycero-D-manno-heptose 1,7-bisphosphate',\n",
       "       'D-Glycero-D-manno-heptose 7-phosphate', 'D-Gulono-1,4-lactone',\n",
       "       'D-Lactic acid', 'D-malate', 'D-Mannose', 'D-Mannose 1-phosphate',\n",
       "       'D-Methionine', 'D-proline', 'D-Ribulose 1,5-bisphosphate',\n",
       "       'D-Ribulose 5-phosphate', 'D-serine', 'D-tagatose 6-phosphate',\n",
       "       'D-Xylonate', 'D-Xylono-1,5-lactone', 'D-Xylose', 'D-xylulose',\n",
       "       'D-Xylulose 1-phosphate', 'Daidzein', 'Dehydroepiandrosterone',\n",
       "       'Dehydroepiandrosterone sulfate', 'Demethylmenaquinone',\n",
       "       'Deoxycholic Acid', \"Deoxycytidine 5'-monophosphate\",\n",
       "       'Deoxycytidine diphosphate', 'Deoxyribose 1-phosphate',\n",
       "       'Deoxyribose 5-phosphate', 'Deoxythymidine diphosphate-l-rhamnose',\n",
       "       \"Deoxyuridine-5'-diphosphate\", 'Deoxyuridine triphosphate',\n",
       "       'dephospho-CoA', 'Dethiobiotin', 'Dextrin',\n",
       "       'Diadenosine tetraphosphate',\n",
       "       'Dihydroflavine-adenine dinucleotide', 'Dihydrolipoamide',\n",
       "       'Dihydroorotic acid', 'Dihydroresveratrol', 'Dihydrothymine',\n",
       "       'Dihydrouracil', 'Dihydroxyacetone', 'Dihydroxyacetone phosphate',\n",
       "       'Dimethyl sulfide', 'Dimethyl Sulfoxide',\n",
       "       'Dimethylallyl diphosphate', 'Dimethylamine', 'Diosmetin',\n",
       "       'DL-3-Phenyllactic acid', 'DL-Alanine', 'DL-Cystine',\n",
       "       'DL-Homocystine', 'DL-Homoserine', 'DL-Tartaric acid', 'Dopamine',\n",
       "       'dTDP-4-dehydro-6-deoxy-alpha-D-glucose',\n",
       "       'dTDP-4-dehydro-6-deoxy-L-mannose', 'dTDP-D-glucose', 'Ectoine',\n",
       "       'Eicosanoyl-CoA', 'Elaidic Acid', 'Enterodiol', 'Equol',\n",
       "       'Erythritol', 'Estrone', 'Estrone sulfate', 'Ethanol',\n",
       "       'Ethanolamine', 'Ethylene Glycol', 'Faicar',\n",
       "       'Farnesyl diphosphate', 'Ferric cation',\n",
       "       'Flavin adenine dinucleotide', 'Flavin mononucleotide',\n",
       "       'Formaldehyde', 'Formamide', 'Formate', 'Formic Acid',\n",
       "       'Formiminoglutamic acid', 'formyl-CoA', 'Fructose-1-phosphate',\n",
       "       'Fructose-2,6-diphosphate', 'Fructose-6-phosphate', 'Fumaric Acid',\n",
       "       'Galactaric acid', 'Galactitol',\n",
       "       \"Galactose-uridine-5'-diphosphate\", 'Galbeta1,3GlcNAc',\n",
       "       'Gallic Acid', 'Gamma-Aminobutyric Acid',\n",
       "       'gamma-Glutamyl-beta-aminopropiononitrile',\n",
       "       'gamma-Glutamyl-beta-cyanoalanine', 'gamma-Glutamyl phosphate',\n",
       "       'gamma-Glutamylcysteine', 'Genipin', 'Genistein',\n",
       "       'Geranyl diphosphate', 'Geranylgeranyl diphosphate',\n",
       "       'Ginsenoside Rd', 'Ginsenoside Rh2', 'Glu-Met', 'Glucaric acid',\n",
       "       'Gluconolactone', 'Glucosamine 6-phosphate', 'Glucose 1-phosphate',\n",
       "       'Glucose 6-phosphate', 'Glutamate-1-semialdehyde', 'Glutamic Acid',\n",
       "       'Glutamine', 'Glutamylcysteine', 'Glutaric acid', 'glutaryl-CoA',\n",
       "       'Glutathione', 'Glutathionylspermidine', 'Glyceraldehyde',\n",
       "       'Glyceraldehyde-3-phosphate', 'Glyceric acid',\n",
       "       'Glyceric acid 1,3-biphosphate', 'Glycerin',\n",
       "       'Glycerophosphoric acid', 'Glyceryl monooleate',\n",
       "       'Glycinamide ribonucleotide', 'Glycine', 'Glycitein',\n",
       "       'Glycocholic acid', 'Glycolaldehyde', 'Glycolic Acid',\n",
       "       'Glycyl-l-asparagine', 'Glycyl-l-glutamine', 'Glycyl-L-tyrosine',\n",
       "       'Glycylglycine', 'Glycylproline', 'Glyoxylic acid', 'Guanine',\n",
       "       'Guanosine', 'heme O', 'Hexanal', 'Hexanoyl-coenzyme a',\n",
       "       'Hippuric Acid', 'Histamine', 'Histidinal', 'Histidine',\n",
       "       'Histidinol', 'Homocitric acid', 'Homogentisic acid',\n",
       "       'Homovanillic Acid', 'Hydrogen', 'Hydrogen Cyanide',\n",
       "       'Hydrogen Peroxide', 'Hydrogen selenide', 'Hydrogen Sulfide',\n",
       "       'Hydroquinone', 'Hydroxymethylbilane', 'Hydroxyprogesterone',\n",
       "       'Hydroxyproline', 'Hypoxanthine', 'Icaritin',\n",
       "       'Imidazole-4-acetaldehyde', 'Imidazoleacetic acid', 'Iminoglycine',\n",
       "       'Indole', 'Indole-3-acetic acid', 'Indole-3-butyric acid',\n",
       "       'Indole-3-carboxaldehyde', 'Indole-3-lactic acid',\n",
       "       'Indole-3-pyruvic acid', 'Indoxyl sulfate', 'Inosine',\n",
       "       'Inosinic Acid', 'Inositol', 'Inositol 1-phosphate',\n",
       "       'Isobutyric acid', 'isobutyryl-CoA', 'Isocitric acid',\n",
       "       'Isomaltose', 'Isopentenyl pyrophosphate', 'Isoprene',\n",
       "       'Isovaleric acid', 'isovaleryl-CoA', 'Itaconic acid', 'Kaempferol',\n",
       "       'Kynurenic acid', 'L-(-)-3-Phenyllactic acid',\n",
       "       'L-2-Amino-3-oxobutanoic acid', 'L-2-Aminoadipate adenylate',\n",
       "       'L-Alanyl-L-alanine', 'l-Alanyl-l-glutamine', 'l-Alanyl-l-leucine',\n",
       "       'L-Alloisoleucine', 'L-arabinitol', 'L-Arabinose',\n",
       "       'L-Argininosuccinic acid', 'L-Aspartyl-L-phenylalanine',\n",
       "       'L-cystathionine', 'L-Cysteinesulfinic acid', 'L-dopachrome',\n",
       "       'L-Fucose', 'L-fuculose', 'L-Gulonolactone', 'L-histidinol',\n",
       "       'l-Histidinol phosphate', 'L-Homoarginine', 'L-Homocitrulline',\n",
       "       'L-Homocysteine', 'L-homoserine', 'L-Iduronic Acid',\n",
       "       'l-Isoleucine', 'L-Lactic acid', 'L-methionine sulfoxide',\n",
       "       'L-Norleucine', 'L-ornithine', 'l-Pipecolic acid',\n",
       "       'L-Pyroglutamic acid', 'L-ribulose', 'L-Saccharopine', 'L-Sorbose',\n",
       "       'L-sorbose 1-phosphate', 'L-xylo-Hex-2-ulono-1,4-lactone',\n",
       "       'L-xylulose', 'Lactaldehyde', 'Lactic Acid', 'Lacto-N-tetraose',\n",
       "       'Lactulose', 'Lanosterol', 'Lauric Acid', 'Lauroyl-coa', 'Leucine',\n",
       "       'Levan', 'Levanbiose', 'Levocarnitine', 'Levodopa',\n",
       "       'Linoleic Acid', 'Linolenic Acid', 'Lipoamide', 'Lipoic acid',\n",
       "       'Lithocholic acid', 'Lumichrome', 'Luteolin', 'Lysine',\n",
       "       'Maleic Acid', 'Malic Acid', 'Malonic acid', 'malonyl-CoA',\n",
       "       'Maltohexaose', 'Maltol', 'Maltose', 'Maltotetraose',\n",
       "       'Maltotriose', 'Manganese(2+)', 'Mannitol', 'Mannose-6-phosphate',\n",
       "       'Meglutol', 'Melatonin', 'Melibiose', 'Menaquinone-7',\n",
       "       'Mesaconic acid', 'Meso-tartrate', 'methacrylyl-CoA', 'Methane',\n",
       "       'Methanethiol', 'Methanol', 'Methionine', 'Methionine sulfoxide',\n",
       "       'Methyl-D-erythritol Phosphate', 'Methyl alpha-D-glucopyranoside',\n",
       "       'Methyl beta-D-galactopyranoside', 'Methylamine', 'Methylglyoxal',\n",
       "       'Methylguanidine', 'Methylmalonic acid', 'methylmalonyl-CoA',\n",
       "       'Methylsuccinic acid', 'Mevalonic acid', 'Molybdate', 'Myricetin',\n",
       "       'Myristic Acid', 'N-(3-Methylbut-2-EN-1-YL)-9H-purin-6-amine',\n",
       "       'N-[(R)-4-phosphopantothenoyl]-L-cysteine',\n",
       "       'N-Acetyl-2-deoxy-2-amino-galactose',\n",
       "       'N-Acetyl-5-hydroxytryptamine', 'N-Acetyl-D-Galactosamine',\n",
       "       'N-Acetyl-D-galactosamine 6-phosphate', 'N-Acetyl-D-Glucosamine',\n",
       "       'N-acetyl-D-glucosamine-6-phosphate', 'N-Acetyl-D-Mannosamine',\n",
       "       'N-Acetyl-D-mannosamine 6-phosphate', 'N-Acetyl-DL-alanine',\n",
       "       'N-Acetyl-DL-methionine', 'N-Acetyl-L-aspartic acid',\n",
       "       'N-Acetyl-L-citrulline', 'N-Acetyl-L-glutamic acid',\n",
       "       'N-Acetyl-L-glutamyl 5-phosphate', 'N-Acetyl-L-tyrosine',\n",
       "       'N-Acetyl-Muramic Acid', 'N-Acetyl-Neuraminic Acid',\n",
       "       'N-Acetylglucosamine-1-phosphate', 'N-Acetylglycine',\n",
       "       'N-acetylornithine', 'N-acetylputrescine', 'N-Acetylserine',\n",
       "       'N-alpha-Acetyl-L-lysine', 'N-Benzylformamide', 'N-Butyrylglycine',\n",
       "       'N-carbamoylputrescine', 'N-Formyl-L-glutamic acid',\n",
       "       'N-Formyl-L-kynurenine', 'N-Formylmethionine',\n",
       "       'N-Isovaleroylglycine', 'N-Methyl-L-glutamic acid',\n",
       "       'N-Methylputrescine', 'N-Methyltyramine', 'N-Trimethyllysine',\n",
       "       \"N,N'-diacetylchitobiose\", 'N,N-dimethylarginine',\n",
       "       'N,N-dimethylglycine', 'N1-Acetylspermidine', 'N1-acetylspermine',\n",
       "       'N2-Succinyl-L-glutamic acid 5-semialdehyde',\n",
       "       'N2-Succinyl-L-ornithine', 'Nadide', 'NADPH',\n",
       "       'Naphthalene-1,2-diol', 'Naringenin', 'Naringenin chalcone',\n",
       "       'Nicotinamide', 'Nicotinamide mononucleotide',\n",
       "       'Nicotinamide riboside', 'Nicotinate', 'Nicotinic acid',\n",
       "       'Nicotinic acid adenine dinucleotide', 'Nitrate', 'Nitric Oxide',\n",
       "       'Nitrite', 'Nitrous Oxide', 'Norathyriol',\n",
       "       'O-(2-Acetamido-2-deoxy-alpha-D-galactopyranosyl)-L-serine',\n",
       "       'O-acetyl-L-homoserine', 'O-acetyl-L-serine',\n",
       "       'O-phospho-L-threonine', 'o-Phosphohomoserine',\n",
       "       'O-succinylbenzoyl-CoA', 'Octanoic acid', 'Octaprenyl diphosphate',\n",
       "       'Oleic Acid', 'oleoyl-CoA', 'Orotic acid',\n",
       "       \"Orotidine-5'-monophosphate\", 'Oxalacetic acid', 'Oxalic Acid',\n",
       "       'Oxalosuccinic acid', 'Oxaluric acid', 'oxalyl-CoA',\n",
       "       'Oxiglutatione', 'Oxygen', 'P-Cresol', 'p-Cresol sulfate',\n",
       "       'Palatinose', 'Palmitic Acid', 'Palmitoleic Acid', 'palmitoyl-CoA',\n",
       "       'Pantothenic Acid', 'Pantothenoylcysteine', 'Pentadecanoic acid',\n",
       "       'Pentitol', 'Petroselinic acid', 'Phenethylamine', 'Phenol',\n",
       "       'Phenylacetaldehyde', 'Phenylacetic Acid', 'phenylacetyl-CoA',\n",
       "       'Phenylacetylglutamine', 'Phenylacetylglycine', 'Phenylalanine',\n",
       "       'Phenylpyruvic acid', 'Phloretin', 'Phloroglucinol',\n",
       "       'Phosphoadenosine phosphosulfate', 'Phosphocholine',\n",
       "       'Phosphoenolpyruvate', 'Phosphohydroxypyruvic acid',\n",
       "       'Phosphonoacetaldehyde', 'phosphoribosyl-AMP',\n",
       "       'Phosphoroselenoic acid', 'Phosphoserine', 'Phytoene',\n",
       "       'Phytonadione', 'Picolinic acid', 'Pimelic acid', 'pimeloyl-CoA',\n",
       "       'Pipecolic acid', 'Platycodin D', 'Porphobilinogen', 'Potassium',\n",
       "       'Precorrin-1', 'Pregnenolone', 'Prfar', 'Progesterone', 'Proline',\n",
       "       'propanoyl-AMP', 'Propanoyl phosphate', 'Propionaldehyde',\n",
       "       'Propionate', 'Propionic Acid', 'propionyl-CoA',\n",
       "       'Propionylcarnitine', 'Propylene Glycol', 'Protochlorophyllide',\n",
       "       'protoporphyrin IX', 'Pyridoxal', 'Pyridoxal phosphate',\n",
       "       'Pyridoxamine', 'Pyridoxamine phosphate', 'Pyridoxine',\n",
       "       'Pyridoxine phosphate', 'Pyrogallol', 'Pyrroloquinoline quinone',\n",
       "       'Pyruvic Acid', 'Quercetin', 'Quercitrin', 'Quinic acid',\n",
       "       'Quinolinic acid', 'Raffinose', 'Retinal', 'Retinol', 'Riboflavin',\n",
       "       'Ribose 1-phosphate', 'S-(Hydroxymethyl)glutathione',\n",
       "       'S-1,2-Propanediol', 'S-acetyldihydrolipoamide',\n",
       "       'S-adenosyl-4-methylthio-2-oxobutanoate',\n",
       "       'S-adenosyl-L-homocysteine', 'S-adenosylmethioninamine',\n",
       "       'S-adenosylmethionine', 'S-Formylglutathione',\n",
       "       'S-Methyl-5-thio-D-ribulose 1-phosphate', 'Saicar', 'Salicin',\n",
       "       'Salicin 6-phosphate', 'Salicyl alcohol', 'Sarcosine',\n",
       "       'Se-Adenosylselenohomocysteine', 'Secoisolariciresinol',\n",
       "       'Sedoheptulose', 'Sedoheptulose 1,7-bisphosphate', 'Selenite',\n",
       "       'Selenocystathionine', 'Serine', 'Serotonin', 'Shikimic acid',\n",
       "       'Sorbitol', 'Spermidine', 'Spermine', 'Sphinganine', 'Squalene',\n",
       "       'Stachyose', 'Stearic Acid', 'stearoyl-CoA', 'Suberic acid',\n",
       "       'Succinic Acid', 'Succinic semialdehyde', 'Sucrose',\n",
       "       'Sucrose-6-phosphate', 'Sulfate', 'Sulfite', 'Sulfoacetic acid',\n",
       "       'Tartrate', 'Taurine', 'Taurochenodeoxycholic acid',\n",
       "       'Taurocholic acid', 'tetradecanoyl-CoA', 'Tetrahydrofolic acid',\n",
       "       'Thiamine', 'Thiamine monophosphate', 'Thiosulfate',\n",
       "       'threo-3-methyl-L-aspartic acid', 'Threonine', 'Thymidine',\n",
       "       \"Thymidine-5'-diphosphate\", \"Thymidine-5'-phosphate\",\n",
       "       \"Thymidine-5'-triphosphate\", 'Thymine', 'Tranexamic acid',\n",
       "       'trans-Dec-2-enoyl-CoA', 'trans-Oct-2-enoyl-CoA',\n",
       "       'trans-Tetradec-2-enoyl-CoA', 'Trehalose', 'Trehalose-6-phosphate',\n",
       "       'Tretinoin', 'Tricarballylic acid', 'Trimethylamine',\n",
       "       'Trimethylamine oxide', 'Triphosphopyridine nucleotide',\n",
       "       'Triphosphoric acid', 'Tryptamine', 'Tryptophan', 'Tryptophol',\n",
       "       'Turanose', 'Tyramine', 'Tyrosine', 'UDP-alpha-D-galactofuranose',\n",
       "       'UDP-N-acetyl-alpha-D-muramoyl-L-alanyl-gamma-D-glutamyl-L-lysyl-D-alanyl-D-alanine',\n",
       "       'UDP-N-acetylmuraminate', 'Undecaprenyl pyrophosphate', 'Uracil',\n",
       "       'Urea', 'Ureidosuccinic acid', 'Uric Acid', 'Uridine',\n",
       "       \"Uridine-5'-diphosphate\", \"Uridine-5'-diphosphate-glucose\",\n",
       "       'Uridine diphosphate-N-acetylgalactosamine',\n",
       "       'Uridine diphosphate-N-acetylglucosamine',\n",
       "       'Uridine diphosphate glucuronic acid', 'Uridine Monophosphate',\n",
       "       'Urocanic acid', 'Uroporphyrinogen I', 'Uroporphyrinogen III',\n",
       "       'Ursodeoxycholic acid', 'Valeric acid', 'Valine', 'Vanillic Acid',\n",
       "       'Xanthine', 'Xanthosine', \"Xanthosine-5'-monophosphate\",\n",
       "       'Xanthosine-monophosphate', 'Xanthurenic acid', 'Xylitol'],\n",
       "      dtype=object)"
      ]
     },
     "execution_count": 9,
     "metadata": {},
     "output_type": "execute_result"
    }
   ],
   "execution_count": 9
  },
  {
   "metadata": {},
   "cell_type": "code",
   "source": "print(len(meta_gene_df[\"compound\"].unique()))",
   "id": "99e4ccdd0c584dc6",
   "outputs": [],
   "execution_count": null
  },
  {
   "metadata": {},
   "cell_type": "code",
   "source": "meta_gene_df[\"pubchem_id\"].unique()",
   "id": "c04998fc9ac7a04b",
   "outputs": [],
   "execution_count": null
  },
  {
   "metadata": {},
   "cell_type": "code",
   "source": "print(len(meta_gene_df[\"pubchem_id\"].unique()))",
   "id": "27fc397cdbd45a89",
   "outputs": [],
   "execution_count": null
  },
  {
   "metadata": {},
   "cell_type": "code",
   "source": "meta_gene_df[\"kegg_id\"].unique()",
   "id": "1c782c33b6792f90",
   "outputs": [],
   "execution_count": null
  },
  {
   "metadata": {},
   "cell_type": "code",
   "source": "meta_gene_df[\"HMDBID\"].unique()",
   "id": "dd315e288f7121f6",
   "outputs": [],
   "execution_count": null
  },
  {
   "metadata": {},
   "cell_type": "code",
   "source": "meta_gene_df[\"drug_id\"].unique()",
   "id": "1a06eced29f552d5",
   "outputs": [],
   "execution_count": null
  },
  {
   "metadata": {},
   "cell_type": "code",
   "source": "meta_gene_df[\"drug_name\"].unique()",
   "id": "26c1811d133f75c6",
   "outputs": [],
   "execution_count": null
  },
  {
   "metadata": {},
   "cell_type": "code",
   "source": "meta_gene_df[\"Origin\"].unique()",
   "id": "e1e56386e1c17891",
   "outputs": [],
   "execution_count": null
  },
  {
   "metadata": {},
   "cell_type": "code",
   "source": "meta_gene_df[\"smiles_sequence\"].unique()",
   "id": "6e7d72e181bf868c",
   "outputs": [],
   "execution_count": null
  },
  {
   "metadata": {},
   "cell_type": "code",
   "source": "\"Unknow\" or \"Not available\" in meta_gene_df[\"gene\"].unique()",
   "id": "f633305c71c19e85",
   "outputs": [],
   "execution_count": null
  },
  {
   "metadata": {},
   "cell_type": "code",
   "source": "\"Unknow\" and \"Not available\" in meta_gene_df[\"ensembl_id\"].unique()",
   "id": "18106fa7de93fc8e",
   "outputs": [],
   "execution_count": null
  },
  {
   "metadata": {},
   "cell_type": "code",
   "source": "\"Unknow\" and \"Not available\" in meta_gene_df[\"NCBI\"].unique()",
   "id": "fc7d4b5c57f4e160",
   "outputs": [],
   "execution_count": null
  },
  {
   "metadata": {},
   "cell_type": "code",
   "source": "\"Unknow\" and \"Not available\" in meta_gene_df[\"HGNC\"].unique()",
   "id": "622c62f3f8bc4405",
   "outputs": [],
   "execution_count": null
  },
  {
   "metadata": {},
   "cell_type": "code",
   "source": "\"Unknow\" and \"Not available\" in meta_gene_df[\"UniProt\"].unique()",
   "id": "dbf5cbdb5ba3590f",
   "outputs": [],
   "execution_count": null
  },
  {
   "metadata": {},
   "cell_type": "code",
   "source": "\"Unknow\" or \"Not available\" in meta_gene_df[\"protein_size\"].unique()",
   "id": "83c8af51b6ee28dd",
   "outputs": [],
   "execution_count": null
  },
  {
   "metadata": {},
   "cell_type": "code",
   "source": "\"Unknow\" or \"Not available\" in meta_gene_df[\"annonation\"].unique()",
   "id": "a9134bea1e42de14",
   "outputs": [],
   "execution_count": null
  },
  {
   "metadata": {},
   "cell_type": "code",
   "source": "\"Unknow\" and \"Not available\" in meta_gene_df[\"score\"].unique()",
   "id": "9c65aa20cdbc0d56",
   "outputs": [],
   "execution_count": null
  },
  {
   "metadata": {},
   "cell_type": "code",
   "source": "meta_gene_df[\"score\"].unique()",
   "id": "926a63d64b6b0cfe",
   "outputs": [],
   "execution_count": null
  },
  {
   "metadata": {},
   "cell_type": "code",
   "source": "\"Unknow\" or \"Not available\" in meta_gene_df[\"alteration\"].unique()",
   "id": "28ae67225790222c",
   "outputs": [],
   "execution_count": null
  },
  {
   "metadata": {},
   "cell_type": "code",
   "source": "meta_gene_df[\"alteration\"].unique()",
   "id": "8e5fd54e6277df9c",
   "outputs": [],
   "execution_count": null
  },
  {
   "metadata": {},
   "cell_type": "code",
   "source": "\"Unknow\" and \"Not available\" in meta_gene_df[\"PMID\"].unique()",
   "id": "3a743b9b37cb6b30",
   "outputs": [],
   "execution_count": null
  },
  {
   "metadata": {},
   "cell_type": "code",
   "source": "meta_gene_df[\"PMID\"].unique()",
   "id": "f6a73cdbdedbe6f6",
   "outputs": [],
   "execution_count": null
  },
  {
   "metadata": {},
   "cell_type": "code",
   "source": "any(val in meta_gene_df[\"source\"].unique() for val in [\"Unknow\",\"Not available\"])",
   "id": "9f6a59f1c5693bdd",
   "outputs": [],
   "execution_count": null
  },
  {
   "metadata": {},
   "cell_type": "code",
   "source": "meta_gene_df[\"source\"].unique()",
   "id": "1978782928747270",
   "outputs": [],
   "execution_count": null
  },
  {
   "metadata": {},
   "cell_type": "code",
   "source": "",
   "id": "9c2b389150e0062f",
   "outputs": [],
   "execution_count": null
  }
 ],
 "metadata": {
  "kernelspec": {
   "display_name": "Python 3",
   "language": "python",
   "name": "python3"
  },
  "language_info": {
   "codemirror_mode": {
    "name": "ipython",
    "version": 2
   },
   "file_extension": ".py",
   "mimetype": "text/x-python",
   "name": "python",
   "nbconvert_exporter": "python",
   "pygments_lexer": "ipython2",
   "version": "2.7.6"
  }
 },
 "nbformat": 4,
 "nbformat_minor": 5
}
