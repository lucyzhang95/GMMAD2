{
 "cells": [
  {
   "cell_type": "code",
   "id": "initial_id",
   "metadata": {
    "collapsed": true,
    "ExecuteTime": {
     "end_time": "2025-07-08T21:27:05.756601Z",
     "start_time": "2025-07-08T21:27:04.799686Z"
    }
   },
   "source": [
    "import os\n",
    "import pandas as pd\n",
    "from ete3 import NCBITaxa\n",
    "import biothings_client as bt\n",
    "import tarfile\n",
    "import csv\n",
    "import gzip"
   ],
   "outputs": [],
   "execution_count": 1
  },
  {
   "metadata": {
    "ExecuteTime": {
     "end_time": "2025-07-08T21:27:05.828994Z",
     "start_time": "2025-07-08T21:27:05.825866Z"
    }
   },
   "cell_type": "code",
   "source": "os.getcwd()",
   "id": "e256ce5a2cabace6",
   "outputs": [
    {
     "data": {
      "text/plain": [
       "'/Users/bailinzhang/Documents/Wu_Lab/Projects/GMMAD2'"
      ]
     },
     "execution_count": 2,
     "metadata": {},
     "output_type": "execute_result"
    }
   ],
   "execution_count": 2
  },
  {
   "metadata": {
    "ExecuteTime": {
     "end_time": "2025-07-08T21:27:09.625180Z",
     "start_time": "2025-07-08T21:27:05.836698Z"
    }
   },
   "cell_type": "code",
   "source": [
    "micro_meta_df = pd.read_csv(os.path.join(\"downloads\", \"micro_metabolic.csv\"), low_memory=False)\n",
    "meta_gene_df = pd.read_csv(os.path.join(\"downloads\", \"meta_gene_net.csv\"), low_memory=False)"
   ],
   "id": "b2b431d3bb874335",
   "outputs": [],
   "execution_count": 3
  },
  {
   "metadata": {},
   "cell_type": "markdown",
   "source": "## Microbe-Disease",
   "id": "5ca17a9d719245a0"
  },
  {
   "metadata": {
    "ExecuteTime": {
     "end_time": "2025-07-08T21:27:09.649190Z",
     "start_time": "2025-07-08T21:27:09.646207Z"
    }
   },
   "cell_type": "code",
   "outputs": [
    {
     "name": "stdout",
     "output_type": "stream",
     "text": [
      "29\n",
      "3,D009765,Obesity,Azorhizobium caulinodans,species,7,0,0,0,0,D006262,Health,3,0.029020807,0.0248571,0.031027083,-0.0248571,Decrease,A status with BODY WEIGHT that is grossly above the acceptable or desirable weight, usually due to accumulation of excess FATS in the body. The standards may vary with age, sex, genetic or cultural background. In the BODY MASS INDEX, a BMI greater than 30.0 kg/m2 is considered obese, and a BMI greater than 40.0 kg/m2 is considered morbidly obese (MORBID OBESITY).,Pseudomonadota,Alphaproteobacteria,Hyphomicrobiales,Xanthobacteraceae,Azorhizobium\n",
      "\n"
     ]
    }
   ],
   "execution_count": 4,
   "source": [
    "with open(os.path.join(\"downloads\", \"disease_species.csv\"), \"r\") as f:\n",
    "    for i, line in enumerate(f, start=1):\n",
    "        if i == 4:\n",
    "            print(len(line.strip().split(\",\")))\n",
    "            print(line)\n",
    "            break"
   ],
   "id": "b8ca0bf20a5b40b0"
  },
  {
   "metadata": {
    "ExecuteTime": {
     "end_time": "2025-07-08T21:27:09.665623Z",
     "start_time": "2025-07-08T21:27:09.663251Z"
    }
   },
   "cell_type": "code",
   "source": [
    "def line_generator(in_file):\n",
    "    \"\"\"generates lines from a CSV file, yielding each line as a list of strings\n",
    "    This function opens the specified CSV file, skips the header row, and yields each subsequent line as a list of strings.\n",
    "\n",
    "    :param in_file: The path to the CSV file.\n",
    "    :return: An iterator that yields each line of the CSV file as a list of strings.\n",
    "    \"\"\"\n",
    "    with open(in_file, \"r\") as in_f:\n",
    "        reader = csv.reader(in_f)\n",
    "        next(reader)\n",
    "        for line in reader:\n",
    "            yield line"
   ],
   "id": "3f1e800017f49fc0",
   "outputs": [],
   "execution_count": 5
  },
  {
   "metadata": {
    "ExecuteTime": {
     "end_time": "2025-07-08T21:27:09.683703Z",
     "start_time": "2025-07-08T21:27:09.680628Z"
    }
   },
   "cell_type": "code",
   "source": [
    "micro_disease_path = os.path.join(\"downloads\", \"disease_species.csv\")\n",
    "micro_disease = line_generator(micro_disease_path)\n",
    "for i, line in enumerate(micro_disease):\n",
    "    if i == 3:\n",
    "        print(len(line))\n",
    "        print(line)\n",
    "    elif i == 15:\n",
    "        print(len(line))\n",
    "        print(line)\n",
    "    elif i == 16:\n",
    "        print(len(line))\n",
    "        print(line)\n",
    "        break"
   ],
   "id": "e08486b7b35705ec",
   "outputs": [
    {
     "name": "stdout",
     "output_type": "stream",
     "text": [
      "26\n",
      "['4', 'D008103', 'Liver Cirrhosis', 'Azorhizobium caulinodans', 'species', '7', '0', '0', '0', '0', 'D006262', 'Health', '3', '0.029020807', '0.0248571', '0.031027083', '-0.0248571', 'Decrease', 'Liver disease in which the normal microcirculation', ' the gross vascular anatomy', ' and the hepatic architecture have been variably destroyed and altered with fibrous septa surrounding regenerated or regenerating parenchymal nodules.', 'Pseudomonadota', 'Alphaproteobacteria', 'Hyphomicrobiales', 'Xanthobacteraceae', 'Azorhizobium']\n",
      "30\n",
      "['16', 'D001172', 'Arthritis', ' Rheumatoid', 'Azorhizobium caulinodans', 'species', '7', '0', '0', '0', '0', 'D006262', 'Health', '3', '0.029020807', '0.0248571', '0.031027083', '-0.0248571', 'Decrease', 'A chronic systemic disease', ' primarily of the joints', ' marked by inflammatory changes in the synovial membranes and articular structures', ' widespread fibrinoid degeneration of the collagen fibers in mesenchymal tissues', ' and by atrophy and rarefaction of bony structures. Etiology is unknown', ' but autoimmune mechanisms have been implicated.', 'Pseudomonadota', 'Alphaproteobacteria', 'Hyphomicrobiales', 'Xanthobacteraceae', 'Azorhizobium']\n",
      "27\n",
      "['17', 'D043183', 'Irritable Bowel Syndrome', 'Azorhizobium caulinodans', 'species', '7', '0', '0', '0', '0', 'D006262', 'Health', '3', '0.029020807', '0.0248571', '0.031027083', '-0.0248571', 'Decrease', 'A disorder with chronic or recurrent colonic symptoms without a clearcut etiology. This condition is characterized by chronic or recurrent ABDOMINAL PAIN', ' bloating', ' MUCUS in FECES', ' and an erratic disturbance of DEFECATION.', 'Pseudomonadota', 'Alphaproteobacteria', 'Hyphomicrobiales', 'Xanthobacteraceae', 'Azorhizobium']\n"
     ]
    }
   ],
   "execution_count": 6
  },
  {
   "metadata": {
    "ExecuteTime": {
     "end_time": "2025-07-08T21:27:09.704977Z",
     "start_time": "2025-07-08T21:27:09.700920Z"
    }
   },
   "cell_type": "code",
   "source": [
    "def line_generator(in_file):\n",
    "    \"\"\"Yield each CSV line as a list of exactly 24 fields,\n",
    "    rejoining commas inside the 'disease' and 'disease_info' columns.\n",
    "    \"\"\"\n",
    "    EXPECTED_COUNT = 24\n",
    "    HEAD_COUNT = 2\n",
    "    TAIL_COUNT = 5\n",
    "    FIXED_COUNT = 15\n",
    "\n",
    "    with open(in_file, \"r\", encoding=\"utf-8\") as f:\n",
    "        header = next(f).rstrip(\"\\n\").split(\",\")\n",
    "        print(f\"Header column names:{header}\")\n",
    "        next(f)\n",
    "        for line in f:\n",
    "            parts = [part.strip() for part in line.split(\",\")]\n",
    "            if len(parts) == EXPECTED_COUNT:\n",
    "                yield parts\n",
    "            else:\n",
    "                alteration_idx = next(i for i, p in enumerate(parts) if p in (\"Increase\", \"Decrease\"))\n",
    "                head = parts[:HEAD_COUNT]\n",
    "                fixed_start = alteration_idx - (FIXED_COUNT - 1)\n",
    "                disease = \",\".join(parts[2:fixed_start])\n",
    "                fixed = parts[fixed_start: alteration_idx + 1]\n",
    "                disease_info = \",\".join(parts[alteration_idx + 1: len(parts) - TAIL_COUNT])\n",
    "                tail = parts[-TAIL_COUNT:]\n",
    "                new_line = head + [disease] + fixed + [disease_info] + tail\n",
    "                assert len(new_line) == EXPECTED_COUNT, f\"Expected {EXPECTED_COUNT} cols, got {len(new_line)}\"\n",
    "                yield new_line\n"
   ],
   "id": "3558bb5e152b6ec3",
   "outputs": [],
   "execution_count": 7
  },
  {
   "metadata": {
    "ExecuteTime": {
     "end_time": "2025-07-08T21:27:09.719915Z",
     "start_time": "2025-07-08T21:27:09.716821Z"
    }
   },
   "cell_type": "code",
   "source": [
    "micro_disease = line_generator(micro_disease_path)\n",
    "for i, line in enumerate(micro_disease):\n",
    "    if i == 3:\n",
    "        print(len(line))\n",
    "        print(line)\n",
    "    elif i == 15:\n",
    "        print(len(line))\n",
    "        print(line)\n",
    "    elif i == 16:\n",
    "        print(len(line))\n",
    "        print(line)\n",
    "        break"
   ],
   "id": "c26dd3d2f50be754",
   "outputs": [
    {
     "name": "stdout",
     "output_type": "stream",
     "text": [
      "Header column names:['id', 'disease_id', 'disease', 'organism', 'level', 'species_id', 'disease_samples', 'disease_mean', 'disease_median', 'disease_sd', 'health_id', 'health', 'health_samples', 'health_mean', 'health_median', 'health_sd', 'change', 'alteration', 'disease_info', 'phylum', 'class', 'order', 'family', 'genus']\n",
      "24\n",
      "['5', 'D001327', 'Autoimmune Diseases', 'Azorhizobium caulinodans', 'species', '7', '0', '0', '0', '0', 'D006262', 'Health', '3', '0.029020807', '0.0248571', '0.031027083', '-0.0248571', 'Decrease', 'Disorders that are characterized by the production of antibodies that react with host tissues or immune effector cells that are autoreactive to endogenous peptides.', 'Pseudomonadota', 'Alphaproteobacteria', 'Hyphomicrobiales', 'Xanthobacteraceae', 'Azorhizobium']\n",
      "24\n",
      "['17', 'D043183', 'Irritable Bowel Syndrome', 'Azorhizobium caulinodans', 'species', '7', '0', '0', '0', '0', 'D006262', 'Health', '3', '0.029020807', '0.0248571', '0.031027083', '-0.0248571', 'Decrease', 'A disorder with chronic or recurrent colonic symptoms without a clearcut etiology. This condition is characterized by chronic or recurrent ABDOMINAL PAIN,bloating,MUCUS in FECES,and an erratic disturbance of DEFECATION.', 'Pseudomonadota', 'Alphaproteobacteria', 'Hyphomicrobiales', 'Xanthobacteraceae', 'Azorhizobium']\n",
      "24\n",
      "['18', 'D003093', 'Colitis,Ulcerative', 'Azorhizobium caulinodans', 'species', '7', '0', '0', '0', '0', 'D006262', 'Health', '3', '0.029020807', '0.0248571', '0.031027083', '-0.0248571', 'Decrease', 'Inflammation of the COLON that is predominantly confined to the MUCOSA. Its major symptoms include DIARRHEA,rectal BLEEDING,the passage of MUCUS,and ABDOMINAL PAIN.', 'Pseudomonadota', 'Alphaproteobacteria', 'Hyphomicrobiales', 'Xanthobacteraceae', 'Azorhizobium']\n"
     ]
    }
   ],
   "execution_count": 8
  },
  {
   "metadata": {
    "ExecuteTime": {
     "end_time": "2025-07-08T21:27:09.735172Z",
     "start_time": "2025-07-08T21:27:09.733512Z"
    }
   },
   "cell_type": "code",
   "source": "",
   "id": "e361aa30e28b8d5e",
   "outputs": [],
   "execution_count": null
  },
  {
   "metadata": {
    "ExecuteTime": {
     "end_time": "2025-07-08T21:27:11.353792Z",
     "start_time": "2025-07-08T21:27:09.740616Z"
    }
   },
   "cell_type": "code",
   "source": [
    "taxids = [line[5] for line in line_generator(micro_disease_path)]\n",
    "print(len(set(taxids)))"
   ],
   "id": "abd2a2d2f6f46681",
   "outputs": [
    {
     "name": "stdout",
     "output_type": "stream",
     "text": [
      "Header column names:['id', 'disease_id', 'disease', 'organism', 'level', 'species_id', 'disease_samples', 'disease_mean', 'disease_median', 'disease_sd', 'health_id', 'health', 'health_samples', 'health_mean', 'health_median', 'health_sd', 'change', 'alteration', 'disease_info', 'phylum', 'class', 'order', 'family', 'genus']\n",
      "6966\n"
     ]
    }
   ],
   "execution_count": 9
  },
  {
   "metadata": {
    "ExecuteTime": {
     "end_time": "2025-07-08T21:27:11.370681Z",
     "start_time": "2025-07-08T21:27:11.368569Z"
    }
   },
   "cell_type": "code",
   "source": [
    "def get_taxon_info(f_path) -> list:\n",
    "    \"\"\"retrieves taxonomic information for a given list of taxon IDs from disease_species.csv\n",
    "\n",
    "    This function reads taxon IDs, removes duplicates, and queries taxonomic info from biothings_client\n",
    "    to retrieve detailed taxonomic information including scientific name, parent taxid, lineage, and rank.\n",
    "\n",
    "    :param f_path: Path to disease_species.csv containing the taxids.\n",
    "    :return: A list of dictionaries containing taxonomic information.\n",
    "    \"\"\"\n",
    "    taxids = [line[5] for line in line_generator(f_path)]\n",
    "    taxids = set(taxids)\n",
    "    t = bt.get_client(\"taxon\")\n",
    "    taxon_info = t.gettaxa(taxids, fields=[\"scientific_name\", \"parent_taxid\", \"lineage\", \"rank\"])\n",
    "    return taxon_info"
   ],
   "id": "7869af7cbbb243e5",
   "outputs": [],
   "execution_count": 10
  },
  {
   "metadata": {
    "ExecuteTime": {
     "end_time": "2025-07-08T21:27:27.595390Z",
     "start_time": "2025-07-08T21:27:11.380146Z"
    }
   },
   "cell_type": "code",
   "source": [
    "notfound = [\n",
    "    taxon[\"query\"]\n",
    "    for taxon in get_taxon_info(micro_disease_path)\n",
    "    if \"notfound\" in taxon.keys()\n",
    "]"
   ],
   "id": "304667571d9b9e72",
   "outputs": [
    {
     "name": "stdout",
     "output_type": "stream",
     "text": [
      "Header column names:['id', 'disease_id', 'disease', 'organism', 'level', 'species_id', 'disease_samples', 'disease_mean', 'disease_median', 'disease_sd', 'health_id', 'health', 'health_samples', 'health_mean', 'health_median', 'health_sd', 'change', 'alteration', 'disease_info', 'phylum', 'class', 'order', 'family', 'genus']\n",
      "95\n",
      "95\n"
     ]
    }
   ],
   "execution_count": 11
  },
  {
   "metadata": {
    "ExecuteTime": {
     "end_time": "2025-07-08T21:27:27.615578Z",
     "start_time": "2025-07-08T21:27:27.612713Z"
    }
   },
   "cell_type": "code",
   "source": [
    "print(len(notfound))\n",
    "print(len(set(notfound)))"
   ],
   "id": "9013cc98a088bea5",
   "outputs": [
    {
     "data": {
      "text/plain": [
       "95"
      ]
     },
     "execution_count": 12,
     "metadata": {},
     "output_type": "execute_result"
    }
   ],
   "execution_count": 12
  },
  {
   "metadata": {
    "ExecuteTime": {
     "end_time": "2025-07-08T21:28:48.586134Z",
     "start_time": "2025-07-08T21:27:27.630725Z"
    }
   },
   "cell_type": "code",
   "source": [
    "ncbi = NCBITaxa()\n",
    "ncbi.update_taxonomy_database()"
   ],
   "id": "a61dcc02f6cbded8",
   "outputs": [
    {
     "name": "stderr",
     "output_type": "stream",
     "text": [
      "Updating taxdump.tar.gz from NCBI FTP site (via HTTP)...\n",
      "Done. Parsing...\n"
     ]
    },
    {
     "name": "stdout",
     "output_type": "stream",
     "text": [
      "Loading node names...\n",
      "2684591 names loaded.\n",
      "418729 synonyms loaded.\n",
      "Loading nodes...\n",
      "2684591 nodes loaded.\n",
      "Linking nodes...\n",
      "Tree is loaded.\n",
      "Updating database: /Users/bailinzhang/.etetoolkit/taxa.sqlite ...\n",
      " 2684000 generating entries... \n",
      "Uploading to /Users/bailinzhang/.etetoolkit/taxa.sqlite\n"
     ]
    },
    {
     "name": "stderr",
     "output_type": "stream",
     "text": [
      "Inserting synonyms:      45000 "
     ]
    },
    {
     "name": "stdout",
     "output_type": "stream",
     "text": [
      "\n"
     ]
    },
    {
     "name": "stderr",
     "output_type": "stream",
     "text": [
      "Inserting taxids:       15000        "
     ]
    },
    {
     "name": "stdout",
     "output_type": "stream",
     "text": [
      "\n",
      "\n"
     ]
    },
    {
     "name": "stderr",
     "output_type": "stream",
     "text": [
      "Inserting taxids:       2680000     "
     ]
    },
    {
     "name": "stdout",
     "output_type": "stream",
     "text": [
      "\n"
     ]
    }
   ],
   "execution_count": 13
  },
  {
   "metadata": {
    "ExecuteTime": {
     "end_time": "2025-07-08T21:28:48.637790Z",
     "start_time": "2025-07-08T21:28:48.634437Z"
    }
   },
   "cell_type": "code",
   "source": [
    "def load_merged_from_tar(tar_gz_path, f_name=\"merged.dmp\"):\n",
    "    \"\"\"Parse 'merged.dmp' of taxdump.tar.gz downloaded by ete3.\n",
    "    Returns a dict {old_taxid: new_taxid}.\n",
    "    \"\"\"\n",
    "    if not os.path.exists(tar_gz_path):\n",
    "        ncbi = NCBITaxa()\n",
    "        ncbi.update_taxonomy_database()\n",
    "\n",
    "    taxid_mapping = {}\n",
    "    with tarfile.open(tar_gz_path, 'r:gz') as tar:\n",
    "        f = tar.getmember(f_name)\n",
    "        with tar.extractfile(f) as fp:\n",
    "            for line in fp:\n",
    "                parts = line.decode('utf-8').split('\\t')\n",
    "                old, new = parts[0], parts[2]\n",
    "                taxid_mapping[old] = new\n",
    "    return taxid_mapping"
   ],
   "id": "31e4a3ec7c230a54",
   "outputs": [],
   "execution_count": 14
  },
  {
   "metadata": {
    "ExecuteTime": {
     "end_time": "2025-07-08T21:28:48.678578Z",
     "start_time": "2025-07-08T21:28:48.676329Z"
    }
   },
   "cell_type": "code",
   "source": [
    "def get_current_taxid(old_taxids, merged_mapping):\n",
    "    taxid_mapping = {}\n",
    "    for old_taxid in old_taxids:\n",
    "        taxid_mapping[old_taxid] = merged_mapping[old_taxid]\n",
    "    return taxid_mapping"
   ],
   "id": "acc8a1a8670b9fa2",
   "outputs": [],
   "execution_count": 15
  },
  {
   "metadata": {
    "ExecuteTime": {
     "end_time": "2025-07-08T21:28:49.325668Z",
     "start_time": "2025-07-08T21:28:48.690386Z"
    }
   },
   "cell_type": "code",
   "source": [
    "mapping = load_merged_from_tar(\"taxdump.tar.gz\")\n",
    "mapped_taxid = get_current_taxid(notfound, mapping)"
   ],
   "id": "6e20f0d6aa8cbe34",
   "outputs": [],
   "execution_count": 16
  },
  {
   "metadata": {
    "ExecuteTime": {
     "end_time": "2025-07-08T21:28:49.349414Z",
     "start_time": "2025-07-08T21:28:49.347225Z"
    }
   },
   "cell_type": "code",
   "source": [
    "if \"194866\" in mapping:\n",
    "    print(\"194866 is in the mapping\")\n",
    "    print(f\"current taxid for 194866: {mapping['194866']}\")\n",
    "else:\n",
    "    print(\"194866 is not in the mapping\")"
   ],
   "id": "962bd7beb66f230b",
   "outputs": [
    {
     "name": "stdout",
     "output_type": "stream",
     "text": [
      "194866 is in the mapping\n",
      "current taxid for 194866: 46624\n"
     ]
    }
   ],
   "execution_count": 17
  },
  {
   "metadata": {
    "ExecuteTime": {
     "end_time": "2025-07-08T21:28:49.375043Z",
     "start_time": "2025-07-08T21:28:49.372271Z"
    }
   },
   "cell_type": "code",
   "source": "len(mapped_taxid)",
   "id": "db5919055a656b8",
   "outputs": [
    {
     "data": {
      "text/plain": [
       "95"
      ]
     },
     "execution_count": 18,
     "metadata": {},
     "output_type": "execute_result"
    }
   ],
   "execution_count": 18
  },
  {
   "metadata": {
    "ExecuteTime": {
     "end_time": "2025-07-08T21:28:49.399047Z",
     "start_time": "2025-07-08T21:28:49.396661Z"
    }
   },
   "cell_type": "code",
   "source": [
    "new_taxids = [new for old, new in mapped_taxid.items()]\n",
    "print(len(new_taxids))\n",
    "print(len(set(new_taxids)))"
   ],
   "id": "852ff1c20351b0c5",
   "outputs": [
    {
     "name": "stdout",
     "output_type": "stream",
     "text": [
      "95\n",
      "86\n"
     ]
    }
   ],
   "execution_count": 19
  },
  {
   "metadata": {
    "ExecuteTime": {
     "end_time": "2025-07-08T21:30:56.870540Z",
     "start_time": "2025-07-08T21:30:56.868417Z"
    }
   },
   "cell_type": "code",
   "source": [
    "still_notfound = [taxid for taxid in notfound if taxid not in mapped_taxid.keys()]\n",
    "print(len(still_notfound))"
   ],
   "id": "f10d9be783831eb0",
   "outputs": [
    {
     "name": "stdout",
     "output_type": "stream",
     "text": [
      "0\n"
     ]
    }
   ],
   "execution_count": 29
  },
  {
   "metadata": {
    "ExecuteTime": {
     "end_time": "2025-07-08T21:28:49.423814Z",
     "start_time": "2025-07-08T21:28:49.421353Z"
    }
   },
   "cell_type": "code",
   "source": [
    "def get_taxon_info(taxids) -> list:\n",
    "    \"\"\"retrieves taxonomic information for a given list of taxon IDs from disease_species.csv\n",
    "\n",
    "    This function reads taxon IDs, removes duplicates, and queries taxonomic info from biothings_client\n",
    "    to retrieve detailed taxonomic information including scientific name, parent taxid, lineage, and rank.\n",
    "\n",
    "    :param f_path: Path to disease_species.csv containing the taxids.\n",
    "    :return: A list of dictionaries containing taxonomic information.\n",
    "    \"\"\"\n",
    "    taxids = set(taxids)\n",
    "    t = bt.get_client(\"taxon\")\n",
    "    taxon_info = t.gettaxa(taxids, fields=[\"scientific_name\", \"parent_taxid\", \"lineage\", \"rank\"])\n",
    "    return taxon_info"
   ],
   "id": "5b726fa424ce3bb2",
   "outputs": [],
   "execution_count": 20
  },
  {
   "metadata": {
    "ExecuteTime": {
     "end_time": "2025-07-08T21:28:51.064421Z",
     "start_time": "2025-07-08T21:28:49.444579Z"
    }
   },
   "cell_type": "code",
   "source": [
    "new_taxid_mapped = get_taxon_info(new_taxids)\n",
    "new_taxid_mapped"
   ],
   "id": "aa48d7d19fecc440",
   "outputs": [
    {
     "data": {
      "text/plain": [
       "[{'query': '358',\n",
       "  '_id': '358',\n",
       "  '_version': 1,\n",
       "  'lineage': [358,\n",
       "   1183400,\n",
       "   357,\n",
       "   227290,\n",
       "   82115,\n",
       "   356,\n",
       "   28211,\n",
       "   1224,\n",
       "   3379134,\n",
       "   2,\n",
       "   131567,\n",
       "   1],\n",
       "  'parent_taxid': 1183400,\n",
       "  'rank': 'species',\n",
       "  'scientific_name': 'agrobacterium tumefaciens'},\n",
       " {'query': '817',\n",
       "  '_id': '817',\n",
       "  '_version': 1,\n",
       "  'lineage': [817,\n",
       "   816,\n",
       "   815,\n",
       "   171549,\n",
       "   200643,\n",
       "   976,\n",
       "   68336,\n",
       "   1783270,\n",
       "   3379134,\n",
       "   2,\n",
       "   131567,\n",
       "   1],\n",
       "  'parent_taxid': 816,\n",
       "  'rank': 'species',\n",
       "  'scientific_name': 'bacteroides fragilis'},\n",
       " {'query': '3070818',\n",
       "  '_id': '3070818',\n",
       "  '_version': 1,\n",
       "  'lineage': [3070818,\n",
       "   285107,\n",
       "   31989,\n",
       "   204455,\n",
       "   28211,\n",
       "   1224,\n",
       "   3379134,\n",
       "   2,\n",
       "   131567,\n",
       "   1],\n",
       "  'parent_taxid': 285107,\n",
       "  'rank': 'species',\n",
       "  'scientific_name': 'thioclava kandeliae'},\n",
       " {'query': '1961',\n",
       "  '_id': '1961',\n",
       "  '_version': 1,\n",
       "  'lineage': [1961, 1883, 2062, 85011, 1760, 201174, 1783272, 2, 131567, 1],\n",
       "  'parent_taxid': 1883,\n",
       "  'rank': 'species',\n",
       "  'scientific_name': 'streptomyces virginiae'},\n",
       " {'query': '147825',\n",
       "  '_id': '147825',\n",
       "  '_version': 1,\n",
       "  'lineage': [147825, 497, 468, 2887326, 1236, 1224, 3379134, 2, 131567, 1],\n",
       "  'parent_taxid': 497,\n",
       "  'rank': 'species',\n",
       "  'scientific_name': 'psychrobacter proteolyticus'},\n",
       " {'query': '2169547',\n",
       "  '_id': '2169547',\n",
       "  '_version': 1,\n",
       "  'lineage': [2169547,\n",
       "   171392,\n",
       "   54298,\n",
       "   1890528,\n",
       "   1890505,\n",
       "   3028117,\n",
       "   1117,\n",
       "   1798711,\n",
       "   1783272,\n",
       "   2,\n",
       "   131567,\n",
       "   1],\n",
       "  'parent_taxid': 171392,\n",
       "  'rank': 'strain',\n",
       "  'scientific_name': 'chroococcidiopsis cubana ccala 040'},\n",
       " {'query': '2754056',\n",
       "  '_id': '2754056',\n",
       "  '_version': 1,\n",
       "  'lineage': [2754056,\n",
       "   56454,\n",
       "   338,\n",
       "   32033,\n",
       "   135614,\n",
       "   1236,\n",
       "   1224,\n",
       "   3379134,\n",
       "   2,\n",
       "   131567,\n",
       "   1],\n",
       "  'parent_taxid': 56454,\n",
       "  'rank': 'no rank',\n",
       "  'scientific_name': 'xanthomonas hortorum pv. gardneri'},\n",
       " {'query': '29370',\n",
       "  '_id': '29370',\n",
       "  '_version': 1,\n",
       "  'lineage': [29370,\n",
       "   2719231,\n",
       "   186803,\n",
       "   3085636,\n",
       "   186801,\n",
       "   1239,\n",
       "   1783272,\n",
       "   2,\n",
       "   131567,\n",
       "   1],\n",
       "  'parent_taxid': 2719231,\n",
       "  'rank': 'species',\n",
       "  'scientific_name': 'lacrimispora sphenoides'},\n",
       " {'query': '105841',\n",
       "  '_id': '105841',\n",
       "  '_version': 1,\n",
       "  'lineage': [105841,\n",
       "   207244,\n",
       "   186803,\n",
       "   3085636,\n",
       "   186801,\n",
       "   1239,\n",
       "   1783272,\n",
       "   2,\n",
       "   131567,\n",
       "   1],\n",
       "  'parent_taxid': 207244,\n",
       "  'rank': 'species',\n",
       "  'scientific_name': 'anaerostipes caccae'},\n",
       " {'query': '1911',\n",
       "  '_id': '1911',\n",
       "  '_version': 1,\n",
       "  'lineage': [1911,\n",
       "   1482596,\n",
       "   629295,\n",
       "   1883,\n",
       "   2062,\n",
       "   85011,\n",
       "   1760,\n",
       "   201174,\n",
       "   1783272,\n",
       "   2,\n",
       "   131567,\n",
       "   1],\n",
       "  'parent_taxid': 1482596,\n",
       "  'rank': 'species',\n",
       "  'scientific_name': 'streptomyces griseus'},\n",
       " {'query': '2964767',\n",
       "  '_id': '2964767',\n",
       "  '_version': 1,\n",
       "  'lineage': [2964767,\n",
       "   3086183,\n",
       "   2854170,\n",
       "   204455,\n",
       "   28211,\n",
       "   1224,\n",
       "   3379134,\n",
       "   2,\n",
       "   131567,\n",
       "   1],\n",
       "  'parent_taxid': 3086183,\n",
       "  'rank': 'species',\n",
       "  'scientific_name': 'rhodalgimonas zhirmunskyi'},\n",
       " {'query': '301953',\n",
       "  '_id': '301953',\n",
       "  '_version': 1,\n",
       "  'lineage': [301953,\n",
       "   44000,\n",
       "   3071002,\n",
       "   3071001,\n",
       "   2840488,\n",
       "   1239,\n",
       "   1783272,\n",
       "   2,\n",
       "   131567,\n",
       "   1],\n",
       "  'parent_taxid': 44000,\n",
       "  'rank': 'species',\n",
       "  'scientific_name': 'caldicellulosiruptor acetigenus'},\n",
       " {'query': '32002',\n",
       "  '_id': '32002',\n",
       "  '_version': 1,\n",
       "  'lineage': [32002, 222, 506, 80840, 28216, 1224, 3379134, 2, 131567, 1],\n",
       "  'parent_taxid': 222,\n",
       "  'rank': 'species',\n",
       "  'scientific_name': 'achromobacter denitrificans'},\n",
       " {'query': '1404864',\n",
       "  '_id': '1404864',\n",
       "  '_version': 1,\n",
       "  'lineage': [1404864, 374, 41294, 356, 28211, 1224, 3379134, 2, 131567, 1],\n",
       "  'parent_taxid': 374,\n",
       "  'rank': 'species',\n",
       "  'scientific_name': 'bradyrhizobium cosmicum'},\n",
       " {'query': '311460',\n",
       "  '_id': '311460',\n",
       "  '_version': 1,\n",
       "  'lineage': [311460,\n",
       "   3389905,\n",
       "   3120669,\n",
       "   1385,\n",
       "   91061,\n",
       "   1239,\n",
       "   1783272,\n",
       "   2,\n",
       "   131567,\n",
       "   1],\n",
       "  'parent_taxid': 3389905,\n",
       "  'rank': 'species',\n",
       "  'scientific_name': 'anoxybacteroides rupiense'},\n",
       " {'query': '69825',\n",
       "  '_id': '69825',\n",
       "  '_version': 1,\n",
       "  'lineage': [69825,\n",
       "   2719231,\n",
       "   186803,\n",
       "   3085636,\n",
       "   186801,\n",
       "   1239,\n",
       "   1783272,\n",
       "   2,\n",
       "   131567,\n",
       "   1],\n",
       "  'parent_taxid': 2719231,\n",
       "  'rank': 'species',\n",
       "  'scientific_name': 'lacrimispora indolis'},\n",
       " {'query': '2036',\n",
       "  '_id': '2036',\n",
       "  '_version': 1,\n",
       "  'lineage': [2036, 2034, 85023, 85006, 1760, 201174, 1783272, 2, 131567, 1],\n",
       "  'parent_taxid': 2034,\n",
       "  'rank': 'species',\n",
       "  'scientific_name': 'curtobacterium citreum'},\n",
       " {'query': '48935',\n",
       "  '_id': '48935',\n",
       "  '_version': 1,\n",
       "  'lineage': [48935,\n",
       "   165696,\n",
       "   41297,\n",
       "   204457,\n",
       "   28211,\n",
       "   1224,\n",
       "   3379134,\n",
       "   2,\n",
       "   131567,\n",
       "   1],\n",
       "  'parent_taxid': 165696,\n",
       "  'rank': 'species',\n",
       "  'scientific_name': 'novosphingobium aromaticivorans'},\n",
       " {'query': '2654982',\n",
       "  '_id': '2654982',\n",
       "  '_version': 1,\n",
       "  'lineage': [2654982,\n",
       "   1822464,\n",
       "   119060,\n",
       "   80840,\n",
       "   28216,\n",
       "   1224,\n",
       "   3379134,\n",
       "   2,\n",
       "   131567,\n",
       "   1],\n",
       "  'parent_taxid': 1822464,\n",
       "  'rank': 'species',\n",
       "  'scientific_name': 'paraburkholderia atlantica'},\n",
       " {'query': '2339232',\n",
       "  '_id': '2339232',\n",
       "  '_version': 1,\n",
       "  'lineage': [2339232,\n",
       "   2793122,\n",
       "   2793121,\n",
       "   2793120,\n",
       "   1760,\n",
       "   201174,\n",
       "   1783272,\n",
       "   2,\n",
       "   131567,\n",
       "   1],\n",
       "  'parent_taxid': 2793122,\n",
       "  'rank': 'species',\n",
       "  'scientific_name': 'vallicoccus soli'},\n",
       " {'query': '2577098',\n",
       "  '_id': '2577098',\n",
       "  '_version': 1,\n",
       "  'lineage': [2577098, 1883, 2062, 85011, 1760, 201174, 1783272, 2, 131567, 1],\n",
       "  'parent_taxid': 1883,\n",
       "  'rank': 'species',\n",
       "  'scientific_name': 'streptomyces katsurahamanus'},\n",
       " {'query': '46624',\n",
       "  '_id': '46624',\n",
       "  '_version': 1,\n",
       "  'lineage': [46624,\n",
       "   196159,\n",
       "   13687,\n",
       "   41297,\n",
       "   204457,\n",
       "   28211,\n",
       "   1224,\n",
       "   3379134,\n",
       "   2,\n",
       "   131567,\n",
       "   1],\n",
       "  'parent_taxid': 196159,\n",
       "  'rank': 'species',\n",
       "  'scientific_name': 'sphingomonas sp. s88'},\n",
       " {'query': '299258',\n",
       "  '_id': '299258',\n",
       "  '_version': 1,\n",
       "  'lineage': [299258,\n",
       "   2620587,\n",
       "   44011,\n",
       "   267892,\n",
       "   135622,\n",
       "   1236,\n",
       "   1224,\n",
       "   3379134,\n",
       "   2,\n",
       "   131567,\n",
       "   1],\n",
       "  'parent_taxid': 2620587,\n",
       "  'rank': 'species',\n",
       "  'scientific_name': 'ferrimonas sp. a3b-64-2'},\n",
       " {'query': '68175',\n",
       "  '_id': '68175',\n",
       "  '_version': 1,\n",
       "  'lineage': [68175, 1883, 2062, 85011, 1760, 201174, 1783272, 2, 131567, 1],\n",
       "  'parent_taxid': 1883,\n",
       "  'rank': 'species',\n",
       "  'scientific_name': 'streptomyces antimycoticus'},\n",
       " {'query': '1614',\n",
       "  '_id': '1614',\n",
       "  '_version': 1,\n",
       "  'lineage': [1614,\n",
       "   2767881,\n",
       "   33958,\n",
       "   186826,\n",
       "   91061,\n",
       "   1239,\n",
       "   1783272,\n",
       "   2,\n",
       "   131567,\n",
       "   1],\n",
       "  'parent_taxid': 2767881,\n",
       "  'rank': 'species',\n",
       "  'scientific_name': 'fructilactobacillus fructivorans'},\n",
       " {'query': '366649',\n",
       "  '_id': '366649',\n",
       "  '_version': 1,\n",
       "  'lineage': [366649,\n",
       "   346,\n",
       "   643453,\n",
       "   338,\n",
       "   32033,\n",
       "   135614,\n",
       "   1236,\n",
       "   1224,\n",
       "   3379134,\n",
       "   2,\n",
       "   131567,\n",
       "   1],\n",
       "  'parent_taxid': 346,\n",
       "  'rank': 'no rank',\n",
       "  'scientific_name': 'xanthomonas citri pv. fuscans'},\n",
       " {'query': '1156431',\n",
       "  '_id': '1156431',\n",
       "  '_version': 1,\n",
       "  'lineage': [1156431, 1301, 1300, 186826, 91061, 1239, 1783272, 2, 131567, 1],\n",
       "  'parent_taxid': 1301,\n",
       "  'rank': 'species',\n",
       "  'scientific_name': 'streptococcus ilei'},\n",
       " {'query': '818',\n",
       "  '_id': '818',\n",
       "  '_version': 1,\n",
       "  'lineage': [818,\n",
       "   816,\n",
       "   815,\n",
       "   171549,\n",
       "   200643,\n",
       "   976,\n",
       "   68336,\n",
       "   1783270,\n",
       "   3379134,\n",
       "   2,\n",
       "   131567,\n",
       "   1],\n",
       "  'parent_taxid': 816,\n",
       "  'rank': 'species',\n",
       "  'scientific_name': 'bacteroides thetaiotaomicron'},\n",
       " {'query': '45634',\n",
       "  '_id': '45634',\n",
       "  '_version': 1,\n",
       "  'lineage': [45634, 1301, 1300, 186826, 91061, 1239, 1783272, 2, 131567, 1],\n",
       "  'parent_taxid': 1301,\n",
       "  'rank': 'species',\n",
       "  'scientific_name': 'streptococcus cristatus'},\n",
       " {'query': '2585118',\n",
       "  '_id': '2585118',\n",
       "  '_version': 1,\n",
       "  'lineage': [2585118,\n",
       "   239759,\n",
       "   171550,\n",
       "   171549,\n",
       "   200643,\n",
       "   976,\n",
       "   68336,\n",
       "   1783270,\n",
       "   3379134,\n",
       "   2,\n",
       "   131567,\n",
       "   1],\n",
       "  'parent_taxid': 239759,\n",
       "  'rank': 'species',\n",
       "  'scientific_name': 'alistipes communis'},\n",
       " {'query': '1888',\n",
       "  '_id': '1888',\n",
       "  '_version': 1,\n",
       "  'lineage': [1888, 1883, 2062, 85011, 1760, 201174, 1783272, 2, 131567, 1],\n",
       "  'parent_taxid': 1883,\n",
       "  'rank': 'species',\n",
       "  'scientific_name': 'streptomyces albus'},\n",
       " {'query': '33027',\n",
       "  '_id': '33027',\n",
       "  '_version': 1,\n",
       "  'lineage': [33027,\n",
       "   269670,\n",
       "   2077,\n",
       "   186821,\n",
       "   1385,\n",
       "   91061,\n",
       "   1239,\n",
       "   1783272,\n",
       "   2,\n",
       "   131567,\n",
       "   1],\n",
       "  'parent_taxid': 269670,\n",
       "  'rank': 'subspecies',\n",
       "  'scientific_name': 'sporolactobacillus nakayamae subsp. racemicus'},\n",
       " {'query': '299259',\n",
       "  '_id': '299259',\n",
       "  '_version': 1,\n",
       "  'lineage': [299259,\n",
       "   2620587,\n",
       "   44011,\n",
       "   267892,\n",
       "   135622,\n",
       "   1236,\n",
       "   1224,\n",
       "   3379134,\n",
       "   2,\n",
       "   131567,\n",
       "   1],\n",
       "  'parent_taxid': 2620587,\n",
       "  'rank': 'species',\n",
       "  'scientific_name': 'ferrimonas sp. a3b-58'},\n",
       " {'query': '2144',\n",
       "  '_id': '2144',\n",
       "  '_version': 1,\n",
       "  'lineage': [2144, 2132, 2131, 186328, 31969, 544448, 1783272, 2, 131567, 1],\n",
       "  'parent_taxid': 2132,\n",
       "  'rank': 'species',\n",
       "  'scientific_name': 'spiroplasma mirum'},\n",
       " {'query': '1055104',\n",
       "  '_id': '1055104',\n",
       "  '_version': 1,\n",
       "  'lineage': [1055104,\n",
       "   204286,\n",
       "   28256,\n",
       "   135619,\n",
       "   1236,\n",
       "   1224,\n",
       "   3379134,\n",
       "   2,\n",
       "   131567,\n",
       "   1],\n",
       "  'parent_taxid': 204286,\n",
       "  'rank': 'species',\n",
       "  'scientific_name': 'cobetia amphilecti'},\n",
       " {'query': '359679',\n",
       "  '_id': '359679',\n",
       "  '_version': 1,\n",
       "  'lineage': [359679,\n",
       "   2619833,\n",
       "   48073,\n",
       "   1706373,\n",
       "   1706369,\n",
       "   1236,\n",
       "   1224,\n",
       "   3379134,\n",
       "   2,\n",
       "   131567,\n",
       "   1],\n",
       "  'parent_taxid': 2619833,\n",
       "  'rank': 'species',\n",
       "  'scientific_name': 'microbulbifer sp. mbic04035'},\n",
       " {'query': '1309411',\n",
       "  '_id': '1309411',\n",
       "  '_version': 1,\n",
       "  'lineage': [1309411,\n",
       "   1298,\n",
       "   183710,\n",
       "   118964,\n",
       "   188787,\n",
       "   1297,\n",
       "   3384194,\n",
       "   2,\n",
       "   131567,\n",
       "   1],\n",
       "  'parent_taxid': 1298,\n",
       "  'rank': 'species',\n",
       "  'scientific_name': 'deinococcus soli (ex cha et al. 2016)'},\n",
       " {'query': '1113893',\n",
       "  '_id': '1113893',\n",
       "  '_version': 1,\n",
       "  'lineage': [1113893,\n",
       "   2638842,\n",
       "   59753,\n",
       "   224372,\n",
       "   135619,\n",
       "   1236,\n",
       "   1224,\n",
       "   3379134,\n",
       "   2,\n",
       "   131567,\n",
       "   1],\n",
       "  'parent_taxid': 2638842,\n",
       "  'rank': 'species',\n",
       "  'scientific_name': 'alcanivorax sp. nbrc 102022'},\n",
       " {'query': '77608',\n",
       "  '_id': '77608',\n",
       "  '_version': 1,\n",
       "  'lineage': [77608, 53246, 267888, 135622, 1236, 1224, 3379134, 2, 131567, 1],\n",
       "  'parent_taxid': 53246,\n",
       "  'rank': 'species',\n",
       "  'scientific_name': 'pseudoalteromonas distincta'},\n",
       " {'query': '332055',\n",
       "  '_id': '332055',\n",
       "  '_version': 1,\n",
       "  'lineage': [332055,\n",
       "   165695,\n",
       "   41297,\n",
       "   204457,\n",
       "   28211,\n",
       "   1224,\n",
       "   3379134,\n",
       "   2,\n",
       "   131567,\n",
       "   1],\n",
       "  'parent_taxid': 165695,\n",
       "  'rank': 'species',\n",
       "  'scientific_name': 'sphingobium indicum'},\n",
       " {'query': '164330',\n",
       "  '_id': '164330',\n",
       "  '_version': 1,\n",
       "  'lineage': [164330,\n",
       "   33057,\n",
       "   2008794,\n",
       "   206389,\n",
       "   28216,\n",
       "   1224,\n",
       "   3379134,\n",
       "   2,\n",
       "   131567,\n",
       "   1],\n",
       "  'parent_taxid': 33057,\n",
       "  'rank': 'species',\n",
       "  'scientific_name': 'thauera aminoaromatica'},\n",
       " {'query': '1672',\n",
       "  '_id': '1672',\n",
       "  '_version': 1,\n",
       "  'lineage': [1672, 1663, 1268, 85006, 1760, 201174, 1783272, 2, 131567, 1],\n",
       "  'parent_taxid': 1663,\n",
       "  'rank': 'species',\n",
       "  'scientific_name': 'arthrobacter ramosus'},\n",
       " {'query': '47885',\n",
       "  '_id': '47885',\n",
       "  '_version': 1,\n",
       "  'lineage': [47885,\n",
       "   136845,\n",
       "   286,\n",
       "   135621,\n",
       "   72274,\n",
       "   1236,\n",
       "   1224,\n",
       "   3379134,\n",
       "   2,\n",
       "   131567,\n",
       "   1],\n",
       "  'parent_taxid': 136845,\n",
       "  'rank': 'species',\n",
       "  'scientific_name': 'pseudomonas oryzihabitans'},\n",
       " {'query': '280238',\n",
       "  '_id': '280238',\n",
       "  '_version': 1,\n",
       "  'lineage': [280238, 2013, 83676, 85012, 1760, 201174, 1783272, 2, 131567, 1],\n",
       "  'parent_taxid': 2013,\n",
       "  'rank': 'species',\n",
       "  'scientific_name': 'nocardiopsis rhodophaea'},\n",
       " {'query': '1036778',\n",
       "  '_id': '1036778',\n",
       "  '_version': 1,\n",
       "  'lineage': [1036778,\n",
       "   85413,\n",
       "   2831100,\n",
       "   356,\n",
       "   28211,\n",
       "   1224,\n",
       "   3379134,\n",
       "   2,\n",
       "   131567,\n",
       "   1],\n",
       "  'parent_taxid': 85413,\n",
       "  'rank': 'species',\n",
       "  'scientific_name': 'bosea lathyri'},\n",
       " {'query': '2893586',\n",
       "  '_id': '2893586',\n",
       "  '_version': 1,\n",
       "  'lineage': [2893586,\n",
       "   65496,\n",
       "   2070,\n",
       "   85010,\n",
       "   1760,\n",
       "   201174,\n",
       "   1783272,\n",
       "   2,\n",
       "   131567,\n",
       "   1],\n",
       "  'parent_taxid': 65496,\n",
       "  'rank': 'species',\n",
       "  'scientific_name': 'actinoalloteichus caeruleus'},\n",
       " {'query': '1000568',\n",
       "  '_id': '1000568',\n",
       "  '_version': 1,\n",
       "  'lineage': [1000568,\n",
       "   906,\n",
       "   31977,\n",
       "   1843489,\n",
       "   909932,\n",
       "   1239,\n",
       "   1783272,\n",
       "   2,\n",
       "   131567,\n",
       "   1],\n",
       "  'parent_taxid': 906,\n",
       "  'rank': 'species',\n",
       "  'scientific_name': 'megasphaera lornae'},\n",
       " {'query': '77097',\n",
       "  '_id': '77097',\n",
       "  '_version': 1,\n",
       "  'lineage': [77097,\n",
       "   3137766,\n",
       "   28256,\n",
       "   135619,\n",
       "   1236,\n",
       "   1224,\n",
       "   3379134,\n",
       "   2,\n",
       "   131567,\n",
       "   1],\n",
       "  'parent_taxid': 3137766,\n",
       "  'rank': 'species',\n",
       "  'scientific_name': 'vreelandella aquamarina'},\n",
       " {'query': '187327',\n",
       "  '_id': '187327',\n",
       "  '_version': 1,\n",
       "  'lineage': [187327,\n",
       "   904,\n",
       "   909930,\n",
       "   1843488,\n",
       "   909932,\n",
       "   1239,\n",
       "   1783272,\n",
       "   2,\n",
       "   131567,\n",
       "   1],\n",
       "  'parent_taxid': 904,\n",
       "  'rank': 'species',\n",
       "  'scientific_name': 'acidaminococcus intestini'},\n",
       " {'query': '86665',\n",
       "  '_id': '86665',\n",
       "  '_version': 1,\n",
       "  'lineage': [86665,\n",
       "   2893055,\n",
       "   186817,\n",
       "   1385,\n",
       "   91061,\n",
       "   1239,\n",
       "   1783272,\n",
       "   2,\n",
       "   131567,\n",
       "   1],\n",
       "  'parent_taxid': 2893055,\n",
       "  'rank': 'species',\n",
       "  'scientific_name': 'halalkalibacterium halodurans'},\n",
       " {'query': '1718',\n",
       "  '_id': '1718',\n",
       "  '_version': 1,\n",
       "  'lineage': [1718, 1716, 1653, 85007, 1760, 201174, 1783272, 2, 131567, 1],\n",
       "  'parent_taxid': 1716,\n",
       "  'rank': 'species',\n",
       "  'scientific_name': 'corynebacterium glutamicum'},\n",
       " {'query': '47886',\n",
       "  '_id': '47886',\n",
       "  '_version': 1,\n",
       "  'lineage': [47886, 286, 135621, 72274, 1236, 1224, 3379134, 2, 131567, 1],\n",
       "  'parent_taxid': 286,\n",
       "  'rank': 'species',\n",
       "  'scientific_name': 'pseudomonas luteola'},\n",
       " {'query': '53431',\n",
       "  '_id': '53431',\n",
       "  '_version': 1,\n",
       "  'lineage': [53431, 1817, 85025, 85007, 1760, 201174, 1783272, 2, 131567, 1],\n",
       "  'parent_taxid': 1817,\n",
       "  'rank': 'species',\n",
       "  'scientific_name': 'nocardia salmonicida'},\n",
       " {'query': '666',\n",
       "  '_id': '666',\n",
       "  '_version': 1,\n",
       "  'lineage': [666, 662, 641, 135623, 1236, 1224, 3379134, 2, 131567, 1],\n",
       "  'parent_taxid': 662,\n",
       "  'rank': 'species',\n",
       "  'scientific_name': 'vibrio cholerae'},\n",
       " {'query': '3240790',\n",
       "  '_id': '3240790',\n",
       "  '_version': 1,\n",
       "  'lineage': [3240790, 286, 135621, 72274, 1236, 1224, 3379134, 2, 131567, 1],\n",
       "  'parent_taxid': 286,\n",
       "  'rank': 'species',\n",
       "  'scientific_name': 'pseudomonas gorinensis'},\n",
       " {'query': '2927786',\n",
       "  '_id': '2927786',\n",
       "  '_version': 1,\n",
       "  'lineage': [2927786,\n",
       "   3077908,\n",
       "   82115,\n",
       "   356,\n",
       "   28211,\n",
       "   1224,\n",
       "   3379134,\n",
       "   2,\n",
       "   131567,\n",
       "   1],\n",
       "  'parent_taxid': 3077908,\n",
       "  'rank': 'species',\n",
       "  'scientific_name': 'ferirhizobium litorale'},\n",
       " {'query': '28258',\n",
       "  '_id': '28258',\n",
       "  '_version': 1,\n",
       "  'lineage': [28258, 204286, 28256, 135619, 1236, 1224, 3379134, 2, 131567, 1],\n",
       "  'parent_taxid': 204286,\n",
       "  'rank': 'species',\n",
       "  'scientific_name': 'cobetia marina'},\n",
       " {'query': '438744',\n",
       "  '_id': '438744',\n",
       "  '_version': 1,\n",
       "  'lineage': [438744, 2745, 28256, 135619, 1236, 1224, 3379134, 2, 131567, 1],\n",
       "  'parent_taxid': 2745,\n",
       "  'rank': 'species',\n",
       "  'scientific_name': 'halomonas caseinilytica'},\n",
       " {'query': '109330',\n",
       "  '_id': '109330',\n",
       "  '_version': 1,\n",
       "  'lineage': [109330, 2013, 83676, 85012, 1760, 201174, 1783272, 2, 131567, 1],\n",
       "  'parent_taxid': 2013,\n",
       "  'rank': 'species',\n",
       "  'scientific_name': 'nocardiopsis tropica'},\n",
       " {'query': '29283',\n",
       "  '_id': '29283',\n",
       "  '_version': 1,\n",
       "  'lineage': [29283,\n",
       "   2703941,\n",
       "   56688,\n",
       "   1644056,\n",
       "   2235,\n",
       "   183963,\n",
       "   2290931,\n",
       "   28890,\n",
       "   3366610,\n",
       "   2157,\n",
       "   131567,\n",
       "   1],\n",
       "  'parent_taxid': 2703941,\n",
       "  'rank': 'species',\n",
       "  'scientific_name': 'halorubrum distributum'},\n",
       " {'query': '2714109',\n",
       "  '_id': '2714109',\n",
       "  '_version': 1,\n",
       "  'lineage': [2714109,\n",
       "   1854,\n",
       "   74712,\n",
       "   85013,\n",
       "   1760,\n",
       "   201174,\n",
       "   1783272,\n",
       "   2,\n",
       "   131567,\n",
       "   1],\n",
       "  'parent_taxid': 1854,\n",
       "  'rank': 'species',\n",
       "  'scientific_name': 'candidatus frankia meridionalis'},\n",
       " {'query': '2703885',\n",
       "  '_id': '2703885',\n",
       "  '_version': 1,\n",
       "  'lineage': [2703885,\n",
       "   34037,\n",
       "   1903411,\n",
       "   91347,\n",
       "   1236,\n",
       "   1224,\n",
       "   3379134,\n",
       "   2,\n",
       "   131567,\n",
       "   1],\n",
       "  'parent_taxid': 34037,\n",
       "  'rank': 'species',\n",
       "  'scientific_name': 'rahnella aceris'},\n",
       " {'query': '69369',\n",
       "  '_id': '69369',\n",
       "  '_version': 1,\n",
       "  'lineage': [69369, 33882, 85023, 85006, 1760, 201174, 1783272, 2, 131567, 1],\n",
       "  'parent_taxid': 33882,\n",
       "  'rank': 'species',\n",
       "  'scientific_name': 'microbacterium terrae'},\n",
       " {'query': '67351',\n",
       "  '_id': '67351',\n",
       "  '_version': 1,\n",
       "  'lineage': [67351, 1883, 2062, 85011, 1760, 201174, 1783272, 2, 131567, 1],\n",
       "  'parent_taxid': 1883,\n",
       "  'rank': 'species',\n",
       "  'scientific_name': 'streptomyces californicus'},\n",
       " {'query': '36839',\n",
       "  '_id': '36839',\n",
       "  '_version': 1,\n",
       "  'lineage': [36839, 1485, 31979, 186802, 186801, 1239, 1783272, 2, 131567, 1],\n",
       "  'parent_taxid': 1485,\n",
       "  'rank': 'species',\n",
       "  'scientific_name': 'clostridium felsineum'},\n",
       " {'query': '43776',\n",
       "  '_id': '43776',\n",
       "  '_version': 1,\n",
       "  'lineage': [43776,\n",
       "   2237,\n",
       "   1963268,\n",
       "   2235,\n",
       "   183963,\n",
       "   2290931,\n",
       "   28890,\n",
       "   3366610,\n",
       "   2157,\n",
       "   131567,\n",
       "   1],\n",
       "  'parent_taxid': 2237,\n",
       "  'rank': 'species',\n",
       "  'scientific_name': 'haloarcula argentinensis'},\n",
       " {'query': '396317',\n",
       "  '_id': '396317',\n",
       "  '_version': 1,\n",
       "  'lineage': [396317,\n",
       "   2237,\n",
       "   1963268,\n",
       "   2235,\n",
       "   183963,\n",
       "   2290931,\n",
       "   28890,\n",
       "   3366610,\n",
       "   2157,\n",
       "   131567,\n",
       "   1],\n",
       "  'parent_taxid': 2237,\n",
       "  'rank': 'species',\n",
       "  'scientific_name': 'haloarcula amylolytica'},\n",
       " {'query': '17',\n",
       "  '_id': '17',\n",
       "  '_version': 1,\n",
       "  'lineage': [17, 16, 32011, 32003, 28216, 1224, 3379134, 2, 131567, 1],\n",
       "  'parent_taxid': 16,\n",
       "  'rank': 'species',\n",
       "  'scientific_name': 'methylophilus methylotrophus'},\n",
       " {'query': '200615',\n",
       "  '_id': '200615',\n",
       "  '_version': 1,\n",
       "  'lineage': [200615, 29407, 45401, 356, 28211, 1224, 3379134, 2, 131567, 1],\n",
       "  'parent_taxid': 29407,\n",
       "  'rank': 'species',\n",
       "  'scientific_name': 'rhodoplanes serenus'},\n",
       " {'query': '93929',\n",
       "  '_id': '93929',\n",
       "  '_version': 1,\n",
       "  'lineage': [93929,\n",
       "   2335,\n",
       "   188709,\n",
       "   2419,\n",
       "   188708,\n",
       "   200918,\n",
       "   3384194,\n",
       "   2,\n",
       "   131567,\n",
       "   1],\n",
       "  'parent_taxid': 2335,\n",
       "  'rank': 'species',\n",
       "  'scientific_name': 'thermotoga petrophila'},\n",
       " {'query': '717',\n",
       "  '_id': '717',\n",
       "  '_version': 1,\n",
       "  'lineage': [717, 713, 712, 135625, 1236, 1224, 3379134, 2, 131567, 1],\n",
       "  'parent_taxid': 713,\n",
       "  'rank': 'species',\n",
       "  'scientific_name': 'actinobacillus capsulatus'},\n",
       " {'query': '323273',\n",
       "  '_id': '323273',\n",
       "  '_version': 1,\n",
       "  'lineage': [323273,\n",
       "   363408,\n",
       "   49546,\n",
       "   200644,\n",
       "   117743,\n",
       "   976,\n",
       "   68336,\n",
       "   1783270,\n",
       "   3379134,\n",
       "   2,\n",
       "   131567,\n",
       "   1],\n",
       "  'parent_taxid': 363408,\n",
       "  'rank': 'species',\n",
       "  'scientific_name': 'nonlabens tegetincola'},\n",
       " {'query': '100884',\n",
       "  '_id': '100884',\n",
       "  '_version': 1,\n",
       "  'lineage': [100884,\n",
       "   100883,\n",
       "   2810280,\n",
       "   526525,\n",
       "   526524,\n",
       "   1239,\n",
       "   1783272,\n",
       "   2,\n",
       "   131567,\n",
       "   1],\n",
       "  'parent_taxid': 100883,\n",
       "  'rank': 'species',\n",
       "  'scientific_name': 'coprobacillus cateniformis'},\n",
       " {'query': '856731',\n",
       "  '_id': '856731',\n",
       "  '_version': 1,\n",
       "  'lineage': [856731,\n",
       "   180541,\n",
       "   742031,\n",
       "   742030,\n",
       "   1236,\n",
       "   1224,\n",
       "   3379134,\n",
       "   2,\n",
       "   131567,\n",
       "   1],\n",
       "  'parent_taxid': 180541,\n",
       "  'rank': 'species',\n",
       "  'scientific_name': 'salinisphaera orenii'},\n",
       " {'query': '141390',\n",
       "  '_id': '141390',\n",
       "  '_version': 1,\n",
       "  'lineage': [141390, 42054, 28256, 135619, 1236, 1224, 3379134, 2, 131567, 1],\n",
       "  'parent_taxid': 42054,\n",
       "  'rank': 'species',\n",
       "  'scientific_name': 'chromohalobacter israelensis'},\n",
       " {'query': '36807',\n",
       "  '_id': '36807',\n",
       "  '_version': 1,\n",
       "  'lineage': [36807, 33882, 85023, 85006, 1760, 201174, 1783272, 2, 131567, 1],\n",
       "  'parent_taxid': 33882,\n",
       "  'rank': 'species',\n",
       "  'scientific_name': 'microbacterium laevaniformans'},\n",
       " {'query': '1736',\n",
       "  '_id': '1736',\n",
       "  '_version': 1,\n",
       "  'lineage': [1736, 1730, 186806, 186802, 186801, 1239, 1783272, 2, 131567, 1],\n",
       "  'parent_taxid': 1730,\n",
       "  'rank': 'species',\n",
       "  'scientific_name': 'eubacterium limosum'},\n",
       " {'query': '46632',\n",
       "  '_id': '46632',\n",
       "  '_version': 1,\n",
       "  'lineage': [46632,\n",
       "   46631,\n",
       "   46630,\n",
       "   2301,\n",
       "   183967,\n",
       "   2283796,\n",
       "   3366610,\n",
       "   2157,\n",
       "   131567,\n",
       "   1],\n",
       "  'parent_taxid': 46631,\n",
       "  'rank': 'species',\n",
       "  'scientific_name': 'picrophilus oshimae'},\n",
       " {'query': '340145',\n",
       "  '_id': '340145',\n",
       "  '_version': 1,\n",
       "  'lineage': [340145,\n",
       "   33986,\n",
       "   539742,\n",
       "   539002,\n",
       "   1385,\n",
       "   91061,\n",
       "   1239,\n",
       "   1783272,\n",
       "   2,\n",
       "   131567,\n",
       "   1],\n",
       "  'parent_taxid': 33986,\n",
       "  'rank': 'species',\n",
       "  'scientific_name': 'exiguobacterium artemiae'},\n",
       " {'query': '67367',\n",
       "  '_id': '67367',\n",
       "  '_version': 1,\n",
       "  'lineage': [67367, 1883, 2062, 85011, 1760, 201174, 1783272, 2, 131567, 1],\n",
       "  'parent_taxid': 1883,\n",
       "  'rank': 'species',\n",
       "  'scientific_name': 'streptomyces tanashiensis'},\n",
       " {'query': '93973',\n",
       "  '_id': '93973',\n",
       "  '_version': 1,\n",
       "  'lineage': [93973, 22, 267890, 135622, 1236, 1224, 3379134, 2, 131567, 1],\n",
       "  'parent_taxid': 22,\n",
       "  'rank': 'species',\n",
       "  'scientific_name': 'shewanella japonica'},\n",
       " {'query': '418699',\n",
       "  '_id': '418699',\n",
       "  '_version': 1,\n",
       "  'lineage': [418699,\n",
       "   12960,\n",
       "   2008794,\n",
       "   206389,\n",
       "   28216,\n",
       "   1224,\n",
       "   3379134,\n",
       "   2,\n",
       "   131567,\n",
       "   1],\n",
       "  'parent_taxid': 12960,\n",
       "  'rank': 'species',\n",
       "  'scientific_name': 'azoarcus olearius'},\n",
       " {'query': '243828',\n",
       "  '_id': '243828',\n",
       "  '_version': 1,\n",
       "  'lineage': [243828,\n",
       "   259357,\n",
       "   507,\n",
       "   506,\n",
       "   80840,\n",
       "   28216,\n",
       "   1224,\n",
       "   3379134,\n",
       "   2,\n",
       "   131567,\n",
       "   1],\n",
       "  'parent_taxid': 259357,\n",
       "  'rank': 'species',\n",
       "  'scientific_name': 'alcaligenes sp. pamu-1.5'},\n",
       " {'query': '2479004',\n",
       "  '_id': '2479004',\n",
       "  '_version': 1,\n",
       "  'lineage': [2479004,\n",
       "   2590666,\n",
       "   563835,\n",
       "   1853229,\n",
       "   1853228,\n",
       "   976,\n",
       "   68336,\n",
       "   1783270,\n",
       "   3379134,\n",
       "   2,\n",
       "   131567,\n",
       "   1],\n",
       "  'parent_taxid': 2590666,\n",
       "  'rank': 'species',\n",
       "  'scientific_name': 'gynurincola endophyticus'},\n",
       " {'query': '46177',\n",
       "  '_id': '46177',\n",
       "  '_version': 1,\n",
       "  'lineage': [46177, 83681, 2004, 85012, 1760, 201174, 1783272, 2, 131567, 1],\n",
       "  'parent_taxid': 83681,\n",
       "  'rank': 'species',\n",
       "  'scientific_name': 'nonomuraea pusilla'},\n",
       " {'query': '67857',\n",
       "  '_id': '67857',\n",
       "  '_version': 1,\n",
       "  'lineage': [67857, 3085664, 712, 135625, 1236, 1224, 3379134, 2, 131567, 1],\n",
       "  'parent_taxid': 3085664,\n",
       "  'rank': 'species',\n",
       "  'scientific_name': 'exercitatus varius'}]"
      ]
     },
     "execution_count": 21,
     "metadata": {},
     "output_type": "execute_result"
    }
   ],
   "execution_count": 21
  },
  {
   "metadata": {
    "ExecuteTime": {
     "end_time": "2025-07-08T21:28:51.088335Z",
     "start_time": "2025-07-08T21:28:51.086378Z"
    }
   },
   "cell_type": "code",
   "source": [
    "_ids = [taxon[\"query\"] for taxon in new_taxid_mapped]\n",
    "still_notfound = [taxid for taxid in new_taxids if taxid not in _ids]"
   ],
   "id": "2437673cc7b7d63f",
   "outputs": [],
   "execution_count": 22
  },
  {
   "metadata": {
    "ExecuteTime": {
     "end_time": "2025-07-08T21:28:51.105253Z",
     "start_time": "2025-07-08T21:28:51.103145Z"
    }
   },
   "cell_type": "code",
   "source": "len(set(_ids))",
   "id": "1417d573aea8f284",
   "outputs": [
    {
     "data": {
      "text/plain": [
       "86"
      ]
     },
     "execution_count": 23,
     "metadata": {},
     "output_type": "execute_result"
    }
   ],
   "execution_count": 23
  },
  {
   "metadata": {
    "ExecuteTime": {
     "end_time": "2025-07-08T21:28:52.755898Z",
     "start_time": "2025-07-08T21:28:51.120865Z"
    }
   },
   "cell_type": "code",
   "source": [
    "taxids = sorted([line[5] for line in line_generator(micro_disease_path)])\n",
    "print(len(taxids))\n",
    "print(len(set(taxids)))"
   ],
   "id": "9b1795b0195fd889",
   "outputs": [
    {
     "name": "stdout",
     "output_type": "stream",
     "text": [
      "Header column names:['id', 'disease_id', 'disease', 'organism', 'level', 'species_id', 'disease_samples', 'disease_mean', 'disease_median', 'disease_sd', 'health_id', 'health', 'health_samples', 'health_mean', 'health_median', 'health_sd', 'change', 'alteration', 'disease_info', 'phylum', 'class', 'order', 'family', 'genus']\n",
      "508140\n",
      "6966\n"
     ]
    }
   ],
   "execution_count": 24
  },
  {
   "metadata": {
    "ExecuteTime": {
     "end_time": "2025-07-08T21:28:52.775096Z",
     "start_time": "2025-07-08T21:28:52.773667Z"
    }
   },
   "cell_type": "code",
   "source": "",
   "id": "17559d464f7169e3",
   "outputs": [],
   "execution_count": null
  },
  {
   "metadata": {},
   "cell_type": "markdown",
   "source": "## Microbe-Metabolite",
   "id": "3f235309857942fd"
  },
  {
   "metadata": {
    "ExecuteTime": {
     "end_time": "2025-07-09T01:44:30.346990Z",
     "start_time": "2025-07-09T01:44:30.339972Z"
    }
   },
   "cell_type": "code",
   "source": [
    "def line_generator(in_file):\n",
    "    \"\"\"generates lines from a CSV file, yielding each line as a list of strings\n",
    "    This function opens the specified CSV file, skips the header row, and yields each subsequent line as a list of strings.\n",
    "\n",
    "    :param in_file: The path to the CSV file.\n",
    "    :return: An iterator that yields each line of the CSV file as a list of strings.\n",
    "    \"\"\"\n",
    "    with open(in_file, \"r\") as in_f:\n",
    "        reader = csv.reader(in_f)\n",
    "        next(reader)\n",
    "        for line in reader:\n",
    "            yield line"
   ],
   "id": "2f10c7fe2c441c0",
   "outputs": [],
   "execution_count": 34
  },
  {
   "metadata": {
    "ExecuteTime": {
     "end_time": "2025-07-09T01:44:31.022676Z",
     "start_time": "2025-07-09T01:44:31.018010Z"
    }
   },
   "cell_type": "code",
   "source": [
    "micro_meta_col_map = dict(enumerate(micro_meta_df.columns))\n",
    "micro_meta_col_map"
   ],
   "id": "75067dd8b16229d1",
   "outputs": [
    {
     "data": {
      "text/plain": [
       "{0: 'id',\n",
       " 1: 'g_micro',\n",
       " 2: 'organism',\n",
       " 3: 'g_meta',\n",
       " 4: 'metabolic',\n",
       " 5: 'pubchem_compound',\n",
       " 6: 'pubchem_id',\n",
       " 7: 'formula',\n",
       " 8: 'kegg_id',\n",
       " 9: 'tax_id',\n",
       " 10: 'phylum',\n",
       " 11: 'class',\n",
       " 12: 'order',\n",
       " 13: 'family',\n",
       " 14: 'genus',\n",
       " 15: 'species',\n",
       " 16: 'species_id',\n",
       " 17: 'source',\n",
       " 18: 'smiles_sequence',\n",
       " 19: 'HMDBID',\n",
       " 20: 'Origin'}"
      ]
     },
     "execution_count": 35,
     "metadata": {},
     "output_type": "execute_result"
    }
   ],
   "execution_count": 35
  },
  {
   "metadata": {
    "ExecuteTime": {
     "end_time": "2025-07-09T02:31:59.842442Z",
     "start_time": "2025-07-09T02:31:59.831454Z"
    }
   },
   "cell_type": "code",
   "source": [
    "micro_meta = line_generator(os.path.join(\"downloads\", \"micro_metabolic.csv\"))\n",
    "for i, line in enumerate(micro_meta):\n",
    "    if i == 4:\n",
    "        print(len(line))\n",
    "        print(line)\n",
    "    elif i == 500:\n",
    "        print(len(line))\n",
    "        print(line)\n",
    "    elif i == 1480:\n",
    "        print(len(line))\n",
    "        print(line)\n",
    "        break"
   ],
   "id": "6afe24fc26597f14",
   "outputs": [
    {
     "name": "stdout",
     "output_type": "stream",
     "text": [
      "21\n",
      "['5', 'micro1', 'Abiotrophia defectiva ATCC 49176', 'meta21', 'Meso-2,6-Diaminoheptanedioate', '(2R,6S)-2,6-diaminoheptanedioic acid', '99290', 'C7H14N2O4', 'C00680', '592010', 'Bacillota', 'Bacilli', 'Lactobacillales', 'Aerococcaceae', 'Abiotrophia', 'Abiotrophia defectiva', '46125', 'vmh', 'C(CC(C(=O)O)N)CC(C(=O)O)N', 'not available', 'Microbiota']\n",
      "21\n",
      "['501', 'micro1', 'Abiotrophia defectiva ATCC 49176', 'meta1286', 'Fructose 1,6-bisphosphate', 'Fructose 1,6-bisphosphate', '5460765', 'C6H10O12P2-4', 'C00354', '592010', 'Bacillota', 'Bacilli', 'Lactobacillales', 'Aerococcaceae', 'Abiotrophia', 'Abiotrophia defectiva', '46125', 'vmh', 'C(C1C(C(C(O1)(COP(=O)([O-])[O-])O)O)O)OP(=O)([O-])[O-]', 'HMDB0001058', 'Host; Microbiota; Food related; Drug related']\n",
      "21\n",
      "['1481', 'micro2', 'Achromobacter xylosoxidans A8', 'meta349', '2-octadec-11-enoyl-sn-glycerol 3-phosphate', '2-Octadec-11-Enoyl-Sn-Glycerol 3-Phosphate', 'not available', 'C21H40O7P1', 'not available', '762376', 'Pseudomonadota', 'Betaproteobacteria', 'Burkholderiales', 'Alcaligenaceae', 'Achromobacter', 'Alcaligenes xylosoxydans xylosoxydans', '85698', 'vmh', 'not available', 'not available', 'Unknown']\n"
     ]
    }
   ],
   "execution_count": 55
  },
  {
   "metadata": {
    "ExecuteTime": {
     "end_time": "2025-07-09T01:53:33.921725Z",
     "start_time": "2025-07-09T01:53:33.915922Z"
    }
   },
   "cell_type": "code",
   "source": [
    "for i, line in enumerate(micro_meta):\n",
    "    if len(line) != 21:\n",
    "        print(f\"Line {i} has {len(line)} columns: {line}\")"
   ],
   "id": "aea27f1c409abab3",
   "outputs": [],
   "execution_count": 49
  },
  {
   "metadata": {
    "ExecuteTime": {
     "end_time": "2025-07-09T02:32:05.732717Z",
     "start_time": "2025-07-09T02:32:02.807714Z"
    }
   },
   "cell_type": "code",
   "source": [
    "no_chem_id = []\n",
    "for line in micro_meta:\n",
    "    if \"not available\" in line[6] and \"not available\" in line[19]:\n",
    "        no_chem_id.append(line[4])\n",
    "print(len(no_chem_id))"
   ],
   "id": "5c8f641a3948fc62",
   "outputs": [
    {
     "name": "stdout",
     "output_type": "stream",
     "text": [
      "303514\n"
     ]
    }
   ],
   "execution_count": 56
  },
  {
   "metadata": {
    "ExecuteTime": {
     "end_time": "2025-07-09T02:32:27.206971Z",
     "start_time": "2025-07-09T02:32:27.189591Z"
    }
   },
   "cell_type": "code",
   "source": "print(len(set(no_chem_id)))",
   "id": "f71cb9a4847e82e3",
   "outputs": [
    {
     "name": "stdout",
     "output_type": "stream",
     "text": [
      "1349\n"
     ]
    }
   ],
   "execution_count": 59
  },
  {
   "metadata": {},
   "cell_type": "code",
   "outputs": [],
   "execution_count": null,
   "source": "",
   "id": "c1c68ac78fc9d81c"
  }
 ],
 "metadata": {
  "kernelspec": {
   "display_name": "Python 3",
   "language": "python",
   "name": "python3"
  },
  "language_info": {
   "codemirror_mode": {
    "name": "ipython",
    "version": 2
   },
   "file_extension": ".py",
   "mimetype": "text/x-python",
   "name": "python",
   "nbconvert_exporter": "python",
   "pygments_lexer": "ipython2",
   "version": "2.7.6"
  }
 },
 "nbformat": 4,
 "nbformat_minor": 5
}
