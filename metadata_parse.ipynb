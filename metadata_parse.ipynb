{
 "cells": [
  {
   "cell_type": "code",
   "id": "initial_id",
   "metadata": {
    "collapsed": true,
    "ExecuteTime": {
     "end_time": "2025-07-11T00:56:04.541735Z",
     "start_time": "2025-07-11T00:56:04.536683Z"
    }
   },
   "source": [
    "import os\n",
    "import pandas as pd\n",
    "from ete3 import NCBITaxa\n",
    "import biothings_client as bt\n",
    "import tarfile\n",
    "import csv\n",
    "import gzip\n",
    "\n",
    "from micro_disease_parser import line_generator_4_midi, get_taxon_info, load_merged_from_tar, get_current_taxid\n",
    "from micro_meta_parser import get_bigg_metabolite_mapping\n",
    "from data_utils import line_generator, check_line_fields, print_misalignment_report, check_missing_data"
   ],
   "outputs": [],
   "execution_count": 64
  },
  {
   "metadata": {
    "ExecuteTime": {
     "end_time": "2025-07-11T00:44:28.905716Z",
     "start_time": "2025-07-11T00:44:28.903217Z"
    }
   },
   "cell_type": "code",
   "source": "os.getcwd()",
   "id": "e256ce5a2cabace6",
   "outputs": [
    {
     "data": {
      "text/plain": [
       "'/Users/bailinzhang/Documents/Wu_Lab/Projects/GMMAD2'"
      ]
     },
     "execution_count": 2,
     "metadata": {},
     "output_type": "execute_result"
    }
   ],
   "execution_count": 2
  },
  {
   "metadata": {},
   "cell_type": "markdown",
   "source": "## Microbe-Disease",
   "id": "5ca17a9d719245a0"
  },
  {
   "metadata": {
    "ExecuteTime": {
     "end_time": "2025-07-11T00:44:31.560222Z",
     "start_time": "2025-07-11T00:44:29.479351Z"
    }
   },
   "cell_type": "code",
   "source": [
    "micro_disease_path = os.path.join(\"downloads\", \"disease_species.csv\")\n",
    "micro_disease = [line for line in line_generator(micro_disease_path)]"
   ],
   "id": "e08486b7b35705ec",
   "outputs": [],
   "execution_count": 3
  },
  {
   "metadata": {
    "ExecuteTime": {
     "end_time": "2025-07-11T00:44:31.571862Z",
     "start_time": "2025-07-11T00:44:31.569865Z"
    }
   },
   "cell_type": "code",
   "source": [
    "header = micro_disease[0]\n",
    "print(header)\n",
    "print(len(header))"
   ],
   "id": "28e4a85ce31826f3",
   "outputs": [
    {
     "name": "stdout",
     "output_type": "stream",
     "text": [
      "['id', 'disease_id', 'disease', 'organism', 'level', 'species_id', 'disease_samples', 'disease_mean', 'disease_median', 'disease_sd', 'health_id', 'health', 'health_samples', 'health_mean', 'health_median', 'health_sd', 'change', 'alteration', 'disease_info', 'phylum', 'class', 'order', 'family', 'genus']\n",
      "24\n"
     ]
    }
   ],
   "execution_count": 4
  },
  {
   "metadata": {
    "ExecuteTime": {
     "end_time": "2025-07-11T00:44:32.415227Z",
     "start_time": "2025-07-11T00:44:32.238679Z"
    }
   },
   "cell_type": "code",
   "source": [
    "fields = check_line_fields(micro_disease)\n",
    "print_misalignment_report(fields, len(micro_disease))"
   ],
   "id": "a6695406e91f1c19",
   "outputs": [
    {
     "name": "stdout",
     "output_type": "stream",
     "text": [
      "330467 lines have different numbers of fields out of 508142 total lines.\n",
      "Example from line 68163: ['68163', 'D012595', 'Scleroderma', ' Systemic', 'Curtobacterium flaccumfaciens', 'species', '2035', '0', '0', '0', '0', 'D006262', 'Health', '18', '0.000776612', '0.00064064', '0.000434879', '-0.00064064', 'Decrease', 'A chronic multi-system disorder of CONNECTIVE TISSUE. It is characterized by SCLEROSIS in the SKIN', ' the LUNGS', ' the HEART', ' the GASTROINTESTINAL TRACT', ' the KIDNEYS', ' and the MUSCULOSKELETAL SYSTEM. Other important features include diseased small BLOOD VESSELS and AUTOANTIBODIES. The disorder is named for its most prominent feature (hard skin)', ' and classified into subsets by the extent of skin thickening: LIMITED SCLERODERMA and DIFFUSE SCLERODERMA.', 'Actinomycetota', 'Actinomycetes', 'Micrococcales', 'Microbacteriaceae', 'Curtobacterium']\n",
      "Number of fields in this line: 31\n"
     ]
    }
   ],
   "execution_count": 5
  },
  {
   "metadata": {
    "ExecuteTime": {
     "end_time": "2025-07-11T00:53:38.892218Z",
     "start_time": "2025-07-11T00:53:35.841649Z"
    }
   },
   "cell_type": "code",
   "source": [
    "micro_disease = [line for line in line_generator_4_midi(micro_disease_path, skip_header=False)]\n",
    "for i, line in enumerate(micro_disease):\n",
    "    if i == 68162:\n",
    "        print(len(line))\n",
    "        print(line)\n",
    "        break"
   ],
   "id": "9167ca0f880c8927",
   "outputs": [
    {
     "name": "stdout",
     "output_type": "stream",
     "text": [
      "24\n",
      "['68162', 'D015212', 'Inflammatory Bowel Diseases', 'Curtobacterium flaccumfaciens', 'species', '2035', '8', '0.000436402', '0.000380536', '0.000197322', 'D006262', 'Health', '18', '0.000776612', '0.00064064', '0.000434879', '-0.000260104', 'Decrease', 'Chronic,non-specific inflammation of the GASTROINTESTINAL TRACT. Etiology may be genetic or environmental. This term includes CROHN DISEASE and ULCERATIVE COLITIS.', 'Actinomycetota', 'Actinomycetes', 'Micrococcales', 'Microbacteriaceae', 'Curtobacterium']\n"
     ]
    }
   ],
   "execution_count": 29
  },
  {
   "metadata": {
    "ExecuteTime": {
     "end_time": "2025-07-11T00:53:40.229432Z",
     "start_time": "2025-07-11T00:53:39.744192Z"
    }
   },
   "cell_type": "code",
   "source": [
    "header = micro_disease[0]\n",
    "data_rows = micro_disease[1:]\n",
    "micro_disease_df = pd.DataFrame(data_rows, columns=header)"
   ],
   "id": "873dc5aea9183113",
   "outputs": [],
   "execution_count": 30
  },
  {
   "metadata": {
    "ExecuteTime": {
     "end_time": "2025-07-11T00:53:41.016641Z",
     "start_time": "2025-07-11T00:53:41.012131Z"
    }
   },
   "cell_type": "code",
   "source": "print(micro_disease_df.columns)",
   "id": "fb08d968de26f30b",
   "outputs": [
    {
     "name": "stdout",
     "output_type": "stream",
     "text": [
      "Index(['id', 'disease_id', 'disease', 'organism', 'level', 'species_id',\n",
      "       'disease_samples', 'disease_mean', 'disease_median', 'disease_sd',\n",
      "       'health_id', 'health', 'health_samples', 'health_mean', 'health_median',\n",
      "       'health_sd', 'change', 'alteration', 'disease_info', 'phylum', 'class',\n",
      "       'order', 'family', 'genus'],\n",
      "      dtype='object')\n"
     ]
    }
   ],
   "execution_count": 31
  },
  {
   "metadata": {
    "ExecuteTime": {
     "end_time": "2025-07-11T00:54:05.732029Z",
     "start_time": "2025-07-11T00:54:00.488680Z"
    }
   },
   "cell_type": "code",
   "source": "check_missing_data(micro_disease_df)",
   "id": "88a5d5d8ed5a9db9",
   "outputs": [
    {
     "data": {
      "text/plain": [
       "{'phylum': {'not available'},\n",
       " 'class': {'not available'},\n",
       " 'order': {'not available'},\n",
       " 'family': {'not available'},\n",
       " 'genus': {'not available'}}"
      ]
     },
     "execution_count": 33,
     "metadata": {},
     "output_type": "execute_result"
    }
   ],
   "execution_count": 33
  },
  {
   "metadata": {
    "ExecuteTime": {
     "end_time": "2025-07-11T00:54:31.054959Z",
     "start_time": "2025-07-11T00:54:29.525957Z"
    }
   },
   "cell_type": "code",
   "source": [
    "taxids = [line[5] for line in line_generator_4_midi(micro_disease_path)]\n",
    "print(len(set(taxids)))"
   ],
   "id": "abd2a2d2f6f46681",
   "outputs": [
    {
     "name": "stdout",
     "output_type": "stream",
     "text": [
      "6966\n"
     ]
    }
   ],
   "execution_count": 34
  },
  {
   "metadata": {
    "ExecuteTime": {
     "end_time": "2025-07-11T00:54:33.047339Z",
     "start_time": "2025-07-11T00:54:31.825591Z"
    }
   },
   "cell_type": "code",
   "source": [
    "notfound = [\n",
    "    taxon[\"query\"]\n",
    "    for taxon in get_taxon_info(micro_disease_path)\n",
    "    if \"notfound\" in taxon.keys()\n",
    "]"
   ],
   "id": "304667571d9b9e72",
   "outputs": [],
   "execution_count": 35
  },
  {
   "metadata": {
    "ExecuteTime": {
     "end_time": "2025-07-11T00:54:33.075844Z",
     "start_time": "2025-07-11T00:54:33.073225Z"
    }
   },
   "cell_type": "code",
   "source": [
    "print(len(notfound))\n",
    "print(len(set(notfound)))"
   ],
   "id": "9013cc98a088bea5",
   "outputs": [
    {
     "name": "stdout",
     "output_type": "stream",
     "text": [
      "15\n",
      "15\n"
     ]
    }
   ],
   "execution_count": 36
  },
  {
   "metadata": {
    "ExecuteTime": {
     "end_time": "2025-07-11T00:54:33.606594Z",
     "start_time": "2025-07-11T00:54:33.107698Z"
    }
   },
   "cell_type": "code",
   "source": [
    "mapping = load_merged_from_tar(\"taxdump.tar.gz\")\n",
    "mapped_taxid = get_current_taxid(notfound, mapping)"
   ],
   "id": "6e20f0d6aa8cbe34",
   "outputs": [],
   "execution_count": 37
  },
  {
   "metadata": {
    "ExecuteTime": {
     "end_time": "2025-07-11T00:54:33.624907Z",
     "start_time": "2025-07-11T00:54:33.622167Z"
    }
   },
   "cell_type": "code",
   "source": [
    "if \"194866\" in mapping:\n",
    "    print(\"194866 is in the mapping\")\n",
    "    print(f\"current taxid for 194866: {mapping['194866']}\")\n",
    "else:\n",
    "    print(\"194866 is not in the mapping\")"
   ],
   "id": "962bd7beb66f230b",
   "outputs": [
    {
     "name": "stdout",
     "output_type": "stream",
     "text": [
      "194866 is in the mapping\n",
      "current taxid for 194866: 46624\n"
     ]
    }
   ],
   "execution_count": 38
  },
  {
   "metadata": {
    "ExecuteTime": {
     "end_time": "2025-07-11T00:54:33.759573Z",
     "start_time": "2025-07-11T00:54:33.755360Z"
    }
   },
   "cell_type": "code",
   "source": "len(mapped_taxid)",
   "id": "db5919055a656b8",
   "outputs": [
    {
     "data": {
      "text/plain": [
       "15"
      ]
     },
     "execution_count": 39,
     "metadata": {},
     "output_type": "execute_result"
    }
   ],
   "execution_count": 39
  },
  {
   "metadata": {
    "ExecuteTime": {
     "end_time": "2025-07-11T00:54:34.333525Z",
     "start_time": "2025-07-11T00:54:34.330585Z"
    }
   },
   "cell_type": "code",
   "source": [
    "new_taxids = [new for old, new in mapped_taxid.items()]\n",
    "print(len(new_taxids))\n",
    "print(len(set(new_taxids)))"
   ],
   "id": "852ff1c20351b0c5",
   "outputs": [
    {
     "name": "stdout",
     "output_type": "stream",
     "text": [
      "15\n",
      "1\n"
     ]
    }
   ],
   "execution_count": 40
  },
  {
   "metadata": {
    "ExecuteTime": {
     "end_time": "2025-07-11T00:54:34.889423Z",
     "start_time": "2025-07-11T00:54:34.886600Z"
    }
   },
   "cell_type": "code",
   "source": "print(set(new_taxids))",
   "id": "5530646e68b85c12",
   "outputs": [
    {
     "name": "stdout",
     "output_type": "stream",
     "text": [
      "{None}\n"
     ]
    }
   ],
   "execution_count": 41
  },
  {
   "metadata": {
    "ExecuteTime": {
     "end_time": "2025-07-11T00:54:35.383093Z",
     "start_time": "2025-07-11T00:54:35.379925Z"
    }
   },
   "cell_type": "code",
   "source": [
    "still_notfound = [taxid for taxid in notfound if taxid not in mapped_taxid.keys()]\n",
    "print(len(still_notfound))"
   ],
   "id": "f10d9be783831eb0",
   "outputs": [
    {
     "name": "stdout",
     "output_type": "stream",
     "text": [
      "0\n"
     ]
    }
   ],
   "execution_count": 42
  },
  {
   "metadata": {
    "ExecuteTime": {
     "end_time": "2025-07-11T00:54:37.157366Z",
     "start_time": "2025-07-11T00:54:35.980420Z"
    }
   },
   "cell_type": "code",
   "source": [
    "new_taxid_mapped = get_taxon_info(new_taxids)\n",
    "new_taxid_mapped"
   ],
   "id": "aa48d7d19fecc440",
   "outputs": [
    {
     "data": {
      "text/plain": [
       "[{'query': 'None', 'notfound': True}]"
      ]
     },
     "execution_count": 43,
     "metadata": {},
     "output_type": "execute_result"
    }
   ],
   "execution_count": 43
  },
  {
   "metadata": {
    "ExecuteTime": {
     "end_time": "2025-07-11T00:54:38.316098Z",
     "start_time": "2025-07-11T00:54:38.312999Z"
    }
   },
   "cell_type": "code",
   "source": [
    "_ids = [taxon[\"query\"] for taxon in new_taxid_mapped]\n",
    "still_notfound = [taxid for taxid in new_taxids if taxid not in _ids]"
   ],
   "id": "2437673cc7b7d63f",
   "outputs": [],
   "execution_count": 44
  },
  {
   "metadata": {
    "ExecuteTime": {
     "end_time": "2025-07-11T00:54:38.790987Z",
     "start_time": "2025-07-11T00:54:38.787398Z"
    }
   },
   "cell_type": "code",
   "source": "len(set(_ids))",
   "id": "1417d573aea8f284",
   "outputs": [
    {
     "data": {
      "text/plain": [
       "1"
      ]
     },
     "execution_count": 45,
     "metadata": {},
     "output_type": "execute_result"
    }
   ],
   "execution_count": 45
  },
  {
   "metadata": {
    "ExecuteTime": {
     "end_time": "2025-07-11T00:54:40.741265Z",
     "start_time": "2025-07-11T00:54:39.443659Z"
    }
   },
   "cell_type": "code",
   "source": [
    "taxids = sorted([line[5] for line in line_generator_4_midi(micro_disease_path)])\n",
    "print(len(taxids))\n",
    "print(len(set(taxids)))"
   ],
   "id": "9b1795b0195fd889",
   "outputs": [
    {
     "name": "stdout",
     "output_type": "stream",
     "text": [
      "508141\n",
      "6966\n"
     ]
    }
   ],
   "execution_count": 46
  },
  {
   "metadata": {
    "ExecuteTime": {
     "end_time": "2025-07-11T00:54:40.843344Z",
     "start_time": "2025-07-11T00:54:40.842046Z"
    }
   },
   "cell_type": "code",
   "source": "",
   "id": "17559d464f7169e3",
   "outputs": [],
   "execution_count": null
  },
  {
   "metadata": {},
   "cell_type": "markdown",
   "source": "## Microbe-Metabolite",
   "id": "3f235309857942fd"
  },
  {
   "metadata": {
    "ExecuteTime": {
     "end_time": "2025-07-11T00:54:44.309140Z",
     "start_time": "2025-07-11T00:54:42.317073Z"
    }
   },
   "cell_type": "code",
   "source": "micro_meta_df = pd.read_csv(os.path.join(\"downloads\", \"micro_metabolic.csv\"), low_memory=False)",
   "id": "a222335b4cad7dc5",
   "outputs": [],
   "execution_count": 47
  },
  {
   "metadata": {
    "ExecuteTime": {
     "end_time": "2025-07-11T00:54:44.325998Z",
     "start_time": "2025-07-11T00:54:44.323794Z"
    }
   },
   "cell_type": "code",
   "source": [
    "micro_meta_col_map = dict(enumerate(micro_meta_df.columns))\n",
    "micro_meta_col_map"
   ],
   "id": "75067dd8b16229d1",
   "outputs": [
    {
     "data": {
      "text/plain": [
       "{0: 'id',\n",
       " 1: 'g_micro',\n",
       " 2: 'organism',\n",
       " 3: 'g_meta',\n",
       " 4: 'metabolic',\n",
       " 5: 'pubchem_compound',\n",
       " 6: 'pubchem_id',\n",
       " 7: 'formula',\n",
       " 8: 'kegg_id',\n",
       " 9: 'tax_id',\n",
       " 10: 'phylum',\n",
       " 11: 'class',\n",
       " 12: 'order',\n",
       " 13: 'family',\n",
       " 14: 'genus',\n",
       " 15: 'species',\n",
       " 16: 'species_id',\n",
       " 17: 'source',\n",
       " 18: 'smiles_sequence',\n",
       " 19: 'HMDBID',\n",
       " 20: 'Origin'}"
      ]
     },
     "execution_count": 48,
     "metadata": {},
     "output_type": "execute_result"
    }
   ],
   "execution_count": 48
  },
  {
   "metadata": {
    "ExecuteTime": {
     "end_time": "2025-07-11T00:54:58.009946Z",
     "start_time": "2025-07-11T00:54:51.152843Z"
    }
   },
   "cell_type": "code",
   "source": "micro_meta = [line for line in line_generator(os.path.join(\"downloads\", \"micro_metabolic.csv\"), skip_header=False)]",
   "id": "6afe24fc26597f14",
   "outputs": [],
   "execution_count": 49
  },
  {
   "metadata": {
    "ExecuteTime": {
     "end_time": "2025-07-11T00:55:00.165399Z",
     "start_time": "2025-07-11T00:54:59.971306Z"
    }
   },
   "cell_type": "code",
   "source": [
    "fields = check_line_fields(micro_meta)\n",
    "print_misalignment_report(fields, len(micro_meta))"
   ],
   "id": "aea27f1c409abab3",
   "outputs": [
    {
     "name": "stdout",
     "output_type": "stream",
     "text": [
      "All lines have the same number of fields.\n"
     ]
    }
   ],
   "execution_count": 50
  },
  {
   "metadata": {
    "ExecuteTime": {
     "end_time": "2025-07-11T00:55:09.211642Z",
     "start_time": "2025-07-11T00:55:06.008264Z"
    }
   },
   "cell_type": "code",
   "source": "check_missing_data(micro_meta_df)",
   "id": "442813a29f0a7470",
   "outputs": [
    {
     "data": {
      "text/plain": [
       "{'pubchem_id': {'not available'},\n",
       " 'formula': {'not available'},\n",
       " 'kegg_id': {'not available'},\n",
       " 'tax_id': {'not available'},\n",
       " 'phylum': {'not available'},\n",
       " 'class': {'not available'},\n",
       " 'order': {'not available'},\n",
       " 'family': {'not available'},\n",
       " 'genus': {'not available'},\n",
       " 'species': {'not available'},\n",
       " 'species_id': {'not available'},\n",
       " 'smiles_sequence': {'not available'},\n",
       " 'HMDBID': {'not available'},\n",
       " 'Origin': {'Unknown'}}"
      ]
     },
     "execution_count": 51,
     "metadata": {},
     "output_type": "execute_result"
    }
   ],
   "execution_count": 51
  },
  {
   "metadata": {
    "ExecuteTime": {
     "end_time": "2025-07-11T00:55:12.948960Z",
     "start_time": "2025-07-11T00:55:12.246661Z"
    }
   },
   "cell_type": "code",
   "source": [
    "no_chem_id = []\n",
    "for line in micro_meta:\n",
    "    if \"not available\" in line[6] and \"not available\" in line[19]:\n",
    "        no_chem_id.append(line[4])\n",
    "print(len(no_chem_id))"
   ],
   "id": "5c8f641a3948fc62",
   "outputs": [
    {
     "name": "stdout",
     "output_type": "stream",
     "text": [
      "304266\n"
     ]
    }
   ],
   "execution_count": 52
  },
  {
   "metadata": {
    "ExecuteTime": {
     "end_time": "2025-07-11T00:55:13.553905Z",
     "start_time": "2025-07-11T00:55:13.528500Z"
    }
   },
   "cell_type": "code",
   "source": "print(len(set(no_chem_id)))",
   "id": "f71cb9a4847e82e3",
   "outputs": [
    {
     "name": "stdout",
     "output_type": "stream",
     "text": [
      "1349\n"
     ]
    }
   ],
   "execution_count": 53
  },
  {
   "metadata": {
    "ExecuteTime": {
     "end_time": "2025-07-11T00:55:14.632352Z",
     "start_time": "2025-07-11T00:55:14.484868Z"
    }
   },
   "cell_type": "code",
   "source": [
    "pubchem_cids = [line[6] for line in micro_meta if \"not available\" not in line[6]]\n",
    "print(len(set(pubchem_cids)))"
   ],
   "id": "c1c68ac78fc9d81c",
   "outputs": [
    {
     "name": "stdout",
     "output_type": "stream",
     "text": [
      "1572\n"
     ]
    }
   ],
   "execution_count": 54
  },
  {
   "metadata": {
    "ExecuteTime": {
     "end_time": "2025-07-11T00:55:15.394524Z",
     "start_time": "2025-07-11T00:55:15.291619Z"
    }
   },
   "cell_type": "code",
   "source": [
    "hmdb_ids = [line[19] for line in micro_meta if \"not available\" not in line[19] and \"not available\" in line[6]]\n",
    "print(len(set(hmdb_ids)))"
   ],
   "id": "8a5da9fe38342fd9",
   "outputs": [
    {
     "name": "stdout",
     "output_type": "stream",
     "text": [
      "25\n"
     ]
    }
   ],
   "execution_count": 55
  },
  {
   "metadata": {
    "ExecuteTime": {
     "end_time": "2025-07-11T00:55:16.068052Z",
     "start_time": "2025-07-11T00:55:15.892871Z"
    }
   },
   "cell_type": "code",
   "source": [
    "total_metabolites = [line[4] for line in micro_meta]\n",
    "print(len(set(total_metabolites)))"
   ],
   "id": "d0b39de081663033",
   "outputs": [
    {
     "name": "stdout",
     "output_type": "stream",
     "text": [
      "3201\n"
     ]
    }
   ],
   "execution_count": 56
  },
  {
   "metadata": {
    "ExecuteTime": {
     "end_time": "2025-07-11T00:55:19.060448Z",
     "start_time": "2025-07-11T00:55:19.058559Z"
    }
   },
   "cell_type": "code",
   "source": "",
   "id": "64f6d46e2117d152",
   "outputs": [],
   "execution_count": null
  },
  {
   "metadata": {
    "ExecuteTime": {
     "end_time": "2025-07-11T00:55:19.480631Z",
     "start_time": "2025-07-11T00:55:19.427064Z"
    }
   },
   "cell_type": "code",
   "source": "bigg_mapped = get_bigg_metabolite_mapping(os.path.join(\"downloads\", \"bigg_models_metabolites.txt\"))",
   "id": "1ebb543446010297",
   "outputs": [],
   "execution_count": 57
  },
  {
   "metadata": {
    "ExecuteTime": {
     "end_time": "2025-07-11T00:55:19.915248Z",
     "start_time": "2025-07-11T00:55:19.911864Z"
    }
   },
   "cell_type": "code",
   "source": "len(bigg_mapped)",
   "id": "6492647618a1081f",
   "outputs": [
    {
     "data": {
      "text/plain": [
       "8771"
      ]
     },
     "execution_count": 58,
     "metadata": {},
     "output_type": "execute_result"
    }
   ],
   "execution_count": 58
  },
  {
   "metadata": {
    "ExecuteTime": {
     "end_time": "2025-07-11T00:55:20.350295Z",
     "start_time": "2025-07-11T00:55:20.334355Z"
    }
   },
   "cell_type": "code",
   "source": "bigg_mapped_ids = [name.lower() for name in set(no_chem_id) if name.lower() in bigg_mapped]",
   "id": "90bb8383b72135ae",
   "outputs": [],
   "execution_count": 59
  },
  {
   "metadata": {
    "ExecuteTime": {
     "end_time": "2025-07-11T00:55:20.888807Z",
     "start_time": "2025-07-11T00:55:20.885023Z"
    }
   },
   "cell_type": "code",
   "source": "len(bigg_mapped_ids)",
   "id": "3fec4de6d2f2d15d",
   "outputs": [
    {
     "data": {
      "text/plain": [
       "264"
      ]
     },
     "execution_count": 60,
     "metadata": {},
     "output_type": "execute_result"
    }
   ],
   "execution_count": 60
  },
  {
   "metadata": {
    "ExecuteTime": {
     "end_time": "2025-07-11T00:55:22.359445Z",
     "start_time": "2025-07-11T00:55:22.312884Z"
    }
   },
   "cell_type": "code",
   "source": "set(no_chem_id)",
   "id": "74dfafe76bc1683d",
   "outputs": [
    {
     "data": {
      "text/plain": [
       "{'1-tetradec-7-enoyl-sn-glycerol 3-phosphate',\n",
       " 'mucin-type O-glycan No 77',\n",
       " 'released mucin-type O-glycan No 87',\n",
       " 'procollagen type 1 n-terminal propeptide',\n",
       " 'Diglucosyl-1,2 diisotetradecanoylglycerol',\n",
       " 'released mucin-type O-glycan No 195',\n",
       " 'Kestose (2 fru, 1 glc inulin-type fructo-oligosaccharide)',\n",
       " '1,2-Diisohexadecanoyl-sn-glycerol',\n",
       " 'R-3-hydroxypalmitoyl-[acyl-carrier protein]',\n",
       " '12-methyl-tridecanoyl-ACP',\n",
       " 'Apoprotein [acyl carrier protein]',\n",
       " 'Beta-1,6-N-acetylglucosamine-N-acetylgalactosamine',\n",
       " 'released mucin-type O-glycan No 88',\n",
       " 'C6h8n2o2_141.0657p_0n_18.9_rb_biocrustexp',\n",
       " 'mucin-type O-glycan No 124',\n",
       " 'Unk_298.1133p_0n_10.1_rb_biocrustexp',\n",
       " 'Glycogen, Structure 4 (Glycogenin-1,6-{2[1,4-Glc], [1,4-Glc]})',\n",
       " 'Isotetradecanoyllipoteichoic acid (n=24), linked, glucose substituted',\n",
       " '1,2-diisoheptadecanoyl-sn-glycerol 3-phosphate (15-methyl-hexadecanoyl, iso-C17)',\n",
       " 'released mucin-type O-glycan No 178',\n",
       " 'released mucin-type O-glycan No 186',\n",
       " 'Unk_325.2379p_0n_4.2_rb_biocrustexp',\n",
       " 'Unk_662.4849p_0n_8.6_rb_biocrustexp',\n",
       " 'mucin-type O-glycan No 146',\n",
       " 'Beta-1,3-N,N-diacetylgalactosamine',\n",
       " 'Unk_300.103p_0n_20.1_rb_biocrustexp',\n",
       " 'Unk_768.5613p_0n_7.3_rb_biocrustexp',\n",
       " 'mucin-type O-glycan No 135',\n",
       " 'mucin-type O-glycan No 86',\n",
       " '(R)-3-Hydroxyhexanoyl-[acyl-carrier protein]',\n",
       " 'Galacto-N-biose phosphate',\n",
       " 'Isopentadecanoyllipoteichoic acid (n=24), linked, D-alanine substituted',\n",
       " '3-methylbutanoyl-ACP,isovaleryl-ACP',\n",
       " 'released mucin-type O-glycan No 46',\n",
       " 'released mucin-type O-glycan No 121',\n",
       " 'DNA 5-Methylcytosine',\n",
       " 'released mucin-type O-glycan No 147',\n",
       " 'CDP-1,2-diisotetradecanoylglycerol (12-methyl-tridecanoyl, iso-C14)',\n",
       " 'Unk_230.0959p_0n_19.8_rb_biocrustexp',\n",
       " 'Unk_480.3311p_0n_22.4_rb_biocrustexp',\n",
       " '10-methyl-3-oxo-undecanoyl-ACP',\n",
       " 'C5h8n2o2_129.0666p_0n_11.3_rb_biocrustexp',\n",
       " 'Unk_312.1457p_0n_17.8_rb_biocrustexp',\n",
       " 'Unk_282.2799p_0n_4.1_rb_biocrustexp',\n",
       " 'mucin-type O-glycan No 76',\n",
       " 'released mucin-type O-glycan No 142',\n",
       " 'Unk_728.4241p_0n_4.5_rb_biocrustexp',\n",
       " 'mucin-type O-glycan No 100',\n",
       " 'Isotetradecanoyllipoteichoic acid (n=24), linked, D-alanine substituted',\n",
       " 'Unk_260.186p_0n_5.2_rb_biocrustexp',\n",
       " 'Unk_466.5358p_0n_8.2_rb_biocrustexp',\n",
       " 'Unk_603.2775p_0n_15.3_rb_biocrustexp',\n",
       " 'Unk_302.1171p_0n_19.6_rb_biocrustexp',\n",
       " 'mucin-type O-glycan No 167',\n",
       " 'Unk_826.5135p_0n_8.1_rb_biocrustexp',\n",
       " '2-methylpropionyl-ACP,isobutyryl-ACP',\n",
       " 'C12h23no_198.1841p_0n_7.2_rb_biocrustexp',\n",
       " 'Unk_834.5371p_0n_3.9_rb_biocrustexp',\n",
       " 'Unk_276.1031p_0n_15.3_rb_biocrustexp',\n",
       " 'Starch, Structure 1 (1,6-{7[1,4-Glc], 4[1,4-Glc]})',\n",
       " 'Unk_344.157p_0n_16.9_rb_biocrustexp',\n",
       " '10-Formyltetrahydrofolate-[Glu](5)',\n",
       " 'Biomass',\n",
       " 'Precorrin 3 A',\n",
       " 'CDP-1,2-dianteisopentadecanoylglycerol (12-methyl-tetradecanoyl, anteiso-C15)',\n",
       " 'mucin-type O-glycan No 112',\n",
       " 'mucin-type O-glycan No 92',\n",
       " 'released mucin-type O-glycan No 32',\n",
       " '3-Dehydro-Delta-4-Deoxycholate',\n",
       " '4,4-Diaponeurosporene',\n",
       " '(2R)-1-(3-hydroxyphenyl)-3-(2,4,6-trihydroxyphenyl)propan-2-ol',\n",
       " 'Hydroxy ethyl Thiamin diphosphate',\n",
       " 'Phosphatidylglycerol (14-methylpentadecanoyl, iso-C16)',\n",
       " 'released mucin-type O-glycan No 100',\n",
       " '1-isoheptadecanoyl-sn-glycerol 3-phosphate (15-methyl-hexadecanoyl, iso-C17)',\n",
       " 'Myristoyllipoteichoic acid (n=24), linked, D-alanine substituted',\n",
       " 'Fa11coa, Iso-C17:0 CoA   Isoheptadecanoyl-CoA',\n",
       " 'C15h22o3_0p_249.149n_6_rb_biocrustexp',\n",
       " 'Undecaprenyl-diphospho-N-acetylmuramoyl-(N-acetylglucosamine)-L-alanyl-D-glutamyl-L-lysyl-D-alanyl-D-alanine',\n",
       " 'Unk_167.0917p_0n_9.4_rb_biocrustexp',\n",
       " '1-anteisopentadecanoyl-sn-glycerol 3-phosphate (12-methyl-tetradecanoyl, anteiso-C15)',\n",
       " 'Octanoyl-ACP (n-C8:0ACP)',\n",
       " 'Oxidized Thioredoxin',\n",
       " 'Isopentadecanoyllipoteichoic acid (n=24), linked, N-acetyl-D-glucosamine',\n",
       " 'Unk_732.5578p_0n_7.3_rb_biocrustexp',\n",
       " '6hex+C7h16o7',\n",
       " '3-Dehydrocholic acid; 3oxo-7alpha,12alpha-Dihydroxy-5beta-cholan-24-oic acid',\n",
       " 'mucin-type O-glycan No 40',\n",
       " 'Tyr-194 Of Apo-Glycogenin Protein (Primer For Glycogen Synthesis)',\n",
       " 'mucin-type O-glycan No 116',\n",
       " 'mucin-type O-glycan No 130',\n",
       " 'released mucin-type O-glycan No 122',\n",
       " 'Reduced azurin',\n",
       " 'released mucin-type O-glycan No 133',\n",
       " 'Unk_976.587p_0n_8.5_rb_biocrustexp',\n",
       " 'Unk_204.0869p_0n_16.9_rb_biocrustexp',\n",
       " 'Dimer GalNAc-GlcA',\n",
       " '8-methyl-3-hydroxy-decanoyl-ACP',\n",
       " '8-methyl-decanoyl-ACP',\n",
       " 'Unk_271.1657p_0n_10.1_rb_biocrustexp',\n",
       " 'mucin-type O-glycan No 190',\n",
       " 'Unk_586.5381p_0n_3.9_rb_biocrustexp',\n",
       " 'Acyl Carrier Protein',\n",
       " 'Prenol-45n teichoic acid-glucose substituted',\n",
       " 'released mucin-type O-glycan No 180',\n",
       " 'Unk_508.5461p_0n_4.1_rb_biocrustexp',\n",
       " 'Fa3coa,Iso-C15:0 CoA   Isopentadecanoyl-CoA',\n",
       " 'Isopentadecanoyllipoteichoic acid (n=24), linked, unsubstituted',\n",
       " 'C12h25no2_216.1965p_0n_12.4_rb_biocrustexp',\n",
       " 'released mucin-type O-glycan No 131',\n",
       " 'Unk_188.1754p_0n_4.7_rb_biocrustexp',\n",
       " 'released mucin-type O-glycan No 134',\n",
       " 'Unk_195.0719p_0n_7.6_rb_biocrustexp',\n",
       " 'mucin-type O-glycan No 4',\n",
       " 'Unk_228.1772p_0n_4.3_rb_biocrustexp',\n",
       " 'Unk_181.0244p_0n_7.7_rb_biocrustexp',\n",
       " 'released mucin-type O-glycan No 7',\n",
       " '1,2-Diisotetradecanoyl-sn-glycerol',\n",
       " 'mucin-type O-glycan No 102',\n",
       " 'released mucin-type O-glycan No 113',\n",
       " 'Product GLCAASE_HS, GlcNAc-IdoA-Gal-Gal-Xyl-L-Ser (protein)',\n",
       " 'released mucin-type O-glycan No 82',\n",
       " 'Unk_201.0189p_0n_8.5_rb_biocrustexp',\n",
       " 'mucin-type O-glycan No 169',\n",
       " 'Indoleacrylyl-CoA',\n",
       " '(2R)-1-(3,4-dihydroxyphenyl)-3-(2,4,6-trihydroxyphenyl)-propan-2-ol',\n",
       " 'released mucin-type O-glycan No 102',\n",
       " 'Unk_253.0869p_0n_16.8_rb_biocrustexp',\n",
       " '6-methyl-3-oxo-heptanoyl-ACP',\n",
       " 'Fatty acid (iso-C16:0)',\n",
       " 'released mucin-type O-glycan No 26',\n",
       " 'C14h23n3o3s_314.1542p_0n_16.1_rb_biocrustexp',\n",
       " 'Unk_836.6093p_0n_4.5_rb_biocrustexp',\n",
       " 'released mucin-type O-glycan No 115',\n",
       " 'released mucin-type O-glycan No 111',\n",
       " 'Unk_800.6217p_0n_13.4_rb_biocrustexp',\n",
       " 'Unk_349.2046p_0n_21.1_rb_biocrustexp',\n",
       " 'Glycerol teichoic acid (n=45), linked, D-ala substituted',\n",
       " 'released mucin-type O-glycan No 92',\n",
       " 'Diglucosyl-1,2 diisopentadecanoylglycerol',\n",
       " 'released mucin-type O-glycan No 105',\n",
       " 'Unk_244.1113p_0n_19.3_rb_biocrustexp',\n",
       " 'mucin-type O-glycan No 175',\n",
       " 'mucin-type O-glycan No 25',\n",
       " 'released mucin-type O-glycan No 12',\n",
       " 'Unk_268.9986p_0n_43.8_rb_biocrustexp',\n",
       " 'Unk_302.1972p_0n_18_rb_biocrustexp',\n",
       " 'Dihexose',\n",
       " 'Unk_536.5839p_0n_4_rb_biocrustexp',\n",
       " 'Glutaryl-ACP Methyl Ester',\n",
       " 'mucin-type O-glycan No 78',\n",
       " 'released mucin-type O-glycan No 157',\n",
       " 'Unk_871.5782p_0n_4.2_rb_biocrustexp',\n",
       " 'Arabinoxylan, 30 xyl_D, 18 arab_L, 3 gal, 3 glc_D',\n",
       " 'Phosphatidylethanolamine (14-methyl-hexadecanoyl, anteiso-C17)',\n",
       " 'released mucin-type O-glycan No 40',\n",
       " 'Unk_462.2196p_0n_21.3_rb_biocrustexp',\n",
       " 'Dihydrocaffeoyl-glycerol',\n",
       " 'Trans-Cinnamyl-CoA',\n",
       " '2,3,23-Tetrakis(beta-hydroxymyristoyl)-D-glucosaminyl-1,6-beta-D-glucosamine 1,4-bisphosphate',\n",
       " 'released mucin-type O-glycan No 146',\n",
       " '1,2-dianteisoheptadecanoyl-sn-glycerol 3-phosphate (14-methyl-hexadecanoyl, anteiso-C17)',\n",
       " 'Pentahexose (5hex)',\n",
       " 'Unk_251.1647p_249.1486n_6.8_rb_biocrustexp',\n",
       " '1,2-Dianteisopentadecanoyl-sn-glycerol',\n",
       " '2-tetradecanoyl-sn-glycerol 3-phosphate',\n",
       " 'Unk_283.228p_0n_4_rb_biocrustexp',\n",
       " 'released mucin-type O-glycan No 2',\n",
       " 'Trihexose',\n",
       " 'mucin-type O-glycan No 36',\n",
       " 'mucin-type O-glycan No 35',\n",
       " 'Unk_0p_565.1012n_20.1_rb_biocrustexp',\n",
       " 'Unk_114.0454p_0n_4.7_rb_biocrustexp',\n",
       " 'released mucin-type O-glycan No 93',\n",
       " 'Phosphatidylethanolamine (13-methyl-tetradecanoyl, iso-C15)',\n",
       " 'Unk_802.5722p_0n_4.5_rb_biocrustexp',\n",
       " 'released mucin-type O-glycan No 10',\n",
       " '4-methyl-3-oxo-pentanoyl-ACP',\n",
       " '2-phospho-4-(cytidine 5-diphospho)-2-C-methyl-D-erythritol',\n",
       " 'mucin-type O-glycan No 178',\n",
       " '6-methyl-trans-hept-2-enoyl-ACP',\n",
       " 'C5h6o6s_0p_192.9804n_18.5_rb_biocrustexp',\n",
       " 'Unk_144.0798p_0n_15.8_rb_biocrustexp',\n",
       " 'Unk_786.5917p_0n_13.4_rb_biocrustexp',\n",
       " '4hex+C7h16o7',\n",
       " 'Laminarin (n=30 repeat units, beta -1,3 glc)',\n",
       " 'Unk_398.1758p_0n_16_rb_biocrustexp',\n",
       " 'Pectic galactan (potato), gal: arab-L: rmn: galur = 78: 9: 4: 9 (www.megazyme.com). Assumed to consist of 100 sugars per macromo... <Preview truncated at 128 characters>',\n",
       " 'Unk_298.1028p_0n_8_rb_biocrustexp',\n",
       " 'Ursocholic acid; 3alpha,7beta,12alpha-Trihydroxy-5beta-cholan-24-oic acid; 3alpha,7beta,12alpha-Trihydroxy-5beta-cholanic acid; 7beta-Hydroxyisocholic acid; 7-Epicholic acid',\n",
       " '2-Acyl-sn-glycero-3-phosphoglycerol (n-C12:0)',\n",
       " 'mucin-type O-glycan No 93',\n",
       " 'mucin-type O-glycan No 172',\n",
       " 'Unk_284.2019p_0n_4.6_rb_biocrustexp',\n",
       " 'CDPglycerol',\n",
       " 'released mucin-type O-glycan No 172',\n",
       " 'released mucin-type O-glycan No 79',\n",
       " 'Unk_258.1483p_0n_22.6_rb_biocrustexp',\n",
       " 'mucin-type O-glycan No 117',\n",
       " 'KDO(2)-lipid (A)',\n",
       " 'Phosphatidylglycerophosphate (15-methyl-hexadecanoyl, iso-C17)',\n",
       " 'Cardiolipin (14-methyl-hexadecanoyl, anteiso-C17)',\n",
       " 'Unk_244.1893p_0n_6_rb_biocrustexp',\n",
       " 'released mucin-type O-glycan No 57',\n",
       " '3-Hydroxystearoyl-ACP',\n",
       " 'mucin-type O-glycan No 168',\n",
       " 'released mucin-type O-glycan No 144',\n",
       " 'Unk_766.5415p_0n_4.3_rb_biocrustexp',\n",
       " 'mucin-type O-glycan No 161',\n",
       " '15-methyl-trans-hexa-dec-2-enoyl-ACP',\n",
       " 'released mucin-type O-glycan No 165',\n",
       " '3-Hydroxyglutaryl-ACP Methyl Ester',\n",
       " 'released mucin-type O-glycan No 35',\n",
       " 'Unk_522.6061p_0n_8.1_rb_biocrustexp',\n",
       " 'mucin-type O-glycan No 57',\n",
       " 'mucin-type O-glycan No 27',\n",
       " 'Unk_112.0769p_0n_20.5_rb_biocrustexp',\n",
       " 'released mucin-type O-glycan No 53',\n",
       " 'mucin-type O-glycan No 160',\n",
       " '7-methyl-trans-oct-2-enoyl-ACP',\n",
       " 'Unk_216.125p_0n_23.2_rb_biocrustexp',\n",
       " 'released mucin-type O-glycan No 80',\n",
       " 'mucin-type O-glycan No 107',\n",
       " 'Unk_242.1024p_0n_13.3_rb_biocrustexp',\n",
       " 'Unk_198.1135p_0n_7_rb_biocrustexp',\n",
       " 'mucin-type O-glycan No 139',\n",
       " 'C6h12n2o3_161.0928p_0n_16.9_rb_biocrustexp',\n",
       " 'mucin-type O-glycan No 72',\n",
       " 'Dodecanoyl-ACP (N-C12:0ACP)',\n",
       " 'mucin-type O-glycan No 98',\n",
       " 'Unk_513.1904p_0n_23.1_rb_biocrustexp',\n",
       " '9-methyl-trans-dec-2-enoyl-ACP',\n",
       " 'Unk_321.1524p_0n_14.1_rb_biocrustexp',\n",
       " 'C7h12n2o2_157.0971p_0n_7_rb_biocrustexp',\n",
       " 'Chondroitin Sulfate A (GalNac4S-Glca) Proteoglycan',\n",
       " 'Unk_275.1354p_0n_21.8_rb_biocrustexp',\n",
       " 'Unk_220.1148p_0n_16.4_rb_biocrustexp',\n",
       " '2,3-Dihydro-2,3-dihydroxybenzoate',\n",
       " 'Protein dithiol',\n",
       " 'Isopentadecanoyllipoteichoic acid (n=24), linked, glucose substituted',\n",
       " 'mucin-type O-glycan No 7',\n",
       " '7-methyl-3-oxo-octanoyl-ACP',\n",
       " 'mucin-type O-glycan No 123',\n",
       " 'Unk_362.2814p_0n_4.4_rb_biocrustexp',\n",
       " 'Unk_628.5539p_0n_3.9_rb_biocrustexp',\n",
       " 'released mucin-type O-glycan No 126',\n",
       " 'released mucin-type O-glycan No 14',\n",
       " 'released mucin-type O-glycan No 140',\n",
       " 'mucin-type O-glycan No 115',\n",
       " '7-Dehydrochenodeoxycholic acid; 7oxo-3alpha-hydroxy-5beta-cholan-24-oic acid',\n",
       " '1,2-Diacyl-sn-glycerol (dihexadec-9-enoyl, n-C16:1)',\n",
       " 'Isotetradecanoyllipoteichoic acid (n=24), linked, N-acetyl-D-glucosamine',\n",
       " 'Unk_746.5825p_0n_7.2_rb_biocrustexp',\n",
       " '1-isotetradecanoyl-sn-glycerol 3-phosphate (12-methyl-tridecanoyl, iso-C14)',\n",
       " 'Glycogen, Structure 5 (Glycogenin-2[1,4-Glc])',\n",
       " 'Unk_357.147p_0n_4.2_rb_biocrustexp',\n",
       " '1,2-dioctadec-11-enoyl-sn-glycerol 3-phosphate',\n",
       " 'Unk_356.1625p_0n_16.9_rb_biocrustexp',\n",
       " 'Phosphatidylglycerophosphate (dioctadec-11-enoyl, n-C18:1)',\n",
       " 'Unk_295.2229p_0n_4.4_rb_biocrustexp',\n",
       " 'Dimer GalNAc4S-IdoA2S',\n",
       " '(R)-3-(4-Hydroxyphenyl)acrylyl-CoA',\n",
       " 'Unk_391.2839p_0n_3.9_rb_biocrustexp',\n",
       " 'Trans-3-cis-5-dodecenoyl-[acyl-carrier protein]',\n",
       " 'mucin-type O-glycan No 50',\n",
       " 'Carboxybiotin-carboxyl-carrier protein',\n",
       " 'Cellulose, chain length 500 glc_D assumed, DOI: 10.1002/anie.200460587',\n",
       " 'Unk_679.2675p_677.258n_23.5_rb_biocrustexp',\n",
       " 'released mucin-type O-glycan No 192',\n",
       " 'Trans-Hexadec-2-enoyl-[acyl-carrier protein]',\n",
       " 'mucin-type O-glycan No 55',\n",
       " 'Unk_254.0832p_0n_20.4_rb_biocrustexp',\n",
       " '7hex+C7h16o7',\n",
       " 'Enoylpimeloyl-ACP methyl ester',\n",
       " 'released mucin-type O-glycan No 174',\n",
       " 'Isohexadecanoyllipoteichoic acid (n=24), linked, glucose substituted',\n",
       " 'Cis-dodec-5-enoyl-[acyl-carrier protein] (n-C12:1)',\n",
       " 'Maltopentaose',\n",
       " 'E-3-carboxy-2-pentenedioate 6-methyl ester',\n",
       " 'mucin-type O-glycan No 127',\n",
       " 'mucin-type O-glycan No 152',\n",
       " 'Glutathionyl-Cysteine',\n",
       " 'mucin-type O-glycan No 46',\n",
       " 'released mucin-type O-glycan No 119',\n",
       " '4-methyl-hexanoyl-ACP',\n",
       " 'Unk_328.137p_0n_17_rb_biocrustexp',\n",
       " 'CDP-1,2-diisopentadecanoylglycerol (13-methyl-tetradecanoyl, iso-C15)',\n",
       " 'Fa6coa,Iso-C16:0 CoA   Isohexadecanoyl-CoA',\n",
       " '1,2-Dianteisoheptadecanoyl-sn-glycerol',\n",
       " 'Product AS6TASE_HS1, GlcN2S-GlcA-GlcN2,3diS',\n",
       " 'Inner core oligosaccharide lipid A (E coli)',\n",
       " 'released mucin-type O-glycan No 64',\n",
       " '1,2-Diacyl-sn-glycerol (ditetradecanoyl, n-C14:0)',\n",
       " 'mucin-type O-glycan No 29',\n",
       " 'Trans-Dec-2-enoyl-[acyl-carrier protein]',\n",
       " '3-Dehydro-Delta-4-Chenodeoxycholate',\n",
       " 'Phosphatidylglycerol (15-methyl-hexadecanoyl, iso-C17)',\n",
       " 'mucin-type O-glycan No 180',\n",
       " '14-methyl-pentadecanoyl-ACP',\n",
       " 'mucin-type O-glycan No 108',\n",
       " 'Unk_692.4286p_0n_8_rb_biocrustexp',\n",
       " 'mucin-type O-glycan No 66',\n",
       " 'Unk_160.1138p_0n_6.7_rb_biocrustexp',\n",
       " 'DNA replication',\n",
       " 'Dehydrosqualene',\n",
       " '5-Oxo-Proline',\n",
       " 'Hexosylglycerate',\n",
       " 'Monoglucosyl-1,2 diisopentadecanoylglycerol',\n",
       " 'C10h7no3_190.0461p_0n_14.7_rb_biocrustexp',\n",
       " 'Hexahexose (6hex)',\n",
       " 'Homogalacturonan, 100 galacturonate residues. Assumed to be methylated/ acetylated in every 5th residue. Citrus HG consists of 7... <Preview truncated at 128 characters>',\n",
       " 'Unk_625.2631p_0n_15.4_rb_biocrustexp',\n",
       " '1,2-Diacyl-sn-glycerol (ditetradec-7-enoyl, n-C14:1)',\n",
       " 'Unk_531.2464p_0n_13.2_rb_biocrustexp',\n",
       " '11-methyl-3-oxo-dodecanoyl-ACP',\n",
       " 'released mucin-type O-glycan No 190',\n",
       " 'Isoheptadecanoyllipoteichoic acid (n=24), linked, N-acetyl-D-glucosamine',\n",
       " 'Unk_186.0703p_0n_15.2_rb_biocrustexp',\n",
       " '3-dehydro-Deoxycholate',\n",
       " '14-methyl-3-oxo-hexa-decanoyl-ACP',\n",
       " '3hex+C7h16o7',\n",
       " 'C9h20n2o2_189.1596p_0n_33.5_rb_biocrustexp',\n",
       " 'mucin-type O-glycan No 69',\n",
       " 'Unk_303.1407p_0n_26.6_rb_biocrustexp',\n",
       " 'mucin-type O-glycan No 194',\n",
       " 'C10h20n4o4_261.1555p_0n_27.8_rb_biocrustexp',\n",
       " 'Phosphatidylglycerol (12-methyltridecanoyl, iso-C14)',\n",
       " 'Myristoyllipoteichoic acid (n=24), linked, N-acetyl-D-glucosamine',\n",
       " 'Trans-3-cis-9-palmitoleoyl-[acyl-carrier protein]',\n",
       " 'Potato rhamnogalacturonan I, MW assumed ~200000, 62 galur, 20 rmn, 12 gal, 3 arab-L, 1 xyl-D (www.megazyme.com, PMID: 16661590)',\n",
       " 'Unk_335.0713p_0n_20.2_rb_biocrustexp',\n",
       " '(R)-3-(4-Hydroxyphenyl)propionate',\n",
       " 'released mucin-type O-glycan No 8',\n",
       " '(R)-3-Hydroxydodecanoyl-[acyl-carrier protein]',\n",
       " 'mucin-type O-glycan No 87',\n",
       " 'released mucin-type O-glycan No 45',\n",
       " 'Unk_784.5591p_0n_7.9_rb_biocrustexp',\n",
       " '5-Hydroxy-2-pentenoyl-CoA',\n",
       " '1,2-Diisoheptadecanoyl-sn-glycerol',\n",
       " 'Unk_304.2999p_0n_10.3_rb_biocrustexp',\n",
       " 'mucin-type O-glycan No 63',\n",
       " '5-Hydroxyvalerate,5-Hydroxypentanoate',\n",
       " 'Arabinan, polymer of 1,5-a-L-linked arabinofuranose units substituted by 1,3 or 1,2 linked branches, MW ~ 15000 Da (REF: www.meg... <Preview truncated at 128 characters>',\n",
       " 'mucin-type O-glycan No 28',\n",
       " 'mucin-type O-glycan No 13',\n",
       " 'Unk_758.5627p_0n_13.4_rb_biocrustexp',\n",
       " 'Unk_149.0895p_0n_19.3_rb_biocrustexp',\n",
       " '10-methyl-dodecanoyl-ACP',\n",
       " 'released mucin-type O-glycan No 76',\n",
       " 'Unk_120.0649p_0n_17.7_rb_biocrustexp',\n",
       " '1,2-Diisopentadecanoyl-sn-glycerol',\n",
       " 'released mucin-type O-glycan No 173',\n",
       " 'Unk_342.1577p_0n_17.6_rb_biocrustexp',\n",
       " 'mucin-type O-glycan No 114',\n",
       " '2-Hydroxy-Glutarate',\n",
       " 'Core 8',\n",
       " 'Isoheptadecanoyllipoteichoic acid (n=24), linked, glucose substituted',\n",
       " 'Starch n=1200 repeat units (300 repeat units amylose, 900 repeat units amylopectin, corresponds to potatoe starch)',\n",
       " 'Unk_537.5349p_0n_4.3_rb_biocrustexp',\n",
       " 'Unk_314.1781p_0n_21.1_rb_biocrustexp',\n",
       " 'Unk_457.163p_0n_25.2_rb_biocrustexp',\n",
       " 'L-Glutamyl-tRNA(Glu)',\n",
       " 'Glycerophospholipids',\n",
       " 'Myristoyllipoteichoic acid (n=24), linked, glucose substituted',\n",
       " 'Unk_222.0989p_0n_9.7_rb_biocrustexp',\n",
       " 'Unk_728.4062p_0n_14.5_rb_biocrustexp',\n",
       " '1,2-diisotetradecanoyl-sn-glycerol 3-phosphate (12-methyl-tridecanoyl, iso-C14)',\n",
       " 'mucin-type O-glycan No 121',\n",
       " 'Unk_239.146p_0n_4.7_rb_biocrustexp',\n",
       " 'Unk_388.2337p_0n_4.6_rb_biocrustexp',\n",
       " '3,4-dihydroxy-phenylalanine',\n",
       " 'released mucin-type O-glycan No 101',\n",
       " 'released mucin-type O-glycan No 34',\n",
       " 'mucin-type O-glycan No 56',\n",
       " 'Unk_374.2877p_0n_4.1_rb_biocrustexp',\n",
       " '14-methyl-3-hydroxy-hexa-decanoyl-ACP',\n",
       " 'DNA cytosine',\n",
       " '(4S)-5-(3-hydroxyphenyl)-γ-valerolactone',\n",
       " 'Pimeloyl-ACP methyl ester',\n",
       " 'Unk_239.2059p_0n_16.1_rb_biocrustexp',\n",
       " 'Unk_536.6112p_0n_8.2_rb_biocrustexp',\n",
       " '1,2-dihexadecanoyl-sn-glycerol 3-phosphate',\n",
       " '3-Oxotetradecanoyl-[acyl-carrier protein]',\n",
       " '3-Dehydro-Delta-4-Chenodeoxycholoyl-CoA',\n",
       " 'Maltose 6-phosphate',\n",
       " '15-methyl-3-hydroxy-hexa-decanoyl-ACP',\n",
       " 'C13h21n3o3_268.1669p_0n_20.3_rb_biocrustexp',\n",
       " 'Unk_300.1979p_0n_6_rb_biocrustexp',\n",
       " 'D-Tagatose 1,6-biphosphate',\n",
       " 'Unk_812.558p_0n_4_rb_biocrustexp',\n",
       " 'mucin-type O-glycan No 154',\n",
       " 'Acetyl-ACP',\n",
       " 'mucin-type O-glycan No 64',\n",
       " '3-Dehydro-Delta-4,6-Lithocholate',\n",
       " 'Octadecanoyl-ACP (N-C18:0ACP)',\n",
       " 'Unk_810.5453p_0n_4_rb_biocrustexp',\n",
       " 'Reduced Thioredoxin',\n",
       " 'Unk_994.5942p_0n_8.4_rb_biocrustexp',\n",
       " '2,3-dihydroxicinnamic acid',\n",
       " '4-(cytidine 5-diphospho)-2-C-methyl-D-erythritol',\n",
       " 'mucin-type O-glycan No 6',\n",
       " 'CDP-1,2-diisoheptadecanoylglycerol (15-methyl-hexadecanoyl, iso-C17)',\n",
       " 'mucin-type O-glycan No 41',\n",
       " 'released mucin-type O-glycan No 55',\n",
       " 'released mucin-type O-glycan No 47',\n",
       " '(4S)-5-(3,4-dihydroxyphenyl)-γ-valerolactone',\n",
       " 'Glucosyl-inner core oligosaccharide lipid A',\n",
       " 'Unk_0p_297.1528n_6.7_rb_biocrustexp',\n",
       " 'Unk_263.2126p_0n_15.7_rb_biocrustexp',\n",
       " 'released mucin-type O-glycan No 6',\n",
       " '1-Alkenyl-2-Acylglycerol',\n",
       " '14-methyl-3-hydroxy-pentadecanoyl-ACP',\n",
       " 'Phosphatidylglycerophosphate (13-methyltetradecanoyl, iso-C15)',\n",
       " 'Unk_138.0909p_0n_7.9_rb_biocrustexp',\n",
       " 'Unk_158.1507p_0n_16.3_rb_biocrustexp',\n",
       " 'Undecaprenyl-diphospho-N-acetylmuramoyl-(N-acetylglucosamine)-L-ala-D-glu-meso-2,6-diaminopimeloyl-D-ala-D-ala',\n",
       " '3-Dehydro-Chenodeoxycholoyl-CoA',\n",
       " 'released mucin-type O-glycan No 25',\n",
       " 'Tetrahydropteroyltri_L_glutamate',\n",
       " 'Citrate-Mg',\n",
       " 'released mucin-type O-glycan No 99',\n",
       " 'released mucin-type O-glycan No 22',\n",
       " 'released mucin-type O-glycan No 37',\n",
       " 'Unk_570.3509p_0n_9_rb_biocrustexp',\n",
       " 'mucin-type O-glycan No 53',\n",
       " '3-Oxododecanoyl-[acyl-carrier protein]',\n",
       " 'released mucin-type O-glycan No 193',\n",
       " 'Glucosylglycerol',\n",
       " '3-oxo-cis-palm-9-eoyl-[acyl-carrier protein]',\n",
       " 'mucin-type O-glycan No 73',\n",
       " 'Trans-Hex-2-enoyl-[acyl-carrier protein]',\n",
       " 'Unk_764.5402p_0n_4.3_rb_biocrustexp',\n",
       " 'Unk_131.0701p_0n_15_rb_biocrustexp',\n",
       " 'C7h16o7_213.0931p_211.073n_22.6_rb_biocrustexp',\n",
       " 'released mucin-type O-glycan No 159',\n",
       " 'mucin-type O-glycan No 196',\n",
       " '8-methyl-trans-dec-2-enoyl-ACP',\n",
       " 'C9h18o10s_0p_317.0547n_19.5_rb_biocrustexp',\n",
       " 'T-Antigen (Core 1)',\n",
       " 'Unk_309.2374p_0n_4_rb_biocrustexp',\n",
       " '14-methyl-trans-hexa-dec-2-enoyl-ACP',\n",
       " '1-isohexadecanoyl-sn-glycerol 3-phosphate (14-methyl-pentadecanoyl, iso-C16)',\n",
       " 'Methylcorrinoid iron sulfur protein',\n",
       " 'Unk_220.1185p_0n_14.8_rb_biocrustexp',\n",
       " 'C10h20n2o_185.1633p_0n_16.7_rb_biocrustexp',\n",
       " 'Unk_538.3202p_0n_14.2_rb_biocrustexp',\n",
       " 'released mucin-type O-glycan No 130',\n",
       " 'Unk_504.3179p_0n_5.8_rb_biocrustexp',\n",
       " 'C6h13n3o2_160.1076p_0n_10_rb_biocrustexp',\n",
       " 'Product AS3TASE_HS1, GlcN2S-GlcA-GlcN2S',\n",
       " 'Phosphatidylglycerophosphate (12-methyl-tetradecanoyl, anteiso-C15)',\n",
       " 'Unk_746.5806p_0n_4.4_rb_biocrustexp',\n",
       " 'released mucin-type O-glycan No 148',\n",
       " 'Teichuronic acid (GlcA + GalNac, 45 repeating unit)',\n",
       " 'Peptidoglycan polymer (n-1 subunits)',\n",
       " '12-methyl-trans-tridec-2-enoyl-ACP',\n",
       " '7-methyl-octanoyl-ACP',\n",
       " '7-methyl-3-hydroxy-octanoyl-ACP',\n",
       " 'mucin-type O-glycan No 33',\n",
       " 'Unk_294.1098p_0n_22_rb_biocrustexp',\n",
       " 'Unk_746.4142p_0n_17.1_rb_biocrustexp',\n",
       " 'Unk_784.553p_0n_4.4_rb_biocrustexp',\n",
       " 'mucin-type O-glycan No 60',\n",
       " 'released mucin-type O-glycan No 150',\n",
       " '3-Dehydro-Delta-4-Ursodeoxycholoyl-CoA',\n",
       " 'Amylose (n=300 repeat units, alpha-1,4-glc)',\n",
       " 'Unk_117.1036p_0n_22.6_rb_biocrustexp',\n",
       " 'Unk_118.1224p_0n_17_rb_biocrustexp',\n",
       " 'C9h18n2o4_219.134p_0n_24.2_rb_biocrustexp',\n",
       " 'Unk_281.1501p_0n_16_rb_biocrustexp',\n",
       " 'Unk_768.5573p_0n_4.2_rb_biocrustexp',\n",
       " 'released mucin-type O-glycan No 123',\n",
       " 'Kestopentaose (4 fru, 1 glc inulin-type fructo-oligosaccharide)',\n",
       " 'Unk_166.0716p_0n_14.5_rb_biocrustexp',\n",
       " 'released mucin-type O-glycan No 171',\n",
       " 'mucin-type O-glycan No 9',\n",
       " 'Unk_800.5295p_0n_8_rb_biocrustexp',\n",
       " \"3'-desmethylarctigenin\",\n",
       " 'Oligosaccharide',\n",
       " '3-Dehydro-Delta-4,6-Deoxycholate',\n",
       " 'C9h17no3_188.128p_0n_21.3_rb_biocrustexp',\n",
       " '3hex Phosphate',\n",
       " 'mucin-type O-glycan No 131',\n",
       " 'Unk_199.1315p_0n_4.4_rb_biocrustexp',\n",
       " 'Unk_85.0299p_0n_14.3_rb_biocrustexp',\n",
       " '3-Dehydro-Deoxycholate',\n",
       " 'Unk_340.142p_0n_23.2_rb_biocrustexp',\n",
       " 'Alpha-Aminoadipoyl-S-acyl enzyme',\n",
       " 'Unk_159.0791p_0n_17.5_rb_biocrustexp',\n",
       " 'C7h14n2o2_159.1121p_0n_6.5_rb_biocrustexp',\n",
       " 'Unk_181.0595p_0n_13.8_rb_biocrustexp',\n",
       " 'Monoglucosyl-1,2 dianteisopentadecanoylglycerol',\n",
       " '4-methyl-trans-pent-2-enoyl-ACP',\n",
       " 'Heparan Sulfate Proteoglycan',\n",
       " '9-methyl-3-hydroxy-decanoyl-ACP',\n",
       " 'Unk_330.1445p_0n_17.2_rb_biocrustexp',\n",
       " 'Unk_568.2998p_0n_4.2_rb_biocrustexp',\n",
       " 'mucin-type O-glycan No 134',\n",
       " 'Unk_850.5403p_0n_4_rb_biocrustexp',\n",
       " 'Unk_0p_426.9698n_4.5_rb_biocrustexp',\n",
       " 'Unk_274.1535p_0n_22.1_rb_biocrustexp',\n",
       " 'mucin-type O-glycan No 170',\n",
       " 'mucin-type O-glycan No 81',\n",
       " 'Phosphatidylglycerophosphate (didodecanoyl, n-C12:0)',\n",
       " 'mucin-type O-glycan No 148',\n",
       " 'C4h11no3_122.0807p_0n_29.7_rb_biocrustexp',\n",
       " 'Unk_344.126p_0n_20_rb_biocrustexp',\n",
       " 'Unk_272.1864p_0n_13.4_rb_biocrustexp',\n",
       " 'mucin-type O-glycan No 113',\n",
       " 'Anteisoheptadecanoyllipoteichoic acid (n=24), linked, unsubstituted',\n",
       " 'Palmitoyllipoteichoic acid (n=24), linked, D-alanine substituted',\n",
       " 'released mucin-type O-glycan No 21',\n",
       " 'Unk_178.0751p_0n_12.8_rb_biocrustexp',\n",
       " 'mucin-type O-glycan No 186',\n",
       " 'Butyryl-ACP (n-C4:0ACP)',\n",
       " 'released mucin-type O-glycan No 103',\n",
       " 'mucin-type O-glycan No 31',\n",
       " 'mucin-type O-glycan No 75',\n",
       " 'released mucin-type O-glycan No 54',\n",
       " 'released mucin-type O-glycan No 124',\n",
       " 'Anteisoheptadecanoyllipoteichoic acid (n=24), linked, N-acetyl-D-glucosamine',\n",
       " 'mucin-type O-glycan No 171',\n",
       " '1-isopentadecanoyl-sn-glycerol 3-phosphate (13-methyl-tetradecanoyl, iso-C15)',\n",
       " 'mucin-type O-glycan No 74',\n",
       " 'released mucin-type O-glycan No 182',\n",
       " 'mucin-type O-glycan No 176',\n",
       " 'CDP-1,2-diisohexadecanoylglycerol (14-methyl-pentadecanoyl, iso-C16)',\n",
       " 'Myristoyl-ACP (N-C14:0ACP)',\n",
       " 'Dimer GalNAc6S-GlcA',\n",
       " 'mucin-type O-glycan No 144',\n",
       " 'released mucin-type O-glycan No 96',\n",
       " 'released mucin-type O-glycan No 73',\n",
       " 'Unk_824.7706p_0n_5.3_rb_biocrustexp',\n",
       " 'Unk_680.4921p_0n_3.9_rb_biocrustexp',\n",
       " 'Unk_86.0608p_0n_10.5_rb_biocrustexp',\n",
       " '2-octadec-11-enoyl-sn-glycerol 3-phosphate',\n",
       " '2hex+C7h16o7',\n",
       " 'C5h8n2o2_129.0669p_0n_21.7_rb_biocrustexp',\n",
       " 'Phosphatidylglycerophosphate (14-methyl-hexadecanoyl, anteiso-C17)',\n",
       " 'Polysulfide',\n",
       " '(4R)-5-(3,4-dihydroxyphenyl)-γ-valerolactone',\n",
       " '1-anteisoheptadecanoyl-sn-glycerol 3-phosphate (14-methyl-hexadecanoyl, anteiso-C17)',\n",
       " 'mucin-type O-glycan No 80',\n",
       " 'Pentaglutamyl Folate (Thf)',\n",
       " 'Unk_296.0829p_0n_7.8_rb_biocrustexp',\n",
       " 'Glycogen(n-1)',\n",
       " 'Fatty acid (Anteiso-C15:0)',\n",
       " 'released F1alpha antigen',\n",
       " 'mucin-type O-glycan No 129',\n",
       " '3-cmp',\n",
       " 'Phosphatidylethanolamine (12-methyl-tridecanoyl, iso-C14)',\n",
       " 'released mucin-type O-glycan No 18',\n",
       " 'Fatty acid (Anteiso-C17:0)',\n",
       " 'Product AS6TASE_HS2, GlcN2S-IdoA-GlcNAc3S-GlcA-Gal-Gal-Xyl-L-Ser (protein)',\n",
       " 'mucin-type O-glycan No 54',\n",
       " 'Trans-Oct-2-enoyl-[acyl-carrier protein]',\n",
       " 'Product GAM2STASE_HS3, GlcN-IdoA-GlcNAc-GlcA-Gal-Gal-Xyl-L-Ser (protein)',\n",
       " 'Core 5',\n",
       " 'mucin-type O-glycan No 163',\n",
       " 'released mucin-type O-glycan No 135',\n",
       " 'released mucin-type O-glycan No 60',\n",
       " 'Unk_316.2128p_0n_6.1_rb_biocrustexp',\n",
       " 'mucin-type O-glycan No 42',\n",
       " 'Isohexadecanoyllipoteichoic acid (n=24), linked, unsubstituted',\n",
       " 'Enoylglutaryl-ACP Methyl Ester',\n",
       " '(4R)-4-hydroxy-5-(3-hydroxyphenyl) valeric acid',\n",
       " 'mucin-type O-glycan No 182',\n",
       " '3-ketopimeloyl-ACP methyl ester',\n",
       " 'Unk_910.6462p_0n_4.7_rb_biocrustexp',\n",
       " 'Cis-Octadec-11-Enoyl-[Acyl-Carrier Protein] (N-C18:1)',\n",
       " 'mucin-type O-glycan No 14',\n",
       " 'Diglucosyl-1,2 dipalmitoylglycerol',\n",
       " 'Unk_393.2919p_0n_4.1_rb_biocrustexp',\n",
       " 'Unk_134.0296p_0n_17.7_rb_biocrustexp',\n",
       " 'mucin-type O-glycan No 48',\n",
       " 'released mucin-type O-glycan No 163',\n",
       " 'Reduced ferredoxin',\n",
       " 'Phosphatidylserine (12-methyl-tetradecanoyl, anteiso-C15)',\n",
       " '11-methyl-trans-dodec-2-enoyl-ACP',\n",
       " 'Phosphatidylethanolamine (14-methyl-pentadecanoyl, iso-C16)',\n",
       " 'Unk_212.094p_0n_17.4_rb_biocrustexp',\n",
       " 'Unk_168.0624p_0n_15.2_rb_biocrustexp',\n",
       " 'Unk_656.5807p_0n_4_rb_biocrustexp',\n",
       " 'Kaempferol-3-sorphoroside',\n",
       " 'Unk_387.171p_0n_4.3_rb_biocrustexp',\n",
       " 'Phosphatidylserine (didodecanoyl, n-C12:0)',\n",
       " '13-methyl-trans-tetra-dec-2-enoyl-ACP',\n",
       " 'C27h50o12_584.3612p_0n_14.5_rb_biocrustexp',\n",
       " '(4R)-4-hydroxy-5-(3,4-dihydroxyphenyl) valeric acid',\n",
       " 'GlcNac-Alpha-1,4-Core 1',\n",
       " 'C11h23n3o2_230.1837p_0n_30.7_rb_biocrustexp',\n",
       " 'Unk_255.1013p_253.0852n_20_rb_biocrustexp',\n",
       " 'Gd1B',\n",
       " 'Arsenate',\n",
       " 'mucin-type O-glycan No 15',\n",
       " 'mucin-type O-glycan No 39',\n",
       " 'Glucosylglycerolphosphate',\n",
       " 'mucin-type O-glycan No 89',\n",
       " 'Unk_186.0767p_0n_4.3_rb_biocrustexp',\n",
       " 'Glu-Methionine Sulfoxide',\n",
       " 'Product IDOURASE_HS3, Gal-Gal-Xyl-L-Ser (protein)',\n",
       " 'Phosphatidylserine (ditetradecanoyl, n-C14:0)',\n",
       " 'Decanoyl-ACP (n-C10:0ACP)',\n",
       " 'Unk_1152.645p_0n_14.6_rb_biocrustexp',\n",
       " 'Unk_766.5446p_0n_7.3_rb_biocrustexp',\n",
       " 'Unk_306.2247p_0n_8.1_rb_biocrustexp',\n",
       " 'Unk_316.1329p_0n_19.4_rb_biocrustexp',\n",
       " 'Unk_349.0974p_0n_22.8_rb_biocrustexp',\n",
       " 'mucin-type O-glycan No 17',\n",
       " '8-methyl-3-oxo-decanoyl-ACP',\n",
       " 'Diglucosyl-1,2 dimyristoylglycerol',\n",
       " 'Mucolactone',\n",
       " 'Unk_281.1949p_0n_4.2_rb_biocrustexp',\n",
       " 'Phosphatidylserine (15-methyl-hexadecanoyl, iso-C17)',\n",
       " 'C10h20n4o3_245.1637p_0n_19.7_rb_biocrustexp',\n",
       " 'Unk_187.1102p_0n_4.3_rb_biocrustexp',\n",
       " 'released mucin-type O-glycan No 191',\n",
       " '14-methyl-trans-pentadec-2-enoyl-ACP',\n",
       " 'Unk_259.1094p_0n_15.4_rb_biocrustexp',\n",
       " 'Unk_415.2047p_0n_4.2_rb_biocrustexp',\n",
       " 'Unk_998.6661p_0n_10.6_rb_biocrustexp',\n",
       " 'mucin-type O-glycan No 193',\n",
       " '3,4-diHPVL',\n",
       " '6-methyl-trans-oct-2-enoyl-ACP',\n",
       " 'Phosphatidylglycerophosphate (ditetradec-7-enoyl, n-C14:1)',\n",
       " '5-methyl-trans-hex-2-enoyl-ACP',\n",
       " 'C5h7n3o_126.0666p_0n_11.3_rb_biocrustexp',\n",
       " 'C6h10n2o3_159.0721p_0n_19.7_rb_biocrustexp',\n",
       " 'Monoglucosyl-1,2 dianteisoheptadecanoylglycerol',\n",
       " 'released mucin-type O-glycan No 83',\n",
       " '(R)-3-(4-Hydroxyphenyl)propionyl-CoA',\n",
       " 'Unk_724.5112p_0n_4.2_rb_biocrustexp',\n",
       " '3-Oxooctanoyl-[acyl-carrier protein]',\n",
       " 'Phosphatidylglycerophosphate (12-methyltridecanoyl, iso-C14)',\n",
       " 'mucin-type O-glycan No 142',\n",
       " 'glycerol 2-phosphoric acid',\n",
       " 'released mucin-type O-glycan No 74',\n",
       " 'Phenolic acid',\n",
       " 'Dihydrochlorogenic acid',\n",
       " 'Lipoylprotein',\n",
       " 'Product 1 HEPARL1_e, IdoA-GlcN2,6diS-GlcA-GlcN2,3,6triS',\n",
       " 'CDP-1,2-dihexadecanoylglycerol',\n",
       " 'released Core 2',\n",
       " 'mucin-type O-glycan No 155',\n",
       " 'Unk_182.0645p_0n_14.1_rb_biocrustexp',\n",
       " 'Isotetradecanoyllipoteichoic acid (n=24), linked, unsubstituted',\n",
       " 'released mucin-type O-glycan No 187',\n",
       " 'released mucin-type O-glycan No 9',\n",
       " 'Dimer GalNAc4S-GlcA',\n",
       " 'mucin-type O-glycan No 195',\n",
       " 'released mucin-type O-glycan No 85',\n",
       " '12-methyl-3-hydroxy-tridecanoyl-ACP',\n",
       " 'Divinylprotochlorophyllide',\n",
       " 'mucin-type O-glycan No 90',\n",
       " 'Monoglucosyl-1,2 distearoylglycerol',\n",
       " 'Acetoacetyl-ACP',\n",
       " 'GlcNac-Alpha-1,4-Core 2',\n",
       " 'Unk_419.1691p_0n_4.4_rb_biocrustexp',\n",
       " 'released mucin-type O-glycan No 24',\n",
       " 'Undecaprenyl-diphospho-N-acetylmuramoyl-(N-acetylglucosamine)-L-alanyl-D-glutaminyl-L-lysyl-D-alanyl-D-alanine',\n",
       " 'mucin-type O-glycan No 94',\n",
       " 'C6h13n3o2_160.1095p_0n_20.9_rb_biocrustexp',\n",
       " 'Gt1B',\n",
       " 'C19h30n2o12_479.1877p_477.1774n_18.5_rb_biocrustexp',\n",
       " '8-methyl-trans-non-2-enoyl-ACP',\n",
       " 'Not degradable product CSABCPASE_A/B, Gal4S-Gal-Xyl-L-Ser-protein',\n",
       " 'Unk_302.2132p_0n_20.9_rb_biocrustexp',\n",
       " 'Unk_658.4025p_0n_12.9_rb_biocrustexp',\n",
       " 'Unk_928.6022p_0n_8_rb_biocrustexp',\n",
       " 'released mucin-type O-glycan No 188',\n",
       " 'Product IDOURASE_HS1, GlcN2,6diS-GlcA-GlcN2,3,6triS',\n",
       " 'Disialyl-T Antigen',\n",
       " 'Stearoyllipoteichoic acid (n=24), linked, glucose substituted',\n",
       " 'Unk_276.1059p_0n_17.2_rb_biocrustexp',\n",
       " 'S-Aminomethyldihydrolipoylprotein',\n",
       " 'mucin-type O-glycan No 79',\n",
       " 'Unk_694.3979p_0n_13.3_rb_biocrustexp',\n",
       " 'TRNA (Glu)',\n",
       " '(S)-3-Hydroxyisobutyryl Coenzyme A',\n",
       " 'Cardiolipin (13-methyl-tetradecanoyl, iso-C15)',\n",
       " 'mucin-type O-glycan No 183',\n",
       " '(R)-3-Hydroxyoctadecanoyl-[acyl-carrier protein]',\n",
       " 'C10h19n5o4_274.1799p_0n_22.8_rb_biocrustexp',\n",
       " 'Cardiolipin (12-methyl-tridecanoyl, iso-C14)',\n",
       " 'mucin-type O-glycan No 165',\n",
       " '1,2-Diacyl-sn-glycerol (dioctadec-11-enoyl, n-C18:1)',\n",
       " 'released mucin-type O-glycan No 68',\n",
       " 'Unk_665.3125p_0n_28.1_rb_biocrustexp',\n",
       " 'released mucin-type O-glycan No 161',\n",
       " 'mucin-type O-glycan No 38',\n",
       " 'Unk_1044.137p_0n_4.2_rb_biocrustexp',\n",
       " 'Unk_209.1103p_0n_16.4_rb_biocrustexp',\n",
       " 'Unk_195.0251p_0n_15.8_rb_biocrustexp',\n",
       " 'Dimethylcytidine',\n",
       " 'mucin-type O-glycan No 106',\n",
       " 'released mucin-type O-glycan No 62',\n",
       " 'Unk_288.2915p_0n_12.1_rb_biocrustexp',\n",
       " '15-methyl-3-oxo-hexa-decanoyl-ACP',\n",
       " 'mucin-type O-glycan No 162',\n",
       " 'released mucin-type O-glycan No 166',\n",
       " 'Monoglucosyl-1,2 dipalmitoylglycerol',\n",
       " 'mucin-type O-glycan No 150',\n",
       " 'Indolepropionyl-CoA',\n",
       " 'Unk_186.2228p_0n_11_rb_biocrustexp',\n",
       " '2-tetradec-7-enoyl-sn-glycerol 3-phosphate',\n",
       " 'Unk_271.1234p_0n_16.3_rb_biocrustexp',\n",
       " 'Monoglucosyl-1,2 dimyristoylglycerol',\n",
       " 'Pullulan (n=1200 repeat units, alpha-1,4 and alph-1,6 bounds)',\n",
       " 'released Core 4',\n",
       " 'Phosphatidylglycerophosphate (ditetradecanoyl, n-C14:0)',\n",
       " '1-Acyl-sn-glycero-3-phosphoethanolamine (n-C14:0)',\n",
       " 'Unk_288.1924p_0n_22.1_rb_biocrustexp',\n",
       " 'Guanosine 3,5-bis(diphosphate)',\n",
       " 'released mucin-type O-glycan No 132',\n",
       " 'Product AS3TASE_HS2, GlcN2S-IdoA-GlcNAc-GlcA-Gal-Gal-Xyl-L-Ser (protein)',\n",
       " 'type I collagen cross-linked c-telopeptide',\n",
       " 'Unk_866.5347p_0n_4.4_rb_biocrustexp',\n",
       " 'C8h15o8_195.1223p_0n_7.8_rb_biocrustexp',\n",
       " 'Phenyllactyl-CoA',\n",
       " 'Unk_654.3343p_0n_3.9_rb_biocrustexp',\n",
       " 'Unk_123.0545p_0n_7.6_rb_biocrustexp',\n",
       " 'Unk_728.1891p_726.1732n_28.7_rb_biocrustexp',\n",
       " 'released mucin-type O-glycan No 38',\n",
       " 'Unk_231.1424p_0n_20.1_rb_biocrustexp',\n",
       " '(R)-3-Hydroxytetradecanoyl-[acyl-carrier protein]',\n",
       " '10-methyl-undecanoyl-ACP',\n",
       " 'Diglucosyl-1,2 dianteisopentadecanoylglycerol',\n",
       " '5_Methyltetrahydropteroyltri_L_glutamate',\n",
       " 'released mucin-type O-glycan No 107',\n",
       " 'Unk_189.1215p_0n_20.5_rb_biocrustexp',\n",
       " '1-octadec-11-enoyl-sn-glycerol 3-phosphate',\n",
       " 'Unk_692.4242p_0n_4.6_rb_biocrustexp',\n",
       " 'Unk_0p_213.963n_7.4_rb_biocrustexp',\n",
       " '11-methyl-3-hydroxy-dodecanoyl-ACP',\n",
       " 'Beta-1,6-N,N-diacetylgalactosamine',\n",
       " 'Glucosamine 2,6-sulfate',\n",
       " 'Unk_774.252p_0n_20.8_rb_biocrustexp',\n",
       " 'C11h22n2o3_231.1709p_0n_24_rb_biocrustexp',\n",
       " 'mucin-type O-glycan No 185',\n",
       " '3-hydroxypimeloyl-ACP methyl ester',\n",
       " 'Unk_668.3243p_0n_13.5_rb_biocrustexp',\n",
       " 'Xyluglucan, PMID:16663672, Fry SC 1989. 600 glc_D, 360 xyl_D, 108 gal, 60 fuc_L, 6 arab_L',\n",
       " '6-methyl-3-hydroxy-heptanoyl-ACP',\n",
       " 'C8h16n2o3_189.1239p_0n_22.2_rb_biocrustexp',\n",
       " '10-methyl-trans-dodec-2-enoyl-ACP',\n",
       " 'Unk_202.2159p_0n_12.5_rb_biocrustexp',\n",
       " '(2E)-Octadecenoyl-ACP',\n",
       " 'Phehylacetyl phosphate',\n",
       " 'Protein disulfide',\n",
       " 'released mucin-type O-glycan No 17',\n",
       " 'Unk_276.107p_0n_14.9_rb_biocrustexp',\n",
       " 'Peptidoglycan polymer (n subunits)',\n",
       " '11-methyl-dodecanoyl-ACP',\n",
       " 'Unk_812.4166p_810.3997n_22.8_rb_biocrustexp',\n",
       " 'Product IS2TASE_HS1, IdoA-GlcN2,6diS-IdoA-GlcNAc3S-GlcA-Gal-Gal-Xyl-L-Ser (protein)',\n",
       " 'N-Alpha-Acetyl-Asparagine',\n",
       " 'released mucin-type O-glycan No 75',\n",
       " 'C9h18n2o3_203.14p_0n_21.7_rb_biocrustexp',\n",
       " '1,2-dioctadecanoyl-sn-glycerol 3-phosphate',\n",
       " 'Anteisopentadecanoyllipoteichoic acid (n=24), linked, N-acetyl-D-glucosamine',\n",
       " 'Phosphatidylglycerol (14-methyl-hexadecanoyl, anteiso-C17)',\n",
       " 'mucin-type O-glycan No 10',\n",
       " 'C21h42o4_376.34p_0n_4.2_rb_biocrustexp',\n",
       " '(2S)-1-(3,4-dihydroxyphenyl)-3-(2,4,6-trihydroxyphenyl) propan-2-ol',\n",
       " 'Kestotetraose (3 fru, 1 glc inulin-type fructo-oligosaccharide)',\n",
       " 'C9h18n2o2_187.1452p_0n_10.3_rb_biocrustexp',\n",
       " 'mucin-type O-glycan No 2',\n",
       " 'Hydroxyphehylacetyl phosphate',\n",
       " '2,3-Bis(3-hydroxytetradecanoyl)-beta-D-glucosaminyl 1-phosphate',\n",
       " 'Ferrichrome',\n",
       " 'Unk_836.5569p_817.5176n_3.9_rb_biocrustexp',\n",
       " '2-methylbutanoyl-ACP,2-methylbutyryl-ACP',\n",
       " 'Unk_141.1142p_0n_21.5_rb_biocrustexp',\n",
       " 'released mucin-type O-glycan No 139',\n",
       " 'Unk_536.5688p_0n_4.1_rb_biocrustexp',\n",
       " 'Dihydroneopterin monophosphate',\n",
       " '(4S)-4-hydroxy-5-(3-hydroxyphenyl) valeric acid',\n",
       " 'Myristoyllipoteichoic acid (n=24), linked, unsubstituted',\n",
       " 'Unk_816.55p_0n_4.5_rb_biocrustexp',\n",
       " '6-methyl-3-oxo-octanoyl-ACP',\n",
       " 'Unk_720.5623p_0n_4.5_rb_biocrustexp',\n",
       " 'Phosphatidylethanolamine (15-methyl-hexadecanoyl, iso-C17)',\n",
       " 'released mucin-type O-glycan No 29',\n",
       " 'released sialyl-Tn antigen',\n",
       " 'Diglucosyl-1,2 diisoheptadecanoylglycerol',\n",
       " 'Peptide-L-methionine (R)-S-oxide',\n",
       " 'Ferricytochrome C',\n",
       " '4-methyl-3-oxo-hexanoyl-ACP',\n",
       " 'Glycerol teichoic acid (n=45), linked, glucose substituted',\n",
       " 'released mucin-type O-glycan No 117',\n",
       " 'Core oligosaccharide lipid A',\n",
       " 'Hexanesulfonate',\n",
       " 'released mucin-type O-glycan No 69',\n",
       " 'Unk_180.1021p_0n_15.2_rb_biocrustexp',\n",
       " 'released mucin-type O-glycan No 50',\n",
       " 'released mucin-type O-glycan No 98',\n",
       " '12-methyl-3-oxo-tridecanoyl-ACP',\n",
       " '3-Dehydro-Ursodeoxycholoyl-CoA',\n",
       " 'Unk_496.3518p_0n_7.9_rb_biocrustexp',\n",
       " 'Chondroitin Sulfate C (GalNac6S-Glca) Proteoglycan',\n",
       " 'Unk_197.1192p_0n_4.4_rb_biocrustexp',\n",
       " 'C7h14n2o3_175.108p_0n_20.3_rb_biocrustexp',\n",
       " 'Unk_484.2587p_0n_10.3_rb_biocrustexp',\n",
       " 'mucin-type O-glycan No 147',\n",
       " 'Chondroitin Sulfate B / Dermatan Sulfate (Idoa2S-GalNac4S) Proteoglycan',\n",
       " 'released mucin-type O-glycan No 41',\n",
       " 'released mucin-type O-glycan No 16',\n",
       " 'Phosphatidylserine (14-methyl-hexadecanoyl, anteiso-C17)',\n",
       " 'mucin-type O-glycan No 30',\n",
       " 'released mucin-type O-glycan No 128',\n",
       " 'Unk_285.2229p_0n_4.1_rb_biocrustexp',\n",
       " 'Unk_287.1359p_0n_23.2_rb_biocrustexp',\n",
       " 'Unk_361.2922p_0n_4.2_rb_biocrustexp',\n",
       " 'released mucin-type O-glycan No 91',\n",
       " 'Trans-Dodec-2-enoyl-[acyl-carrier protein]',\n",
       " 'C9h17no_156.1381p_0n_7.8_rb_biocrustexp',\n",
       " 'Unk_204.0431p_0n_19.4_rb_biocrustexp',\n",
       " 'mucin-type O-glycan No 120',\n",
       " 'Palmitoyllipoteichoic acid (n=24), linked, glucose substituted',\n",
       " '4-Hydroxynitrobenzene, p-Nitrophenol',\n",
       " '1,2-diisopentadecanoyl-sn-glycerol 3-phosphate (13-methyl-tetradecanoyl, iso-C15)',\n",
       " 'Unk_287.234p_0n_23.9_rb_biocrustexp',\n",
       " 'mucin-type O-glycan No 58',\n",
       " 'Unk_199.1804p_0n_16.4_rb_biocrustexp',\n",
       " 'Hexosylglycerol',\n",
       " 'Product GLCNACASE_HS2, GlcA-GlcNAc-IdoA-Gal-Gal-Xyl-L-Ser (protein)',\n",
       " 'mucin-type O-glycan No 128',\n",
       " 'Unk_257.0965p_0n_24.6_rb_biocrustexp',\n",
       " 'Unk_381.1503p_0n_19.7_rb_biocrustexp',\n",
       " 'Konjac glucomannan, MW 77,500 (PMID:17962981), Man:Glc ~ 2:1. -> 286 man, 143 glc_D',\n",
       " 'mucin-type O-glycan No 158',\n",
       " 'Formyl-Methionyl Peptide',\n",
       " 'C11h17no7_276.1152p_0n_16.5_rb_biocrustexp',\n",
       " 'Phosphatidylserine (12-methyl-tridecanoyl, iso-C14)',\n",
       " 'released mucin-type O-glycan No 183',\n",
       " 'Unk_584.5314p_0n_3.9_rb_biocrustexp',\n",
       " 'released GlcNAc-alpha-1,4-Core 2',\n",
       " '(3R)-3-Hydroxyacyl-[acyl-carrier protein]',\n",
       " 'Isoheptadecanoyllipoteichoic acid (n=24), linked, unsubstituted',\n",
       " 'mucin-type O-glycan No 16',\n",
       " 'mucin-type O-glycan No 119',\n",
       " 'mucin-type O-glycan No 143',\n",
       " 'released mucin-type O-glycan No 137',\n",
       " 'mucin-type O-glycan No 188',\n",
       " 'mucin-type O-glycan No 164',\n",
       " 'released mucin-type O-glycan No 177',\n",
       " 'Fa4coa,Anteiso-C15:0 CoA   Anteisopentadecanoyl-CoA',\n",
       " 'released mucin-type O-glycan No 189',\n",
       " 'Unk_507.2632p_0n_30.1_rb_biocrustexp',\n",
       " 'Phosphatidylglycerophosphate (14-methylpentadecanoyl, iso-C16)',\n",
       " 'Phosphatidylglycerol (ditetradec-7-enoyl, n-C14:1)',\n",
       " 'Unk_653.3015p_0n_3.9_rb_biocrustexp',\n",
       " 'C8h15no3_174.1125p_0n_21.4_rb_biocrustexp',\n",
       " '13-methyl-3-oxo-tetra-decanoyl-ACP',\n",
       " 'Sialyl-Tn Antigen',\n",
       " 'Unk_401.1956p_0n_24.8_rb_biocrustexp',\n",
       " 'released mucin-type O-glycan No 77',\n",
       " 'Monoglucosyl-1,2 diisohexadecanoylglycerol',\n",
       " '(R)-3-hydroxy-cis-palm-9-eoyl-[acyl-carrier protein]',\n",
       " 'Levantetraose',\n",
       " 'Sialyl-T Antigen',\n",
       " 'Unk_174.1221p_0n_20.1_rb_biocrustexp',\n",
       " 'Unk_855.4774p_0n_11.7_rb_biocrustexp',\n",
       " '4-methyl-3-hydroxy-hexanoyl-ACP',\n",
       " 'Unk_978.5983p_0n_8.6_rb_biocrustexp',\n",
       " 'Stearoyllipoteichoic acid (n=24), linked, D-alanine substituted',\n",
       " 'Unk_729.3423p_0n_28_rb_biocrustexp',\n",
       " 'Unk_167.0515p_0n_17.5_rb_biocrustexp',\n",
       " 'mucin-type O-glycan No 109',\n",
       " 'Unk_205.1196p_0n_20.9_rb_biocrustexp',\n",
       " 'released mucin-type O-glycan No 143',\n",
       " '8-methyl-nonanoyl-ACP',\n",
       " 'released disialyl-T antigen',\n",
       " 'mucin-type O-glycan No 191',\n",
       " 'Mercaptohistidine Betaine',\n",
       " 'released mucin-type O-glycan No 129',\n",
       " 'Dimer GalNAc-IdoA',\n",
       " '13-methyl-3-hydroxy-tetra-decanoyl-ACP',\n",
       " 'mucin-type O-glycan No 179',\n",
       " 'Unk_290.2663p_0n_8_rb_biocrustexp',\n",
       " '1,2-Diacyl-sn-glycerol (dihexadecanoyl, n-C16:0)',\n",
       " 'Anteisopentadecanoyllipoteichoic acid (n=24), linked, unsubstituted',\n",
       " 'C7h14n2o3_175.107p_0n_23.4_rb_biocrustexp',\n",
       " 'released mucin-type O-glycan No 167',\n",
       " '1,2-ditetradec-7-enoyl-sn-glycerol 3-phosphate',\n",
       " '1-hexadecanoyl-sn-glycerol 3-phosphate',\n",
       " '2-dodecanoyl-sn-glycerol 3-phosphate',\n",
       " 'released mucin-type O-glycan No 116',\n",
       " 'released mucin-type O-glycan No 19',\n",
       " 'Core 4',\n",
       " 'mucin-type O-glycan No 138',\n",
       " 'Core 6',\n",
       " 'mucin-type O-glycan No 166',\n",
       " 'released mucin-type O-glycan No 170',\n",
       " 'Diglucosyl-1,2 diisohexadecanoylglycerol',\n",
       " 'released mucin-type O-glycan No 179',\n",
       " '3-Dehydro-Delta-4-Ursodeoxycholate',\n",
       " 'released mucin-type O-glycan No 72',\n",
       " '12-Dehydrocholic acid; 12-Oxodeoxycholic acid; 12oxo-3alpha,7alpha-Dihydroxy-5beta-cholan-24-oic acid',\n",
       " 'Cardiolipin (15-methyl-hexadecanoyl, iso-C17)',\n",
       " 'mucin-type O-glycan No 103',\n",
       " 'Trans-3-cis-7-myristoleoyl-[acyl-carrier protein]',\n",
       " 'released mucin-type O-glycan No 58',\n",
       " 'Unk_998.6592p_0n_8.2_rb_biocrustexp',\n",
       " 'Unk_181.0945p_0n_6.1_rb_biocrustexp',\n",
       " 'Unk_149.0292p_0n_4_rb_biocrustexp',\n",
       " '2,5-Diamino-6-(ribosylamino)-4-(3H)-pyrimidinone 5-phosphate',\n",
       " 'Unk_233.0618p_0n_18.5_rb_biocrustexp',\n",
       " 'released mucin-type O-glycan No 194',\n",
       " 'Malonyl-[Acyl-Carrier Protein]',\n",
       " '14-methyl-hexa-decanoyl-ACP',\n",
       " '(R)-3-Hydroxyoctanoyl-[acyl-carrier protein]',\n",
       " 'mucin-type O-glycan No 84',\n",
       " 'released mucin-type O-glycan No 185',\n",
       " 'Unk_371.1806p_0n_19.2_rb_biocrustexp',\n",
       " '3-Ketoglutaryl-ACP Methyl Ester',\n",
       " 'mucin-type O-glycan No 59',\n",
       " 'Unk_694.2936p_692.2762n_16.4_rb_biocrustexp',\n",
       " '3-Dehydrochenodeoxychollyc acid; 7oxo-3alpha-hydroxy-5beta-cholan-24-oic acid',\n",
       " 'Monoglucosyl-1,2 diisoheptadecanoylglycerol',\n",
       " 'Phosphatidylserine (dioctadec-11-enoyl, n-C18:1)',\n",
       " 'mucin-type O-glycan No 3',\n",
       " 'Unk_459.1863p_0n_21.8_rb_biocrustexp',\n",
       " '14-methyl-3-oxo-pentadecanoyl-ACP',\n",
       " 'released mucin-type O-glycan No 114',\n",
       " '3-oxo-cis-dodec-5-enoyl-[acyl-carrier protein]',\n",
       " 'mucin-type O-glycan No 12',\n",
       " '(4R)-5-(3-hydroxyphenyl)-γ-valerolactone',\n",
       " 'Unk_352.1933p_0n_4.2_rb_biocrustexp',\n",
       " 'released mucin-type O-glycan No 90',\n",
       " 'released mucin-type O-glycan No 110',\n",
       " 'Unk_387.1806p_0n_6.4_rb_biocrustexp',\n",
       " 'Unk_484.2498p_0n_14.8_rb_biocrustexp',\n",
       " 'Not degradable product CSABCPASE_C, Gal6S-Gal-Xyl-L-Ser-protein',\n",
       " 'Unk_183.0975p_0n_14.5_rb_biocrustexp',\n",
       " 'released mucin-type O-glycan No 89',\n",
       " '9-methyl-3-oxo-decanoyl-ACP',\n",
       " '1,2-dianteisopentadecanoyl-sn-glycerol 3-phosphate (12-methyl-tetradecanoyl, anteiso-C15)',\n",
       " 'Unk_403.1335p_0n_19.7_rb_biocrustexp',\n",
       " 'Unk_664.4641p_0n_4.5_rb_biocrustexp',\n",
       " 'Unk_638.2512p_0n_21.5_rb_biocrustexp',\n",
       " 'Diglucosyl-1,2 distearoylglycerol',\n",
       " 'C-(3-Indolyl)-glycerol 3-phosphate',\n",
       " 'Indolelactyl-CoA',\n",
       " 'Unk_640.3337p_0n_4.2_rb_biocrustexp',\n",
       " 'Unk_217.1045p_0n_6.3_rb_biocrustexp',\n",
       " 'C6h7no2_126.0558p_0n_8.9_rb_biocrustexp',\n",
       " 'Unk_298.1223p_0n_17.8_rb_biocrustexp',\n",
       " '3-Dehydro-Choloyl-CoA',\n",
       " 'released mucin-type O-glycan No 36',\n",
       " 'Anteisopentadecanoyllipoteichoic acid (n=24), linked, glucose substituted',\n",
       " '12-methyl-trans-tetra-dec-2-enoyl-ACP',\n",
       " 'Alpha-mannan, yeast, has a MW of about 25000 (PMID: 5461381), equals ~ 140 mannose units. ID according to iMM904',\n",
       " 'C10h20n2o3_217.1546p_0n_24.2_rb_biocrustexp',\n",
       " 'Unk_796.5885p_0n_6.9_rb_biocrustexp',\n",
       " 'mucin-type O-glycan No 24',\n",
       " 'Unk_854.4743p_0n_11.9_rb_biocrustexp',\n",
       " 'mucin-type O-glycan No 20',\n",
       " 'Holo-Lys2',\n",
       " 'mucin-type O-glycan No 19',\n",
       " 'mucin-type O-glycan No 156',\n",
       " 'C6h6n4o_151.0613p_0n_11.2_rb_biocrustexp',\n",
       " 'Anteisopentadecanoyllipoteichoic acid (n=24), linked, D-alanine substituted',\n",
       " 'Unk_403.177p_0n_6.6_rb_biocrustexp',\n",
       " 'Unk_574.3239p_0n_7.9_rb_biocrustexp',\n",
       " 'Unk_270.3165p_0n_12.9_rb_biocrustexp',\n",
       " 'released mucin-type O-glycan No 23',\n",
       " 'Unk_116.0679p_0n_15.3_rb_biocrustexp',\n",
       " 'Unk_288.2928p_0n_9.9_rb_biocrustexp',\n",
       " 'Unk_360.1249p_0n_20_rb_biocrustexp',\n",
       " 'CDP-1,2-dianteisoheptadecanoylglycerol (14-methyl-hexadecanoyl, anteiso-C17)',\n",
       " '10-methyl-3-hydroxy-dodecanoyl-ACP',\n",
       " 'Unk_130.1592p_0n_13.4_rb_biocrustexp',\n",
       " 'Unk_242.2861p_0n_13.1_rb_biocrustexp',\n",
       " 'released mucin-type O-glycan No 95',\n",
       " 'C7h15no2_146.1187p_0n_25.5_rb_biocrustexp',\n",
       " 'Unk_744.425p_0n_13_rb_biocrustexp',\n",
       " 'mucin-type O-glycan No 104',\n",
       " '3-Dehydro-Delta-4-Choloate',\n",
       " 'Unk_103.954p_0n_13_rb_biocrustexp',\n",
       " 'Unk_962.602p_0n_8.3_rb_biocrustexp',\n",
       " 'Unk_298.1679p_0n_4.6_rb_biocrustexp',\n",
       " 'N-Acetyl-beta-D-mannosaminyl-1,4-N-acetyl-D- glucosaminyldiphosphoundecaprenol',\n",
       " '3-Oxohexanoyl-[acyl-carrier protein]',\n",
       " 'Unk_244.1911p_0n_6_rb_biocrustexp',\n",
       " 'Unk_257.1855p_0n_11.1_rb_biocrustexp',\n",
       " '1-Acyl-sn-glycero-3-phosphoethanolamine (n-C12:0)',\n",
       " 'mucin-type O-glycan No 136',\n",
       " 'But-2-enoyl-[acyl-carrier protein]',\n",
       " 'Unk_256.1155p_0n_6_rb_biocrustexp',\n",
       " 'Mannotriose (beta-1,4)',\n",
       " 'Fatty acid (Iso-C15:0)',\n",
       " 'mucin-type O-glycan No 5',\n",
       " 'Phosphatidylethanolamine (ditetradec-7-enoyl, n-C14:1)',\n",
       " 'Unk_794.5718p_0n_7.2_rb_biocrustexp',\n",
       " 'Unk_354.1542p_0n_17.2_rb_biocrustexp',\n",
       " '8hex+C7h16o7',\n",
       " 'C7h8o3s',\n",
       " 'N-Acetyl-Aspartic Acid',\n",
       " 'Product IDOURASE_HS2, GlcN2,6diS-IdoA-GlcNAc3S-GlcA-Gal-Gal-Xyl-L-Ser (protein)',\n",
       " ...}"
      ]
     },
     "execution_count": 61,
     "metadata": {},
     "output_type": "execute_result"
    }
   ],
   "execution_count": 61
  },
  {
   "metadata": {},
   "cell_type": "code",
   "source": "",
   "id": "ce756533a3409339",
   "outputs": [],
   "execution_count": null
  },
  {
   "metadata": {},
   "cell_type": "markdown",
   "source": "## Metabolite - Gene",
   "id": "acac041c670e0703"
  },
  {
   "metadata": {
    "ExecuteTime": {
     "end_time": "2025-07-11T00:55:38.469423Z",
     "start_time": "2025-07-11T00:55:38.217596Z"
    }
   },
   "cell_type": "code",
   "source": "meta_gene_df = pd.read_csv(os.path.join(\"downloads\", \"meta_gene_net.csv\"), low_memory=False)",
   "id": "47bed473d19a6278",
   "outputs": [],
   "execution_count": 62
  },
  {
   "metadata": {
    "ExecuteTime": {
     "end_time": "2025-07-11T00:55:39.148869Z",
     "start_time": "2025-07-11T00:55:39.144700Z"
    }
   },
   "cell_type": "code",
   "source": "dict(enumerate(meta_gene_df.columns))",
   "id": "c67271343f8a0172",
   "outputs": [
    {
     "data": {
      "text/plain": [
       "{0: 'id',\n",
       " 1: 'g_meta',\n",
       " 2: 'compound',\n",
       " 3: 'pubchem_id',\n",
       " 4: 'formula',\n",
       " 5: 'kegg_id',\n",
       " 6: 'HMDBID',\n",
       " 7: 'drug_id',\n",
       " 8: 'drug_name',\n",
       " 9: 'Origin',\n",
       " 10: 'smiles_sequence',\n",
       " 11: 'gene_id',\n",
       " 12: 'gene',\n",
       " 13: 'ensembl_id',\n",
       " 14: 'NCBI',\n",
       " 15: 'HGNC',\n",
       " 16: 'UniProt',\n",
       " 17: 'protein_size',\n",
       " 18: 'annonation',\n",
       " 19: 'score',\n",
       " 20: 'alteration',\n",
       " 21: 'PMID',\n",
       " 22: 'source'}"
      ]
     },
     "execution_count": 63,
     "metadata": {},
     "output_type": "execute_result"
    }
   ],
   "execution_count": 63
  },
  {
   "metadata": {
    "ExecuteTime": {
     "end_time": "2025-07-11T00:56:46.450511Z",
     "start_time": "2025-07-11T00:56:45.669473Z"
    }
   },
   "cell_type": "code",
   "source": "meta_gene_data = [line for line in line_generator(os.path.join(\"downloads\", \"meta_gene_net.csv\"), skip_header=False)]",
   "id": "7b2ac6c68345d03e",
   "outputs": [],
   "execution_count": 65
  },
  {
   "metadata": {
    "ExecuteTime": {
     "end_time": "2025-07-11T00:57:29.696405Z",
     "start_time": "2025-07-11T00:57:29.570685Z"
    }
   },
   "cell_type": "code",
   "outputs": [
    {
     "name": "stdout",
     "output_type": "stream",
     "text": [
      "All lines have the same number of fields.\n"
     ]
    }
   ],
   "execution_count": 68,
   "source": [
    "fields = check_line_fields(meta_gene_data)\n",
    "print_misalignment_report(fields, len(meta_gene_data))"
   ],
   "id": "cf7766ea624c3461"
  },
  {
   "metadata": {
    "ExecuteTime": {
     "end_time": "2025-07-11T00:57:38.523277Z",
     "start_time": "2025-07-11T00:57:38.520489Z"
    }
   },
   "cell_type": "code",
   "source": [
    "for i, line in enumerate(meta_gene_data):\n",
    "    if i == 2:\n",
    "        print(len(line))\n",
    "        print(line)\n",
    "        break"
   ],
   "id": "2d86606f27474546",
   "outputs": [
    {
     "name": "stdout",
     "output_type": "stream",
     "text": [
      "23\n",
      "['2', 'meta2', '(1,6-alpha-D-Glucosyl)m', '3662', '(C12H20O10)n', 'C00372', 'not available', 'Not available', 'Not available', 'Microbiota; Food related; Drug related', 'CC(C)C(=O)C12C(=O)C(=C(C(C1=O)(CC(C2(C)CCC=C(C)C)CC=C(C)C)CC=C(C)C)O)CC=C(C)C', 'g380', 'ALOX5', 'ENSG00000012779', '240', '435', 'P09917', '674', 'This gene encodes a member of the lipoxygenase gene family and plays a dual role in the synthesis of leukotrienes from arachidonic acid. The encoded protein, which is expressed specifically in bone marrow-derived cells, catalyzes the conversion of arachidonic acid to 5(S)-hydroperoxy-6-trans-8,11,14-cis-eicosatetraenoic acid, and further to the allylic epoxide 5(S)-trans-7,9-trans-11,14-cis-eicosatetrenoic acid (leukotriene A4). Leukotrienes are important mediators of a number of inflammatory and allergic conditions. Mutations in the promoter region of this gene lead to a diminished response to antileukotriene drugs used in the treatment of asthma and may also be associated with atherosclerosis and several cancers. Alternatively spliced transcript variants encoding different isoforms have been found for this gene. [provided by RefSeq, Jan 2012]', '0.879', 'Unknown', 'Not available', 'stitch']\n"
     ]
    }
   ],
   "execution_count": 69
  },
  {
   "metadata": {
    "ExecuteTime": {
     "end_time": "2025-07-10T23:36:00.170504Z",
     "start_time": "2025-07-10T23:36:00.168588Z"
    }
   },
   "cell_type": "code",
   "source": "",
   "id": "4555bfa4009bfe42",
   "outputs": [],
   "execution_count": null
  },
  {
   "metadata": {
    "ExecuteTime": {
     "end_time": "2025-07-11T01:06:26.776053Z",
     "start_time": "2025-07-11T01:06:26.337562Z"
    }
   },
   "cell_type": "code",
   "source": [
    "print(len(check_missing_data(meta_gene_df)))\n",
    "check_missing_data(meta_gene_df)"
   ],
   "id": "4897f0a39ece76d4",
   "outputs": [
    {
     "name": "stdout",
     "output_type": "stream",
     "text": [
      "16\n"
     ]
    },
    {
     "data": {
      "text/plain": [
       "{'pubchem_id': {'Not available'},\n",
       " 'formula': {'not available'},\n",
       " 'kegg_id': {'not available'},\n",
       " 'HMDBID': {'not available'},\n",
       " 'drug_id': {'Not available'},\n",
       " 'drug_name': {'Not available'},\n",
       " 'Origin': {'Unknown'},\n",
       " 'smiles_sequence': {'not available'},\n",
       " 'ensembl_id': {'Not available'},\n",
       " 'NCBI': {'Not available'},\n",
       " 'HGNC': {'Not available'},\n",
       " 'UniProt': {'Not available'},\n",
       " 'annonation': {'Not Available'},\n",
       " 'score': {'Not available'},\n",
       " 'alteration': {'Unknown'},\n",
       " 'PMID': {'Not available'}}"
      ]
     },
     "execution_count": 76,
     "metadata": {},
     "output_type": "execute_result"
    }
   ],
   "execution_count": 76
  },
  {
   "metadata": {
    "ExecuteTime": {
     "end_time": "2025-07-11T01:00:33.647872Z",
     "start_time": "2025-07-11T01:00:33.642031Z"
    }
   },
   "cell_type": "code",
   "source": "meta_gene_df[\"pubchem_id\"].unique()",
   "id": "3c0b59515c2e70e4",
   "outputs": [
    {
     "data": {
      "text/plain": [
       "array(['3662', '339', '11213350', '439194', '99290', '440847', '193305',\n",
       "       '440878', '222656', '439888', '440854', '439400', '439417',\n",
       "       '439430', '217', 'Not available', '5280626', '439960', '92135',\n",
       "       '439350', '225936', '440162', '439982', '5459811', '11966158',\n",
       "       '11966160', '440873', '11966173', '11966216', '11966179',\n",
       "       '11966177', '440077', '5462303', '439269', '1172', '3081033',\n",
       "       '535', '4', '263', '445395', '443201', '27476', '79143', '457',\n",
       "       '440932', '9547180', '68161', '1031', '440282', '5462190', '428',\n",
       "       '10442', '1045', '439153', '44140569', '14080393', '24970825',\n",
       "       '10308378', '79034', '9963391', '91451', '440043', '13730',\n",
       "       '188966', '12599', '13711', '65091', '13712', '65063', '101812',\n",
       "       '800', '5287432', '1530', '1000', '5280673', '65275', '363',\n",
       "       '6657', '1015', '469', '6119', '5281909', '192781', '9378', '524',\n",
       "       '92779', '5462148', '11266', '7866', '43', '11970', '77',\n",
       "       '3080745', '23724627', '23724626', '296', '193425', '8314',\n",
       "       '439371', '193872', '515', '6443760', '7055', '14536300', '71',\n",
       "       '58', '51', '7680', '7012', '439278', '59', '529', '955', '262',\n",
       "       '650', '79050', '61', '444873', '439294', '865', '54580480',\n",
       "       '126747', '101543', '348154', '10394', '128', '64956', '75',\n",
       "       '440649', '439742', '439273', '15942880', '160647', '119228', '86',\n",
       "       '7420', '441', '644065', '181976', '450268', '87', '11966188',\n",
       "       '89', '11966171', '68152', '964', '3744', '5462261', '160645',\n",
       "       '98', '23724625', '49', '47', '5280836', '340', '99', '71448892',\n",
       "       '93', '11966155', '440604', '3082152', '11966162', '868',\n",
       "       '11966197', '107', '24892762', '724', '111', '440046', '72',\n",
       "       '151725', '119219', '547', '91528', '7424', '70807', '115254',\n",
       "       '1669', '473', '440901', '18189', '777', '978', '118', '5280398',\n",
       "       '500', '599', '1059', '69248', '126', '135', '125', '10413', '322',\n",
       "       '440113', '127', '979', '825', '5280393', '70', '1137', '9958',\n",
       "       '12587', '378', '6723', '62453', '6131', '439176', '439182',\n",
       "       '130805', '561', '18666812', '193516', '161500', '138', '124343',\n",
       "       '443736', '439280', '250388', '164719', '440745', '3032849',\n",
       "       '18986', '65040', '445408', '439963', '16757', '439905', '119405',\n",
       "       '675', '72924', '5280835', '91493', '168989', '123743', '173',\n",
       "       '1923', '480764', '5280442', '17513', '177', '178', '1983', '175',\n",
       "       '96', '92153', '179', '444493', '187', '12035', '186', '6579',\n",
       "       '190', '60961', '159296', '6022', '10238', '5957', '6076', '192',\n",
       "       '6083', '440758', '196', '441006', '16500', '199', '5950',\n",
       "       '128841', '5462210', '5280413', '5280650', '203', '204', '150833',\n",
       "       '160603', '82400', '450272', '48', '84571', '7339', '215', '137',\n",
       "       '100714', '222', '439207', '227', '5280443', '10467', '440936',\n",
       "       '64981', '6322', '47364', '54670067', '6267', '5960', '440122',\n",
       "       '5488822', '240', '2331', '2337', '243', '244', '239', '5280489',\n",
       "       '439709', '9831622', '64689', '122250', '439427', '65369', '6134',\n",
       "       '160663', '247', '249', '439520', '5280353', '83814', '171548',\n",
       "       '5326875', '261', '104775', '264', '122283', '273', '689043',\n",
       "       '5460341', '2969', '276', '278', '280', '165388', '439224', '289',\n",
       "       '123727', '439244', '294', '10133', '11966205', '312', '439664',\n",
       "       '5280795', '5997', '221493', '305', '657272', '485', '644071',\n",
       "       '5281607', '637511', '444539', '440014', '440015', '643757',\n",
       "       '13804', '311', '9750', '445888', '23724496', '5460183', '87642',\n",
       "       '123996', '5283546', '440776', '321', '221122', '586', '588',\n",
       "       '637090', '5497143', '135398570', '834', '6058', '25701', '5862',\n",
       "       '439498', '67678', '6175', '6132', '66535', '448209', '597',\n",
       "       '10712', '10786', '71080', '439507', '94154', '439268', '193886',\n",
       "       '188324', '92851', '122357', '24154', '5460111', '6036', '439452',\n",
       "       '439213', '5793', '94715', '23327', '443223', '441339', '165105',\n",
       "       '61503', '92824', '18950', '644175', '84815', '8988', '123658',\n",
       "       '439184', '71077', '439396', '5460056', '439692', '135191',\n",
       "       '5289590', '151020', '5281708', '5881', '12594', '5376004',\n",
       "       '222528', '13945', '150855', '439287', '45934311', '439975',\n",
       "       '145729', '65070', '444485', '643', '62698', '21706', '446013',\n",
       "       '663', '648', '185914', '93556', '649', '670', '668', '1068',\n",
       "       '679', '647', '674', '5281612', '3848', '602', '595', '10010',\n",
       "       '779', '875', '681', '439292', '439293', '439324', '126041',\n",
       "       '3081439', '637517', '115089', '91469', '222285', '5870',\n",
       "       '3001028', '702', '700', '174', '166760', '445713', '29936',\n",
       "       '643975', '643976', '712', '713', '283', '284', '439233',\n",
       "       '3082032', '65246', '105021', '69507', '444972', '3037582',\n",
       "       '11850', '18068', '440994', '370', '119', '440920', '53297342',\n",
       "       '193475', '123938', '442424', '5280961', '445995', '447277',\n",
       "       '11679800', '119307', '6426949', '33037', '7027', '439217',\n",
       "       '439165', '5958', '129297', '33032', '5961', '10171468', '743',\n",
       "       '3081383', '124886', '440772', '751', '439168', '752', '683',\n",
       "       '753', '754', '5283468', '160913', '750', '5317750', '10140',\n",
       "       '756', '757', '99282', '123913', '92829', '11163', '79101', '760',\n",
       "       '135398634', '135398635', '15719509', '6184', '449118', '464',\n",
       "       '774', '152657', '6274', '776', '28371', '780', '1738', '783',\n",
       "       '768', '784', '533', '402', '785', '788', '6238', '5810',\n",
       "       '135398638', '5318980', '150841', '96215', '3080609', '798', '802',\n",
       "       '8617', '10256', '92904', '803', '10258', '135398641', '135398640',\n",
       "       '892', '107737', '6590', '3036931', '1198', '10357', '1195',\n",
       "       '6557', '10430', '165435', '811', '5280863', '3845', '444718',\n",
       "       '440033', '440724', '5484352', '123935', '96801', '99288',\n",
       "       '439255', '439195', '16950', '93078', '439258', '1549098',\n",
       "       '5459802', '17106', '6857362', '439373', '165271', '439398',\n",
       "       '9085', '65072', '91552', '12647', '441039', '6306', '107689',\n",
       "       '158980', '21236', '6262', '439227', '7405', '644111', '160556',\n",
       "       '439192', '439837', '439966', '22253', '855', '612', '440993',\n",
       "       '11333', '246983', '3893', '165436', '6106', '440946', '439555',\n",
       "       '10917', '6047', '5280450', '5280934', '863', '6112', '9903',\n",
       "       '5326566', '5280445', '5962', '444266', '525', '867', '644066',\n",
       "       '5288409', '8369', '6255', '870', '871', '27854', '6251', '65127',\n",
       "       '1662', '896', '872', '5287554', '638129', '201434', '165390',\n",
       "       '297', '878', '887', '6137', '847', '443198', '64947', '94214',\n",
       "       '6329', '880', '10111', '487', '123909', '10349', '439230',\n",
       "       '24621', '5281672', '11005', '92180', '440304', '84265', '903',\n",
       "       '35717', '16019956', '439174', '439219', '439281', '11426583',\n",
       "       '7345', '6180', '65065', '656979', '70914', '440236', '68310',\n",
       "       '5462244', '439197', '440272', '10972', '439232', '122356',\n",
       "       '65249', '92907', '80654', '88412', '502', '439376', '439788',\n",
       "       '439750', '546304', '439377', '439791', '9727', '440121', '439544',\n",
       "       '123831', '673', '496', '916', '440848', '127370', '5892', '5884',\n",
       "       '11318', '439246', '5280960', '936', '14180', '439924', '937',\n",
       "       '938', '165491', '943', '145068', '946', '948', '5281656',\n",
       "       '447272', '439389', '99478', '3246323', '151187', '71448891',\n",
       "       '379', '5280651', '445639', '5497111', '967', '160617', '970',\n",
       "       '971', '972', '456', '11966123', '65359', '977', '2879', '4615423',\n",
       "       '439559', '985', '445638', '644109', '6613', '440217', '13849',\n",
       "       '827', '5281125', '1001', '996', '998', '999', '165620', '92258',\n",
       "       '68144', '6140', '997', '4788', '359', '10214', '1014', '1005',\n",
       "       '105', '490', '11988267', '1092', '68841', '5280784', '5284607',\n",
       "       '1018', '385', '3082140', '849', '162859', '1021', '5462222',\n",
       "       '11954200', '8955', '193735', '5994', '145742', '440863', '1034',\n",
       "       '527', '104745', '1032', '92753', '107738', '1030', '439833',\n",
       "       '4971', '1050', '1051', '1052', '1053', '1054', '1055', '1057',\n",
       "       '1024', '1060', '5280343', '5280459', '6508', '1066', '439242',\n",
       "       '638015', '445354', '493570', '1074', '447123', '439846', '1076',\n",
       "       '440336', '439155', '439415', '34755', '189122', '174549',\n",
       "       '160666', '439503', '440938', '5146', '1088', '446317', '65373',\n",
       "       '5459879', '164735', '1090', '98223', '5951', '5202', '8742',\n",
       "       '5780', '1102', '1103', '91486', '638072', '439531', '5281',\n",
       "       '94140', '10457', '1110', '1112', '5988', '644101', '1117', '1099',\n",
       "       '31257', '119400', '1123', '387316', '6675', '11966124',\n",
       "       '135444742', '6042', '1131', '1084', '440064', '6288', '5789',\n",
       "       '164628', '9700', '64968', '1135', '5526', '24883423', '11966175',\n",
       "       '11966172', '7427', '122336', '444795', '14925', '1146', '1145',\n",
       "       '5885', '983', '1150', '6305', '10685', '5460935', '5610', '6057',\n",
       "       '440098', '10942192', '1169', '5280604', '1174', '1176', '279',\n",
       "       '1175', '6029', '6031', '8629', '1167', '10705', '17473', '6030',\n",
       "       '736715', '440775', '1179', '31401', '7991', '6287', '8468',\n",
       "       '1188', '64959', '73323', '1190', '5699', '6912'], dtype=object)"
      ]
     },
     "execution_count": 75,
     "metadata": {},
     "output_type": "execute_result"
    }
   ],
   "execution_count": 75
  },
  {
   "metadata": {
    "ExecuteTime": {
     "end_time": "2025-07-11T00:58:07.669539Z",
     "start_time": "2025-07-11T00:58:07.655729Z"
    }
   },
   "cell_type": "code",
   "source": "meta_gene_df[\"Origin\"].unique()",
   "id": "e1e56386e1c17891",
   "outputs": [
    {
     "data": {
      "text/plain": [
       "array(['Microbiota; Food related; Drug related',\n",
       "       'Host; Microbiota; Food related', 'Unknown', 'Microbiota',\n",
       "       'Host; Microbiota; Food related; Drug related',\n",
       "       'Microbiota; Food related', 'Host; Microbiota',\n",
       "       'Microbiota; Drug related',\n",
       "       'Microbiota; Food related; Drug related; Environment',\n",
       "       'Microbiota; Food related; Environment',\n",
       "       'Host; Microbiota; Food related; Drug related; Environment',\n",
       "       'Host; Microbiota; Food related; Environment',\n",
       "       'Host; Microbiota; Drug related'], dtype=object)"
      ]
     },
     "execution_count": 70,
     "metadata": {},
     "output_type": "execute_result"
    }
   ],
   "execution_count": 70
  },
  {
   "metadata": {
    "ExecuteTime": {
     "end_time": "2025-07-11T00:58:34.797546Z",
     "start_time": "2025-07-11T00:58:34.789609Z"
    }
   },
   "cell_type": "code",
   "source": "meta_gene_df[\"alteration\"].unique()",
   "id": "8e5fd54e6277df9c",
   "outputs": [
    {
     "data": {
      "text/plain": [
       "array(['Unknown', 'elevated', 'reduced', 'target', 'Inhibitor',\n",
       "       'Activator'], dtype=object)"
      ]
     },
     "execution_count": 72,
     "metadata": {},
     "output_type": "execute_result"
    }
   ],
   "execution_count": 72
  },
  {
   "metadata": {
    "ExecuteTime": {
     "end_time": "2025-07-11T00:58:43.605139Z",
     "start_time": "2025-07-11T00:58:43.600614Z"
    }
   },
   "cell_type": "code",
   "source": "meta_gene_df[\"source\"].unique()",
   "id": "1978782928747270",
   "outputs": [
    {
     "data": {
      "text/plain": [
       "array(['stitch', 'gutMGene', 'stitch, gutMGene', 'stitch, drugbank',\n",
       "       'drugbank'], dtype=object)"
      ]
     },
     "execution_count": 73,
     "metadata": {},
     "output_type": "execute_result"
    }
   ],
   "execution_count": 73
  },
  {
   "metadata": {
    "ExecuteTime": {
     "end_time": "2025-07-11T01:06:47.573642Z",
     "start_time": "2025-07-11T01:06:47.565686Z"
    }
   },
   "cell_type": "code",
   "source": "meta_gene_df[\"PMID\"].unique()",
   "id": "9c2b389150e0062f",
   "outputs": [
    {
     "data": {
      "text/plain": [
       "array(['Not available', '31142855', '25913757', '25749343', '26879219',\n",
       "       '30401435', '19865172', '32795610', '16534848', '28266623',\n",
       "       '31734354', '21178864', '23300800', '30683619', '25382172',\n",
       "       '30767231', '21889493', '19966295', '28658542', '26241311',\n",
       "       '30566883'], dtype=object)"
      ]
     },
     "execution_count": 77,
     "metadata": {},
     "output_type": "execute_result"
    }
   ],
   "execution_count": 77
  },
  {
   "metadata": {},
   "cell_type": "code",
   "outputs": [],
   "execution_count": null,
   "source": "",
   "id": "6a0bd1444c5616a"
  }
 ],
 "metadata": {
  "kernelspec": {
   "display_name": "Python 3",
   "language": "python",
   "name": "python3"
  },
  "language_info": {
   "codemirror_mode": {
    "name": "ipython",
    "version": 2
   },
   "file_extension": ".py",
   "mimetype": "text/x-python",
   "name": "python",
   "nbconvert_exporter": "python",
   "pygments_lexer": "ipython2",
   "version": "2.7.6"
  }
 },
 "nbformat": 4,
 "nbformat_minor": 5
}
